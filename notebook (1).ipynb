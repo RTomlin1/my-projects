{
 "cells": [
  {
   "cell_type": "markdown",
   "id": "dfac210a-c07b-4e1a-b630-e5aeb0d023a4",
   "metadata": {},
   "source": [
    "\n",
    "<div style=\"border:solid blue 2px; padding: 20px\">\n",
    "\n",
    "**Hello Regan,**\n",
    "\n",
    "\n",
    "Thank you for carefully addressing all the feedback from previous review. I appreciate the attention to detail you've shown in improving each aspect - the project looks excellent now.\n",
    "\n",
    "Congratulations on your accomplishment! Your project has been accepted, marking another exciting milestone in your journey. The quality of your work demonstrates impressive growth, and I'm confident you'll continue to excel in future projects.\n",
    "\n",
    "Keep up the outstanding work! ✨"
   ]
  },
  {
   "cell_type": "markdown",
   "id": "d22d74ba-7ebe-442e-803b-95e559c658b8",
   "metadata": {},
   "source": [
    "\n",
    "<div style=\"border:solid blue 2px; padding: 20px\">\n",
    "\n",
    "**Hello Regan,**\n",
    "\n",
    "Congratulations on submitting your second Python practical project! 🎉  \n",
    "\n",
    "You’re making fantastic progress, and each project you complete brings you one step closer to mastering the core skills of data analysis. Your dedication and effort are clearly reflected in your work — you should feel proud of this achievement!  \n",
    "\n",
    "Keep up the great momentum — let’s dive into the project together.  \n",
    "\n",
    "---\n",
    "\n",
    "You’ll find specific notes throughout the project file, marked in green, yellow, or red. Here’s a quick guide to what each color means.  \n",
    "\n",
    "**Note:** Please don’t remove or alter these comments — they help guide both your own revision process and any future reviews.  \n",
    "\n",
    "<div class=\"alert alert-success\"; style=\"border-left: 7px solid green\">\n",
    "<b>✅ Reviewer’s Comment</b>  \n",
    "\n",
    "These highlight strong solutions and great ideas that you can apply to future projects.  \n",
    "</div>  \n",
    "\n",
    "<div class=\"alert alert-warning\"; style=\"border-left: 7px solid gold\">\n",
    "<b>⚠️ Reviewer’s Comment</b>  \n",
    "\n",
    "These point out areas where the project could be improved. Revisions aren't required, but making them will strengthen your work.  \n",
    "</div>  \n",
    "\n",
    "<div class=\"alert alert-danger\"; style=\"border-left: 7px solid red\">\n",
    "<b>⛔️ Reviewer’s Comment</b>  \n",
    "\n",
    "These indicate issues that need to be addressed before the project can be accepted.  \n",
    "</div>  \n",
    "\n",
    "---\n",
    "\n",
    "**Project Review Summary:**  \n",
    "\n",
    "**✅ What Went Well:**  \n",
    "\n",
    "- **Data Pre-Processing:** You showed a solid grasp of Python by applying appropriate techniques to clean and prepare the data. Great job!\n",
    "  \n",
    "- **Code Quality:** Your code is well-structured and easy to follow — a great demonstration of both your technical ability and attention to clean, maintainable code.\n",
    "  \n",
    "- **Data Visualization:** The charts you created answered the analysis questions clearly. They were thoughtfully designed and added strong value to your insights. Excellent work!\n",
    "\n",
    "**🔧 Areas for Improvement:**  \n",
    "\n",
    "- Specific suggestions are marked directly in the notebook.  \n",
    "\n",
    "---\n",
    "\n",
    "Feel free to add your own comments, share thoughts on the changes you’ve made, or ask questions using the format below. Just copy and paste it into a Markdown cell:\n",
    "\n",
    "```\n",
    "\n",
    "<div class=\"alert alert-info\"; style=\"border-left: 7px solid blue\">\n",
    "<b>Student’s Comment</b></div>\n",
    "```  \n",
    "\n",
    "It will appear like this:\n",
    "\n",
    "<div class=\"alert alert-info\"; style=\"border-left: 7px solid blue\">\n",
    "<b>Student’s Comment</b></div>  \n",
    "\n",
    "---\n",
    "\n",
    "Revisions are a normal and important part of the learning process, so don’t get discouraged! Take your time, review the feedback, and make the necessary updates. Once you're ready, resubmit the project — I’m confident you’ll do great.\n",
    "\n",
    "Every challenge is a chance to grow. You’ve got this! 🏄\n",
    "\n",
    "</div>\n"
   ]
  },
  {
   "cell_type": "markdown",
   "id": "dafcfda4-03ec-40b7-9a59-6e21ad6a2447",
   "metadata": {
    "id": "dafcfda4-03ec-40b7-9a59-6e21ad6a2447"
   },
   "source": [
    "# Instacart Market Basket Analysis"
   ]
  },
  {
   "cell_type": "markdown",
   "id": "7c513406-9b90-479c-ab2f-a02f79ade6fc",
   "metadata": {
    "id": "7c513406-9b90-479c-ab2f-a02f79ade6fc"
   },
   "source": [
    "## Importing the required libraries"
   ]
  },
  {
   "cell_type": "code",
   "execution_count": 1,
   "id": "fbf1adab",
   "metadata": {
    "id": "fbf1adab"
   },
   "outputs": [],
   "source": [
    "# Import the libraries you'll need for this analysis\n",
    "import pandas as pd\n",
    "import matplotlib.pyplot as plt"
   ]
  },
  {
   "cell_type": "markdown",
   "id": "0e6f9b77-c686-4485-ab4f-f08bbfda56f1",
   "metadata": {},
   "source": [
    "<div class=\"alert alert-success\"; style=\"border-left: 7px solid green\">\n",
    "<b>✅ Reviewer's Comment, v. 1</b>\n",
    "\n",
    "Great work! It’s a best practice to import all necessary libraries in the first code cell, separate from loading the datasets. This way, if you need to add another library, you won’t have to reload the dataset.\n"
   ]
  },
  {
   "cell_type": "code",
   "execution_count": 2,
   "id": "fe188ef3-27b2-4825-b955-232cdd326307",
   "metadata": {
    "id": "fe188ef3-27b2-4825-b955-232cdd326307"
   },
   "outputs": [],
   "source": [
    "# Load the datasets\n",
    "# Note: These files use semicolon (;) as the separator instead of comma\n",
    "orders         = pd.read_csv('/datasets/instacart_orders.csv', sep=';')\n",
    "products       = pd.read_csv('/datasets/products.csv', sep=';')\n",
    "departments    = pd.read_csv('/datasets/departments.csv', sep=';')\n",
    "aisles         = pd.read_csv('/datasets/aisles.csv', sep=';')\n",
    "order_products = pd.read_csv('/datasets/order_products.csv', sep=';')"
   ]
  },
  {
   "cell_type": "markdown",
   "id": "9a38987c-bf93-4219-b61a-d31781438c8e",
   "metadata": {
    "id": "9a38987c-bf93-4219-b61a-d31781438c8e"
   },
   "source": [
    "## Analyze your data"
   ]
  },
  {
   "cell_type": "markdown",
   "id": "04d4b1a9-a75f-4c89-a297-3a6002b0e53d",
   "metadata": {
    "id": "04d4b1a9-a75f-4c89-a297-3a6002b0e53d"
   },
   "source": [
    "In the cells below, display the datasets using `.info()` and `.head()` to gain insights into their structure and content.\n",
    "\n",
    "- `.info()`: Provides a concise summary of the dataset, including the data types, non-null counts, and memory usage.\n",
    "- `.head()`: Displays the first few rows of the dataset, offering a quick overview of the data values."
   ]
  },
  {
   "cell_type": "code",
   "execution_count": 3,
   "id": "10cc6096-d5ba-40b9-ba42-967e2fb7dec1",
   "metadata": {
    "id": "10cc6096-d5ba-40b9-ba42-967e2fb7dec1"
   },
   "outputs": [
    {
     "name": "stdout",
     "output_type": "stream",
     "text": [
      "<class 'pandas.core.frame.DataFrame'>\n",
      "RangeIndex: 478967 entries, 0 to 478966\n",
      "Data columns (total 6 columns):\n",
      " #   Column                  Non-Null Count   Dtype  \n",
      "---  ------                  --------------   -----  \n",
      " 0   order_id                478967 non-null  int64  \n",
      " 1   user_id                 478967 non-null  int64  \n",
      " 2   order_number            478967 non-null  int64  \n",
      " 3   order_dow               478967 non-null  int64  \n",
      " 4   order_hour_of_day       478967 non-null  int64  \n",
      " 5   days_since_prior_order  450148 non-null  float64\n",
      "dtypes: float64(1), int64(5)\n",
      "memory usage: 21.9 MB\n",
      "None\n",
      "   order_id  user_id  order_number  order_dow  order_hour_of_day  \\\n",
      "0   1515936   183418            11          6                 13   \n",
      "1   1690866   163593             5          5                 12   \n",
      "2   1454967    39980             4          5                 19   \n",
      "3   1768857    82516            56          0                 20   \n",
      "4   3007858   196724             2          4                 12   \n",
      "\n",
      "   days_since_prior_order  \n",
      "0                    30.0  \n",
      "1                     9.0  \n",
      "2                     2.0  \n",
      "3                    10.0  \n",
      "4                    17.0  \n"
     ]
    }
   ],
   "source": [
    "# In this cell, type \"orders\" below this line and execute the cell\n",
    "print(orders.info())\n",
    "print(orders.head())"
   ]
  },
  {
   "cell_type": "markdown",
   "id": "90a1c9c2-6ba9-4314-b072-c078d8cd1274",
   "metadata": {},
   "source": [
    "<div class=\"alert alert-success\"; style=\"border-left: 7px solid green\">\n",
    "<b>✅ Reviewer's comment, v. 2</b> \n",
    "    \n",
    "✔️ \n",
    "    \n",
    "\n",
    "\n",
    "\n",
    "<div class=\"alert alert-danger\" style=\"border-left: 7px solid red\">\n",
    "<b>⛔️ Reviewer’s Comment, v. 1</b>  \n",
    "\n",
    "You've already imported the libraries and loaded the datasets earlier in the project, which is great!  \n",
    "To keep the code clean and avoid redundancy, it's best to do this only once.  \n",
    "Please remove the repeated library imports and dataset loading from this cell and the one below.\n"
   ]
  },
  {
   "cell_type": "code",
   "execution_count": 4,
   "id": "5130e05e",
   "metadata": {
    "id": "5130e05e"
   },
   "outputs": [
    {
     "name": "stdout",
     "output_type": "stream",
     "text": [
      "<class 'pandas.core.frame.DataFrame'>\n",
      "RangeIndex: 49694 entries, 0 to 49693\n",
      "Data columns (total 4 columns):\n",
      " #   Column         Non-Null Count  Dtype \n",
      "---  ------         --------------  ----- \n",
      " 0   product_id     49694 non-null  int64 \n",
      " 1   product_name   48436 non-null  object\n",
      " 2   aisle_id       49694 non-null  int64 \n",
      " 3   department_id  49694 non-null  int64 \n",
      "dtypes: int64(3), object(1)\n",
      "memory usage: 1.5+ MB\n",
      "None\n",
      "   product_id                                       product_name  aisle_id  \\\n",
      "0           1                         Chocolate Sandwich Cookies        61   \n",
      "1           2                                   All-Seasons Salt       104   \n",
      "2           3               Robust Golden Unsweetened Oolong Tea        94   \n",
      "3           4  Smart Ones Classic Favorites Mini Rigatoni Wit...        38   \n",
      "4           5                          Green Chile Anytime Sauce         5   \n",
      "\n",
      "   department_id  \n",
      "0             19  \n",
      "1             13  \n",
      "2              7  \n",
      "3              1  \n",
      "4             13  \n"
     ]
    }
   ],
   "source": [
    "# In this cell, type \"products\" below this line and execute the cell\n",
    "print(products.info())\n",
    "print(products.head())"
   ]
  },
  {
   "cell_type": "markdown",
   "id": "5143e30d-f791-4596-b1f2-3c64cf8d2243",
   "metadata": {
    "id": "5143e30d-f791-4596-b1f2-3c64cf8d2243"
   },
   "source": [
    "Repeat this process for each dataset to understand the structure, including the types of columns and rows they contain. Add additional code cells as needed for your analysis."
   ]
  },
  {
   "cell_type": "code",
   "execution_count": 5,
   "id": "16152478-145b-4c23-a305-878d9c42732f",
   "metadata": {},
   "outputs": [
    {
     "name": "stdout",
     "output_type": "stream",
     "text": [
      "<class 'pandas.core.frame.DataFrame'>\n",
      "RangeIndex: 21 entries, 0 to 20\n",
      "Data columns (total 2 columns):\n",
      " #   Column         Non-Null Count  Dtype \n",
      "---  ------         --------------  ----- \n",
      " 0   department_id  21 non-null     int64 \n",
      " 1   department     21 non-null     object\n",
      "dtypes: int64(1), object(1)\n",
      "memory usage: 464.0+ bytes\n",
      "None\n",
      "   department_id department\n",
      "0              1     frozen\n",
      "1              2      other\n",
      "2              3     bakery\n",
      "3              4    produce\n",
      "4              5    alcohol\n"
     ]
    }
   ],
   "source": [
    "print(departments.info())\n",
    "print(departments.head())"
   ]
  },
  {
   "cell_type": "code",
   "execution_count": 6,
   "id": "330e2fbf-34de-4aad-9e2b-f579380451bf",
   "metadata": {},
   "outputs": [
    {
     "name": "stdout",
     "output_type": "stream",
     "text": [
      "<class 'pandas.core.frame.DataFrame'>\n",
      "RangeIndex: 21 entries, 0 to 20\n",
      "Data columns (total 2 columns):\n",
      " #   Column         Non-Null Count  Dtype \n",
      "---  ------         --------------  ----- \n",
      " 0   department_id  21 non-null     int64 \n",
      " 1   department     21 non-null     object\n",
      "dtypes: int64(1), object(1)\n",
      "memory usage: 464.0+ bytes\n",
      "None\n",
      "   department_id department\n",
      "0              1     frozen\n",
      "1              2      other\n",
      "2              3     bakery\n",
      "3              4    produce\n",
      "4              5    alcohol\n"
     ]
    }
   ],
   "source": [
    "print(departments.info())\n",
    "print(departments.head())"
   ]
  },
  {
   "cell_type": "markdown",
   "id": "36c8dc9c-6ae3-464d-af07-0faf5b759038",
   "metadata": {},
   "source": [
    "\n",
    "<div class=\"alert alert-warning\" style=\"border-left: 7px solid gold\">\n",
    "<b>⚠️ Reviewer’s Comment, v. 1</b>  \n",
    "\n",
    "You've already checked the `departments` dataframe in the previous cell.  \n",
    "To keep the notebook clean and avoid unnecessary repetition, try not to repeat the same code.  \n",
    "This will make your analysis easier to follow.\n",
    "</div>\n"
   ]
  },
  {
   "cell_type": "code",
   "execution_count": 7,
   "id": "f6d81cfd-65d1-4ca6-be82-379578d8bfea",
   "metadata": {},
   "outputs": [
    {
     "name": "stdout",
     "output_type": "stream",
     "text": [
      "<class 'pandas.core.frame.DataFrame'>\n",
      "RangeIndex: 134 entries, 0 to 133\n",
      "Data columns (total 2 columns):\n",
      " #   Column    Non-Null Count  Dtype \n",
      "---  ------    --------------  ----- \n",
      " 0   aisle_id  134 non-null    int64 \n",
      " 1   aisle     134 non-null    object\n",
      "dtypes: int64(1), object(1)\n",
      "memory usage: 2.2+ KB\n",
      "None\n",
      "   aisle_id                       aisle\n",
      "0         1       prepared soups salads\n",
      "1         2           specialty cheeses\n",
      "2         3         energy granola bars\n",
      "3         4               instant foods\n",
      "4         5  marinades meat preparation\n"
     ]
    }
   ],
   "source": [
    "print(aisles.info())\n",
    "print(aisles.head())"
   ]
  },
  {
   "cell_type": "code",
   "execution_count": 8,
   "id": "3617049d-27ad-441f-a2f7-61000f8c40f7",
   "metadata": {},
   "outputs": [
    {
     "name": "stdout",
     "output_type": "stream",
     "text": [
      "<class 'pandas.core.frame.DataFrame'>\n",
      "RangeIndex: 4545007 entries, 0 to 4545006\n",
      "Data columns (total 4 columns):\n",
      " #   Column             Dtype  \n",
      "---  ------             -----  \n",
      " 0   order_id           int64  \n",
      " 1   product_id         int64  \n",
      " 2   add_to_cart_order  float64\n",
      " 3   reordered          int64  \n",
      "dtypes: float64(1), int64(3)\n",
      "memory usage: 138.7 MB\n",
      "None\n",
      "   order_id  product_id  add_to_cart_order  reordered\n",
      "0   2141543       11440               17.0          0\n",
      "1    567889        1560                1.0          1\n",
      "2   2261212       26683                1.0          1\n",
      "3    491251        8670               35.0          1\n",
      "4   2571142        1940                5.0          1\n"
     ]
    }
   ],
   "source": [
    "print(order_products.info())\n",
    "print(order_products.head())"
   ]
  },
  {
   "cell_type": "code",
   "execution_count": 9,
   "id": "d8370c05",
   "metadata": {
    "id": "d8370c05"
   },
   "outputs": [
    {
     "name": "stdout",
     "output_type": "stream",
     "text": [
      "<class 'pandas.core.frame.DataFrame'>\n",
      "RangeIndex: 478967 entries, 0 to 478966\n",
      "Data columns (total 6 columns):\n",
      " #   Column                  Non-Null Count   Dtype  \n",
      "---  ------                  --------------   -----  \n",
      " 0   order_id                478967 non-null  int64  \n",
      " 1   user_id                 478967 non-null  int64  \n",
      " 2   order_number            478967 non-null  int64  \n",
      " 3   order_dow               478967 non-null  int64  \n",
      " 4   order_hour_of_day       478967 non-null  int64  \n",
      " 5   days_since_prior_order  450148 non-null  float64\n",
      "dtypes: float64(1), int64(5)\n",
      "memory usage: 21.9 MB\n"
     ]
    }
   ],
   "source": [
    "# In this cell, type \"orders.info() below this line and execute the cell\n",
    "orders.info()"
   ]
  },
  {
   "cell_type": "markdown",
   "id": "73bc6c88-e73f-4d53-b887-5ee6b5e6c570",
   "metadata": {
    "id": "73bc6c88-e73f-4d53-b887-5ee6b5e6c570"
   },
   "source": [
    "The \"Non-Null Count\" column provides information about any missing values in each column of the dataset. With a total of 478,952 entries, observe any columns where the non-null count is less than this number to identify missing values."
   ]
  },
  {
   "cell_type": "code",
   "execution_count": 10,
   "id": "59e2090f",
   "metadata": {
    "id": "59e2090f"
   },
   "outputs": [
    {
     "name": "stdout",
     "output_type": "stream",
     "text": [
      "<class 'pandas.core.frame.DataFrame'>\n",
      "RangeIndex: 4545007 entries, 0 to 4545006\n",
      "Data columns (total 4 columns):\n",
      " #   Column             Non-Null Count    Dtype  \n",
      "---  ------             --------------    -----  \n",
      " 0   order_id           4545007 non-null  int64  \n",
      " 1   product_id         4545007 non-null  int64  \n",
      " 2   add_to_cart_order  4544171 non-null  float64\n",
      " 3   reordered          4545007 non-null  int64  \n",
      "dtypes: float64(1), int64(3)\n",
      "memory usage: 138.7 MB\n"
     ]
    }
   ],
   "source": [
    "# In this cell, run orders_products.info() below, but include the argument show_counts=True since this is a large file.\n",
    "order_products.info(show_counts=True)\n"
   ]
  },
  {
   "cell_type": "markdown",
   "id": "3360e4ce-723c-45bd-8998-ca2f1db53349",
   "metadata": {
    "id": "3360e4ce-723c-45bd-8998-ca2f1db53349"
   },
   "source": [
    "Repeat the use of .info() on the remaining datasets to identify missing values and understand their structure. Check the \"Non-Null Count\" for each dataset to spot any columns with missing values."
   ]
  },
  {
   "cell_type": "code",
   "execution_count": 11,
   "id": "09dfc4fd-5ffa-4fd1-84c8-5812b3a6c443",
   "metadata": {},
   "outputs": [
    {
     "name": "stdout",
     "output_type": "stream",
     "text": [
      "<class 'pandas.core.frame.DataFrame'>\n",
      "RangeIndex: 134 entries, 0 to 133\n",
      "Data columns (total 2 columns):\n",
      " #   Column    Non-Null Count  Dtype \n",
      "---  ------    --------------  ----- \n",
      " 0   aisle_id  134 non-null    int64 \n",
      " 1   aisle     134 non-null    object\n",
      "dtypes: int64(1), object(1)\n",
      "memory usage: 2.2+ KB\n"
     ]
    }
   ],
   "source": [
    "aisles.info()"
   ]
  },
  {
   "cell_type": "code",
   "execution_count": 12,
   "id": "ae60baa6-43d2-4bd5-9f92-d65bfa70e8aa",
   "metadata": {},
   "outputs": [
    {
     "name": "stdout",
     "output_type": "stream",
     "text": [
      "<class 'pandas.core.frame.DataFrame'>\n",
      "RangeIndex: 21 entries, 0 to 20\n",
      "Data columns (total 2 columns):\n",
      " #   Column         Non-Null Count  Dtype \n",
      "---  ------         --------------  ----- \n",
      " 0   department_id  21 non-null     int64 \n",
      " 1   department     21 non-null     object\n",
      "dtypes: int64(1), object(1)\n",
      "memory usage: 464.0+ bytes\n"
     ]
    }
   ],
   "source": [
    "departments.info()"
   ]
  },
  {
   "cell_type": "code",
   "execution_count": 13,
   "id": "0726c19f-dc7d-4aaf-a871-2303dfdd2866",
   "metadata": {},
   "outputs": [
    {
     "name": "stdout",
     "output_type": "stream",
     "text": [
      "<class 'pandas.core.frame.DataFrame'>\n",
      "RangeIndex: 49694 entries, 0 to 49693\n",
      "Data columns (total 4 columns):\n",
      " #   Column         Non-Null Count  Dtype \n",
      "---  ------         --------------  ----- \n",
      " 0   product_id     49694 non-null  int64 \n",
      " 1   product_name   48436 non-null  object\n",
      " 2   aisle_id       49694 non-null  int64 \n",
      " 3   department_id  49694 non-null  int64 \n",
      "dtypes: int64(3), object(1)\n",
      "memory usage: 1.5+ MB\n"
     ]
    }
   ],
   "source": [
    "products.info(show_counts=True)"
   ]
  },
  {
   "cell_type": "markdown",
   "id": "1e46de76",
   "metadata": {
    "id": "1e46de76"
   },
   "source": [
    "## Find and Remove Missing Values\n",
    "\n",
    "We noticed that some columns contain missing values.\n",
    "\n",
    "Here are some useful code snippets:\n",
    "\n",
    "```python\n",
    "# Identify missing values in each column\n",
    "print(dataset.isnull().sum())\n",
    "\n",
    "# Display rows where a specific column has missing values\n",
    "print(dataset[dataset['column_name'].isna()])\n",
    "\n",
    "# Confirm no missing values remain\n",
    "print(dataset.isnull().sum())\n",
    "```"
   ]
  },
  {
   "cell_type": "markdown",
   "id": "c0aebd78",
   "metadata": {
    "id": "c0aebd78"
   },
   "source": [
    "### `products` Data Frame\n",
    "\n",
    "We will begin by addressing the missing values in the `products` data frame."
   ]
  },
  {
   "cell_type": "code",
   "execution_count": 14,
   "id": "fe4a8b0f",
   "metadata": {
    "id": "fe4a8b0f"
   },
   "outputs": [
    {
     "name": "stdout",
     "output_type": "stream",
     "text": [
      "       product_id product_name  aisle_id  department_id\n",
      "37             38          NaN       100             21\n",
      "71             72          NaN       100             21\n",
      "109           110          NaN       100             21\n",
      "296           297          NaN       100             21\n",
      "416           417          NaN       100             21\n",
      "...           ...          ...       ...            ...\n",
      "49552       49553          NaN       100             21\n",
      "49574       49575          NaN       100             21\n",
      "49640       49641          NaN       100             21\n",
      "49663       49664          NaN       100             21\n",
      "49668       49669          NaN       100             21\n",
      "\n",
      "[1258 rows x 4 columns]\n"
     ]
    }
   ],
   "source": [
    "# Display rows where the product_name column has missing values\n",
    "print(products[products['product_name'].isnull()])"
   ]
  },
  {
   "cell_type": "markdown",
   "id": "3cc03550-af53-4b63-98cf-a7b1031aeddb",
   "metadata": {},
   "source": [
    "\n",
    "<div class=\"alert alert-success\"; style=\"border-left: 7px solid green\">\n",
    "<b>✅ Reviewer’s Comment, v. 2</b>  \n",
    "\n",
    "✔️ It looks like all the rows with missing `product_name` values are linked to `aisle_id` 100 and `department_id` 21. That’s why you were asked to make these checks later.\n",
    "\n",
    "\n",
    "\n",
    "<div class=\"alert alert-danger\" style=\"border-left: 7px solid red\">\n",
    "<b>⛔️ Reviewer’s Comment, v. 1</b>  \n",
    "\n",
    "Could you please display the actual rows with missing values in `product_name` as instructed, not just show the number of missing values?  \n",
    "This way, it will be clearer why you are asked to specifically check department `21` and aisle `100`.\n"
   ]
  },
  {
   "cell_type": "markdown",
   "id": "b077fb59-f1f2-4390-a2bd-cdccadd5a747",
   "metadata": {
    "id": "b077fb59-f1f2-4390-a2bd-cdccadd5a747"
   },
   "source": [
    "It seems suspicious that all rows with missing `product_name` might be associated with `aisle_id` 100 and `department_id` 21. Let’s verify this by checking if any rows with missing `product_name` have an `aisle_id` different from 100 and 21. This will help us confirm if the issue is isolated to this aisle or spread across others."
   ]
  },
  {
   "cell_type": "code",
   "execution_count": 15,
   "id": "e96167bc",
   "metadata": {
    "id": "e96167bc"
   },
   "outputs": [
    {
     "data": {
      "text/html": [
       "<div>\n",
       "<style scoped>\n",
       "    .dataframe tbody tr th:only-of-type {\n",
       "        vertical-align: middle;\n",
       "    }\n",
       "\n",
       "    .dataframe tbody tr th {\n",
       "        vertical-align: top;\n",
       "    }\n",
       "\n",
       "    .dataframe thead th {\n",
       "        text-align: right;\n",
       "    }\n",
       "</style>\n",
       "<table border=\"1\" class=\"dataframe\">\n",
       "  <thead>\n",
       "    <tr style=\"text-align: right;\">\n",
       "      <th></th>\n",
       "      <th>product_id</th>\n",
       "      <th>product_name</th>\n",
       "      <th>aisle_id</th>\n",
       "      <th>department_id</th>\n",
       "    </tr>\n",
       "  </thead>\n",
       "  <tbody>\n",
       "  </tbody>\n",
       "</table>\n",
       "</div>"
      ],
      "text/plain": [
       "Empty DataFrame\n",
       "Columns: [product_id, product_name, aisle_id, department_id]\n",
       "Index: []"
      ]
     },
     "execution_count": 15,
     "metadata": {},
     "output_type": "execute_result"
    }
   ],
   "source": [
    "# Combine conditions to check for missing product names in aisles other than 100\n",
    "products[(products['product_name'].isna()) & (products['aisle_id']!= 100)]"
   ]
  },
  {
   "cell_type": "code",
   "execution_count": 16,
   "id": "8fd0a541",
   "metadata": {
    "id": "8fd0a541"
   },
   "outputs": [
    {
     "data": {
      "text/html": [
       "<div>\n",
       "<style scoped>\n",
       "    .dataframe tbody tr th:only-of-type {\n",
       "        vertical-align: middle;\n",
       "    }\n",
       "\n",
       "    .dataframe tbody tr th {\n",
       "        vertical-align: top;\n",
       "    }\n",
       "\n",
       "    .dataframe thead th {\n",
       "        text-align: right;\n",
       "    }\n",
       "</style>\n",
       "<table border=\"1\" class=\"dataframe\">\n",
       "  <thead>\n",
       "    <tr style=\"text-align: right;\">\n",
       "      <th></th>\n",
       "      <th>product_id</th>\n",
       "      <th>product_name</th>\n",
       "      <th>aisle_id</th>\n",
       "      <th>department_id</th>\n",
       "    </tr>\n",
       "  </thead>\n",
       "  <tbody>\n",
       "  </tbody>\n",
       "</table>\n",
       "</div>"
      ],
      "text/plain": [
       "Empty DataFrame\n",
       "Columns: [product_id, product_name, aisle_id, department_id]\n",
       "Index: []"
      ]
     },
     "execution_count": 16,
     "metadata": {},
     "output_type": "execute_result"
    }
   ],
   "source": [
    "# Combine conditions to check for missing product names in aisles other than 21\n",
    "products[(products['product_name'].isna()) & (products['department_id'] != 21)]"
   ]
  },
  {
   "cell_type": "code",
   "execution_count": 17,
   "id": "42e70e5a-db8c-41c2-a59c-d5d4f01b22d6",
   "metadata": {},
   "outputs": [
    {
     "data": {
      "text/html": [
       "<div>\n",
       "<style scoped>\n",
       "    .dataframe tbody tr th:only-of-type {\n",
       "        vertical-align: middle;\n",
       "    }\n",
       "\n",
       "    .dataframe tbody tr th {\n",
       "        vertical-align: top;\n",
       "    }\n",
       "\n",
       "    .dataframe thead th {\n",
       "        text-align: right;\n",
       "    }\n",
       "</style>\n",
       "<table border=\"1\" class=\"dataframe\">\n",
       "  <thead>\n",
       "    <tr style=\"text-align: right;\">\n",
       "      <th></th>\n",
       "      <th>product_id</th>\n",
       "      <th>product_name</th>\n",
       "      <th>aisle_id</th>\n",
       "      <th>department_id</th>\n",
       "    </tr>\n",
       "  </thead>\n",
       "  <tbody>\n",
       "    <tr>\n",
       "      <th>37</th>\n",
       "      <td>38</td>\n",
       "      <td>NaN</td>\n",
       "      <td>100</td>\n",
       "      <td>21</td>\n",
       "    </tr>\n",
       "    <tr>\n",
       "      <th>71</th>\n",
       "      <td>72</td>\n",
       "      <td>NaN</td>\n",
       "      <td>100</td>\n",
       "      <td>21</td>\n",
       "    </tr>\n",
       "    <tr>\n",
       "      <th>109</th>\n",
       "      <td>110</td>\n",
       "      <td>NaN</td>\n",
       "      <td>100</td>\n",
       "      <td>21</td>\n",
       "    </tr>\n",
       "    <tr>\n",
       "      <th>296</th>\n",
       "      <td>297</td>\n",
       "      <td>NaN</td>\n",
       "      <td>100</td>\n",
       "      <td>21</td>\n",
       "    </tr>\n",
       "    <tr>\n",
       "      <th>416</th>\n",
       "      <td>417</td>\n",
       "      <td>NaN</td>\n",
       "      <td>100</td>\n",
       "      <td>21</td>\n",
       "    </tr>\n",
       "    <tr>\n",
       "      <th>...</th>\n",
       "      <td>...</td>\n",
       "      <td>...</td>\n",
       "      <td>...</td>\n",
       "      <td>...</td>\n",
       "    </tr>\n",
       "    <tr>\n",
       "      <th>49552</th>\n",
       "      <td>49553</td>\n",
       "      <td>NaN</td>\n",
       "      <td>100</td>\n",
       "      <td>21</td>\n",
       "    </tr>\n",
       "    <tr>\n",
       "      <th>49574</th>\n",
       "      <td>49575</td>\n",
       "      <td>NaN</td>\n",
       "      <td>100</td>\n",
       "      <td>21</td>\n",
       "    </tr>\n",
       "    <tr>\n",
       "      <th>49640</th>\n",
       "      <td>49641</td>\n",
       "      <td>NaN</td>\n",
       "      <td>100</td>\n",
       "      <td>21</td>\n",
       "    </tr>\n",
       "    <tr>\n",
       "      <th>49663</th>\n",
       "      <td>49664</td>\n",
       "      <td>NaN</td>\n",
       "      <td>100</td>\n",
       "      <td>21</td>\n",
       "    </tr>\n",
       "    <tr>\n",
       "      <th>49668</th>\n",
       "      <td>49669</td>\n",
       "      <td>NaN</td>\n",
       "      <td>100</td>\n",
       "      <td>21</td>\n",
       "    </tr>\n",
       "  </tbody>\n",
       "</table>\n",
       "<p>1258 rows × 4 columns</p>\n",
       "</div>"
      ],
      "text/plain": [
       "       product_id product_name  aisle_id  department_id\n",
       "37             38          NaN       100             21\n",
       "71             72          NaN       100             21\n",
       "109           110          NaN       100             21\n",
       "296           297          NaN       100             21\n",
       "416           417          NaN       100             21\n",
       "...           ...          ...       ...            ...\n",
       "49552       49553          NaN       100             21\n",
       "49574       49575          NaN       100             21\n",
       "49640       49641          NaN       100             21\n",
       "49663       49664          NaN       100             21\n",
       "49668       49669          NaN       100             21\n",
       "\n",
       "[1258 rows x 4 columns]"
      ]
     },
     "execution_count": 17,
     "metadata": {},
     "output_type": "execute_result"
    }
   ],
   "source": [
    "products[(products['product_name'].isna()) & (products['aisle_id'] != 21)]\n",
    "#task above is asking for department_id at the value of 21, comments in code are asking for aisle_id at the value of 21, so here are both.\n"
   ]
  },
  {
   "cell_type": "markdown",
   "id": "2c74c53f-a139-4d83-9be9-628fca74ce7c",
   "metadata": {
    "id": "2c74c53f-a139-4d83-9be9-628fca74ce7c"
   },
   "source": [
    "To better understand the missing product_name values, let’s determine what department_id 21 and aisle_id 100 represent by referencing the departments and aisles tables."
   ]
  },
  {
   "cell_type": "code",
   "execution_count": 18,
   "id": "325c3464",
   "metadata": {
    "id": "325c3464"
   },
   "outputs": [
    {
     "data": {
      "text/html": [
       "<div>\n",
       "<style scoped>\n",
       "    .dataframe tbody tr th:only-of-type {\n",
       "        vertical-align: middle;\n",
       "    }\n",
       "\n",
       "    .dataframe tbody tr th {\n",
       "        vertical-align: top;\n",
       "    }\n",
       "\n",
       "    .dataframe thead th {\n",
       "        text-align: right;\n",
       "    }\n",
       "</style>\n",
       "<table border=\"1\" class=\"dataframe\">\n",
       "  <thead>\n",
       "    <tr style=\"text-align: right;\">\n",
       "      <th></th>\n",
       "      <th>aisle_id</th>\n",
       "      <th>aisle</th>\n",
       "    </tr>\n",
       "  </thead>\n",
       "  <tbody>\n",
       "    <tr>\n",
       "      <th>99</th>\n",
       "      <td>100</td>\n",
       "      <td>missing</td>\n",
       "    </tr>\n",
       "  </tbody>\n",
       "</table>\n",
       "</div>"
      ],
      "text/plain": [
       "    aisle_id    aisle\n",
       "99       100  missing"
      ]
     },
     "execution_count": 18,
     "metadata": {},
     "output_type": "execute_result"
    }
   ],
   "source": [
    "# What is this aisle and department?\n",
    "aisles[aisles['aisle_id'] == 100]\n"
   ]
  },
  {
   "cell_type": "code",
   "execution_count": 19,
   "id": "b04ecbd7-11d1-439f-9b3b-775edf91d69c",
   "metadata": {},
   "outputs": [
    {
     "data": {
      "text/html": [
       "<div>\n",
       "<style scoped>\n",
       "    .dataframe tbody tr th:only-of-type {\n",
       "        vertical-align: middle;\n",
       "    }\n",
       "\n",
       "    .dataframe tbody tr th {\n",
       "        vertical-align: top;\n",
       "    }\n",
       "\n",
       "    .dataframe thead th {\n",
       "        text-align: right;\n",
       "    }\n",
       "</style>\n",
       "<table border=\"1\" class=\"dataframe\">\n",
       "  <thead>\n",
       "    <tr style=\"text-align: right;\">\n",
       "      <th></th>\n",
       "      <th>department_id</th>\n",
       "      <th>department</th>\n",
       "    </tr>\n",
       "  </thead>\n",
       "  <tbody>\n",
       "    <tr>\n",
       "      <th>20</th>\n",
       "      <td>21</td>\n",
       "      <td>missing</td>\n",
       "    </tr>\n",
       "  </tbody>\n",
       "</table>\n",
       "</div>"
      ],
      "text/plain": [
       "    department_id department\n",
       "20             21    missing"
      ]
     },
     "execution_count": 19,
     "metadata": {},
     "output_type": "execute_result"
    }
   ],
   "source": [
    "departments[departments['department_id'] == 21]\n"
   ]
  },
  {
   "cell_type": "code",
   "execution_count": 20,
   "id": "6b295120",
   "metadata": {
    "id": "6b295120"
   },
   "outputs": [
    {
     "name": "stdout",
     "output_type": "stream",
     "text": [
      "0\n"
     ]
    }
   ],
   "source": [
    "# Fill missing product names with 'Unknown'\n",
    "products['product_name']= products['product_name'].fillna('Unknown')\n",
    "print(products['product_name'].isnull().sum())"
   ]
  },
  {
   "cell_type": "markdown",
   "id": "4c0b1c99-4a19-41d5-afa3-154c0f4aaf7d",
   "metadata": {},
   "source": [
    "<div class=\"alert alert-success\"; style=\"border-left: 7px solid green\">\n",
    "<b>✅ Reviewer's comment, v. 2</b> \n",
    "    \n",
    "✔️ \n",
    "    \n",
    "\n",
    "\n",
    "\n",
    "<div class=\"alert alert-danger\" style=\"border-left: 7px solid red\">\n",
    "<b>⛔️ Reviewer’s Comment, v. 1</b>  \n",
    "\n",
    "You need to fill in the missing product names in the `products` dataframe.  \n",
    "There are no missing values (`NaN`s) in the `departments` and `aisles` dataframes, so no action is needed there.\n"
   ]
  },
  {
   "cell_type": "markdown",
   "id": "7eb45c86",
   "metadata": {
    "id": "7eb45c86"
   },
   "source": [
    "### `orders` data frame\n",
    "\n",
    "Now let's fill in missing values from the `orders` table."
   ]
  },
  {
   "cell_type": "code",
   "execution_count": 21,
   "id": "93e41d96",
   "metadata": {
    "id": "93e41d96"
   },
   "outputs": [
    {
     "data": {
      "text/html": [
       "<div>\n",
       "<style scoped>\n",
       "    .dataframe tbody tr th:only-of-type {\n",
       "        vertical-align: middle;\n",
       "    }\n",
       "\n",
       "    .dataframe tbody tr th {\n",
       "        vertical-align: top;\n",
       "    }\n",
       "\n",
       "    .dataframe thead th {\n",
       "        text-align: right;\n",
       "    }\n",
       "</style>\n",
       "<table border=\"1\" class=\"dataframe\">\n",
       "  <thead>\n",
       "    <tr style=\"text-align: right;\">\n",
       "      <th></th>\n",
       "      <th>order_id</th>\n",
       "      <th>user_id</th>\n",
       "      <th>order_number</th>\n",
       "      <th>order_dow</th>\n",
       "      <th>order_hour_of_day</th>\n",
       "      <th>days_since_prior_order</th>\n",
       "    </tr>\n",
       "  </thead>\n",
       "  <tbody>\n",
       "    <tr>\n",
       "      <th>28</th>\n",
       "      <td>133707</td>\n",
       "      <td>182261</td>\n",
       "      <td>1</td>\n",
       "      <td>3</td>\n",
       "      <td>10</td>\n",
       "      <td>NaN</td>\n",
       "    </tr>\n",
       "    <tr>\n",
       "      <th>96</th>\n",
       "      <td>787445</td>\n",
       "      <td>25685</td>\n",
       "      <td>1</td>\n",
       "      <td>6</td>\n",
       "      <td>18</td>\n",
       "      <td>NaN</td>\n",
       "    </tr>\n",
       "    <tr>\n",
       "      <th>100</th>\n",
       "      <td>294410</td>\n",
       "      <td>111449</td>\n",
       "      <td>1</td>\n",
       "      <td>0</td>\n",
       "      <td>19</td>\n",
       "      <td>NaN</td>\n",
       "    </tr>\n",
       "    <tr>\n",
       "      <th>103</th>\n",
       "      <td>2869915</td>\n",
       "      <td>123958</td>\n",
       "      <td>1</td>\n",
       "      <td>4</td>\n",
       "      <td>16</td>\n",
       "      <td>NaN</td>\n",
       "    </tr>\n",
       "    <tr>\n",
       "      <th>104</th>\n",
       "      <td>2521921</td>\n",
       "      <td>42286</td>\n",
       "      <td>1</td>\n",
       "      <td>3</td>\n",
       "      <td>18</td>\n",
       "      <td>NaN</td>\n",
       "    </tr>\n",
       "    <tr>\n",
       "      <th>...</th>\n",
       "      <td>...</td>\n",
       "      <td>...</td>\n",
       "      <td>...</td>\n",
       "      <td>...</td>\n",
       "      <td>...</td>\n",
       "      <td>...</td>\n",
       "    </tr>\n",
       "    <tr>\n",
       "      <th>478895</th>\n",
       "      <td>2589657</td>\n",
       "      <td>205028</td>\n",
       "      <td>1</td>\n",
       "      <td>0</td>\n",
       "      <td>16</td>\n",
       "      <td>NaN</td>\n",
       "    </tr>\n",
       "    <tr>\n",
       "      <th>478896</th>\n",
       "      <td>2222353</td>\n",
       "      <td>141211</td>\n",
       "      <td>1</td>\n",
       "      <td>2</td>\n",
       "      <td>13</td>\n",
       "      <td>NaN</td>\n",
       "    </tr>\n",
       "    <tr>\n",
       "      <th>478922</th>\n",
       "      <td>2272807</td>\n",
       "      <td>204154</td>\n",
       "      <td>1</td>\n",
       "      <td>1</td>\n",
       "      <td>15</td>\n",
       "      <td>NaN</td>\n",
       "    </tr>\n",
       "    <tr>\n",
       "      <th>478926</th>\n",
       "      <td>2499542</td>\n",
       "      <td>68810</td>\n",
       "      <td>1</td>\n",
       "      <td>4</td>\n",
       "      <td>19</td>\n",
       "      <td>NaN</td>\n",
       "    </tr>\n",
       "    <tr>\n",
       "      <th>478945</th>\n",
       "      <td>1387033</td>\n",
       "      <td>22496</td>\n",
       "      <td>1</td>\n",
       "      <td>5</td>\n",
       "      <td>14</td>\n",
       "      <td>NaN</td>\n",
       "    </tr>\n",
       "  </tbody>\n",
       "</table>\n",
       "<p>28819 rows × 6 columns</p>\n",
       "</div>"
      ],
      "text/plain": [
       "        order_id  user_id  order_number  order_dow  order_hour_of_day  \\\n",
       "28        133707   182261             1          3                 10   \n",
       "96        787445    25685             1          6                 18   \n",
       "100       294410   111449             1          0                 19   \n",
       "103      2869915   123958             1          4                 16   \n",
       "104      2521921    42286             1          3                 18   \n",
       "...          ...      ...           ...        ...                ...   \n",
       "478895   2589657   205028             1          0                 16   \n",
       "478896   2222353   141211             1          2                 13   \n",
       "478922   2272807   204154             1          1                 15   \n",
       "478926   2499542    68810             1          4                 19   \n",
       "478945   1387033    22496             1          5                 14   \n",
       "\n",
       "        days_since_prior_order  \n",
       "28                         NaN  \n",
       "96                         NaN  \n",
       "100                        NaN  \n",
       "103                        NaN  \n",
       "104                        NaN  \n",
       "...                        ...  \n",
       "478895                     NaN  \n",
       "478896                     NaN  \n",
       "478922                     NaN  \n",
       "478926                     NaN  \n",
       "478945                     NaN  \n",
       "\n",
       "[28819 rows x 6 columns]"
      ]
     },
     "execution_count": 21,
     "metadata": {},
     "output_type": "execute_result"
    }
   ],
   "source": [
    "# Display rows where the days_since_prior_order column has missing values\n",
    "orders[orders['days_since_prior_order'].isnull()]"
   ]
  },
  {
   "cell_type": "code",
   "execution_count": 22,
   "id": "166e5a86",
   "metadata": {
    "id": "166e5a86"
   },
   "outputs": [
    {
     "data": {
      "text/html": [
       "<div>\n",
       "<style scoped>\n",
       "    .dataframe tbody tr th:only-of-type {\n",
       "        vertical-align: middle;\n",
       "    }\n",
       "\n",
       "    .dataframe tbody tr th {\n",
       "        vertical-align: top;\n",
       "    }\n",
       "\n",
       "    .dataframe thead th {\n",
       "        text-align: right;\n",
       "    }\n",
       "</style>\n",
       "<table border=\"1\" class=\"dataframe\">\n",
       "  <thead>\n",
       "    <tr style=\"text-align: right;\">\n",
       "      <th></th>\n",
       "      <th>order_id</th>\n",
       "      <th>user_id</th>\n",
       "      <th>order_number</th>\n",
       "      <th>order_dow</th>\n",
       "      <th>order_hour_of_day</th>\n",
       "      <th>days_since_prior_order</th>\n",
       "    </tr>\n",
       "  </thead>\n",
       "  <tbody>\n",
       "    <tr>\n",
       "      <th>28</th>\n",
       "      <td>133707</td>\n",
       "      <td>182261</td>\n",
       "      <td>1</td>\n",
       "      <td>3</td>\n",
       "      <td>10</td>\n",
       "      <td>NaN</td>\n",
       "    </tr>\n",
       "    <tr>\n",
       "      <th>96</th>\n",
       "      <td>787445</td>\n",
       "      <td>25685</td>\n",
       "      <td>1</td>\n",
       "      <td>6</td>\n",
       "      <td>18</td>\n",
       "      <td>NaN</td>\n",
       "    </tr>\n",
       "    <tr>\n",
       "      <th>100</th>\n",
       "      <td>294410</td>\n",
       "      <td>111449</td>\n",
       "      <td>1</td>\n",
       "      <td>0</td>\n",
       "      <td>19</td>\n",
       "      <td>NaN</td>\n",
       "    </tr>\n",
       "    <tr>\n",
       "      <th>103</th>\n",
       "      <td>2869915</td>\n",
       "      <td>123958</td>\n",
       "      <td>1</td>\n",
       "      <td>4</td>\n",
       "      <td>16</td>\n",
       "      <td>NaN</td>\n",
       "    </tr>\n",
       "    <tr>\n",
       "      <th>104</th>\n",
       "      <td>2521921</td>\n",
       "      <td>42286</td>\n",
       "      <td>1</td>\n",
       "      <td>3</td>\n",
       "      <td>18</td>\n",
       "      <td>NaN</td>\n",
       "    </tr>\n",
       "    <tr>\n",
       "      <th>...</th>\n",
       "      <td>...</td>\n",
       "      <td>...</td>\n",
       "      <td>...</td>\n",
       "      <td>...</td>\n",
       "      <td>...</td>\n",
       "      <td>...</td>\n",
       "    </tr>\n",
       "    <tr>\n",
       "      <th>478895</th>\n",
       "      <td>2589657</td>\n",
       "      <td>205028</td>\n",
       "      <td>1</td>\n",
       "      <td>0</td>\n",
       "      <td>16</td>\n",
       "      <td>NaN</td>\n",
       "    </tr>\n",
       "    <tr>\n",
       "      <th>478896</th>\n",
       "      <td>2222353</td>\n",
       "      <td>141211</td>\n",
       "      <td>1</td>\n",
       "      <td>2</td>\n",
       "      <td>13</td>\n",
       "      <td>NaN</td>\n",
       "    </tr>\n",
       "    <tr>\n",
       "      <th>478922</th>\n",
       "      <td>2272807</td>\n",
       "      <td>204154</td>\n",
       "      <td>1</td>\n",
       "      <td>1</td>\n",
       "      <td>15</td>\n",
       "      <td>NaN</td>\n",
       "    </tr>\n",
       "    <tr>\n",
       "      <th>478926</th>\n",
       "      <td>2499542</td>\n",
       "      <td>68810</td>\n",
       "      <td>1</td>\n",
       "      <td>4</td>\n",
       "      <td>19</td>\n",
       "      <td>NaN</td>\n",
       "    </tr>\n",
       "    <tr>\n",
       "      <th>478945</th>\n",
       "      <td>1387033</td>\n",
       "      <td>22496</td>\n",
       "      <td>1</td>\n",
       "      <td>5</td>\n",
       "      <td>14</td>\n",
       "      <td>NaN</td>\n",
       "    </tr>\n",
       "  </tbody>\n",
       "</table>\n",
       "<p>28819 rows × 6 columns</p>\n",
       "</div>"
      ],
      "text/plain": [
       "        order_id  user_id  order_number  order_dow  order_hour_of_day  \\\n",
       "28        133707   182261             1          3                 10   \n",
       "96        787445    25685             1          6                 18   \n",
       "100       294410   111449             1          0                 19   \n",
       "103      2869915   123958             1          4                 16   \n",
       "104      2521921    42286             1          3                 18   \n",
       "...          ...      ...           ...        ...                ...   \n",
       "478895   2589657   205028             1          0                 16   \n",
       "478896   2222353   141211             1          2                 13   \n",
       "478922   2272807   204154             1          1                 15   \n",
       "478926   2499542    68810             1          4                 19   \n",
       "478945   1387033    22496             1          5                 14   \n",
       "\n",
       "        days_since_prior_order  \n",
       "28                         NaN  \n",
       "96                         NaN  \n",
       "100                        NaN  \n",
       "103                        NaN  \n",
       "104                        NaN  \n",
       "...                        ...  \n",
       "478895                     NaN  \n",
       "478896                     NaN  \n",
       "478922                     NaN  \n",
       "478926                     NaN  \n",
       "478945                     NaN  \n",
       "\n",
       "[28819 rows x 6 columns]"
      ]
     },
     "execution_count": 22,
     "metadata": {},
     "output_type": "execute_result"
    }
   ],
   "source": [
    "# Are there any missing values where it's not a customer's first order?\n",
    "orders[(orders['order_number'] == 1) & (orders['days_since_prior_order'].isnull())]"
   ]
  },
  {
   "cell_type": "markdown",
   "id": "4e23d089",
   "metadata": {
    "id": "4e23d089"
   },
   "source": [
    "All of the missing `'days_since_prior_order'` values correspond to a customer's first ever order. This makes sense because there is no prior order! We'll leave the values as `NaN` so the column can remain numeric. Also, the `NaN` values shouldn't interfere with any calculations we might do using this column."
   ]
  },
  {
   "cell_type": "markdown",
   "id": "69dc9ca4",
   "metadata": {
    "id": "69dc9ca4"
   },
   "source": [
    "### `order_products` data frame\n",
    "\n",
    "Now let's fill in missing values from the order_products table."
   ]
  },
  {
   "cell_type": "code",
   "execution_count": 23,
   "id": "b8240253",
   "metadata": {
    "id": "b8240253"
   },
   "outputs": [
    {
     "data": {
      "text/html": [
       "<div>\n",
       "<style scoped>\n",
       "    .dataframe tbody tr th:only-of-type {\n",
       "        vertical-align: middle;\n",
       "    }\n",
       "\n",
       "    .dataframe tbody tr th {\n",
       "        vertical-align: top;\n",
       "    }\n",
       "\n",
       "    .dataframe thead th {\n",
       "        text-align: right;\n",
       "    }\n",
       "</style>\n",
       "<table border=\"1\" class=\"dataframe\">\n",
       "  <thead>\n",
       "    <tr style=\"text-align: right;\">\n",
       "      <th></th>\n",
       "      <th>order_id</th>\n",
       "      <th>product_id</th>\n",
       "      <th>add_to_cart_order</th>\n",
       "      <th>reordered</th>\n",
       "    </tr>\n",
       "  </thead>\n",
       "  <tbody>\n",
       "    <tr>\n",
       "      <th>737</th>\n",
       "      <td>2449164</td>\n",
       "      <td>5068</td>\n",
       "      <td>NaN</td>\n",
       "      <td>0</td>\n",
       "    </tr>\n",
       "    <tr>\n",
       "      <th>9926</th>\n",
       "      <td>1968313</td>\n",
       "      <td>43867</td>\n",
       "      <td>NaN</td>\n",
       "      <td>0</td>\n",
       "    </tr>\n",
       "    <tr>\n",
       "      <th>14394</th>\n",
       "      <td>2926893</td>\n",
       "      <td>11688</td>\n",
       "      <td>NaN</td>\n",
       "      <td>0</td>\n",
       "    </tr>\n",
       "    <tr>\n",
       "      <th>16418</th>\n",
       "      <td>1717990</td>\n",
       "      <td>4142</td>\n",
       "      <td>NaN</td>\n",
       "      <td>0</td>\n",
       "    </tr>\n",
       "    <tr>\n",
       "      <th>30114</th>\n",
       "      <td>1959075</td>\n",
       "      <td>42828</td>\n",
       "      <td>NaN</td>\n",
       "      <td>1</td>\n",
       "    </tr>\n",
       "    <tr>\n",
       "      <th>...</th>\n",
       "      <td>...</td>\n",
       "      <td>...</td>\n",
       "      <td>...</td>\n",
       "      <td>...</td>\n",
       "    </tr>\n",
       "    <tr>\n",
       "      <th>4505662</th>\n",
       "      <td>1800005</td>\n",
       "      <td>7411</td>\n",
       "      <td>NaN</td>\n",
       "      <td>0</td>\n",
       "    </tr>\n",
       "    <tr>\n",
       "      <th>4511400</th>\n",
       "      <td>1633337</td>\n",
       "      <td>260</td>\n",
       "      <td>NaN</td>\n",
       "      <td>0</td>\n",
       "    </tr>\n",
       "    <tr>\n",
       "      <th>4517562</th>\n",
       "      <td>404157</td>\n",
       "      <td>9517</td>\n",
       "      <td>NaN</td>\n",
       "      <td>0</td>\n",
       "    </tr>\n",
       "    <tr>\n",
       "      <th>4534112</th>\n",
       "      <td>1673227</td>\n",
       "      <td>17835</td>\n",
       "      <td>NaN</td>\n",
       "      <td>0</td>\n",
       "    </tr>\n",
       "    <tr>\n",
       "      <th>4535739</th>\n",
       "      <td>1832957</td>\n",
       "      <td>17949</td>\n",
       "      <td>NaN</td>\n",
       "      <td>1</td>\n",
       "    </tr>\n",
       "  </tbody>\n",
       "</table>\n",
       "<p>836 rows × 4 columns</p>\n",
       "</div>"
      ],
      "text/plain": [
       "         order_id  product_id  add_to_cart_order  reordered\n",
       "737       2449164        5068                NaN          0\n",
       "9926      1968313       43867                NaN          0\n",
       "14394     2926893       11688                NaN          0\n",
       "16418     1717990        4142                NaN          0\n",
       "30114     1959075       42828                NaN          1\n",
       "...           ...         ...                ...        ...\n",
       "4505662   1800005        7411                NaN          0\n",
       "4511400   1633337         260                NaN          0\n",
       "4517562    404157        9517                NaN          0\n",
       "4534112   1673227       17835                NaN          0\n",
       "4535739   1832957       17949                NaN          1\n",
       "\n",
       "[836 rows x 4 columns]"
      ]
     },
     "execution_count": 23,
     "metadata": {},
     "output_type": "execute_result"
    }
   ],
   "source": [
    "# Display rows where the add_to_cart_order column has missing values\n",
    "order_products[order_products['add_to_cart_order'].isnull()]"
   ]
  },
  {
   "cell_type": "code",
   "execution_count": 24,
   "id": "9a78e5ee",
   "metadata": {
    "id": "9a78e5ee"
   },
   "outputs": [
    {
     "data": {
      "text/plain": [
       "1.0"
      ]
     },
     "execution_count": 24,
     "metadata": {},
     "output_type": "execute_result"
    }
   ],
   "source": [
    "# Use .min() and .max() to find the minimum and maximum values for this column.\n",
    "order_products['add_to_cart_order'].min()"
   ]
  },
  {
   "cell_type": "code",
   "execution_count": 25,
   "id": "524380ff-9612-4bc3-8094-2c9db62cf0a0",
   "metadata": {},
   "outputs": [
    {
     "data": {
      "text/plain": [
       "64.0"
      ]
     },
     "execution_count": 25,
     "metadata": {},
     "output_type": "execute_result"
    }
   ],
   "source": [
    "order_products['add_to_cart_order'].max()"
   ]
  },
  {
   "cell_type": "code",
   "execution_count": 26,
   "id": "ab9d0c2b",
   "metadata": {
    "id": "ab9d0c2b"
   },
   "outputs": [
    {
     "name": "stdout",
     "output_type": "stream",
     "text": [
      "4545007\n",
      "836\n",
      "(836, 4)\n",
      "70\n"
     ]
    }
   ],
   "source": [
    "# Save all order IDs with at least one missing value in 'add_to_cart_order'\n",
    "missing_mask= order_products['add_to_cart_order'].isnull()\n",
    "rows_with_missing= order_products[missing_mask]\n",
    "order_ids_with_missing= rows_with_missing['order_id'].unique()\n",
    "print(len(missing_mask))\n",
    "print(missing_mask.sum())\n",
    "print(rows_with_missing.shape)\n",
    "print(len(order_ids_with_missing))"
   ]
  },
  {
   "cell_type": "code",
   "execution_count": 27,
   "id": "54c31695",
   "metadata": {
    "id": "54c31695"
   },
   "outputs": [
    {
     "name": "stdout",
     "output_type": "stream",
     "text": [
      "65\n"
     ]
    }
   ],
   "source": [
    "# Do all orders with missing values have more than 64 products?\n",
    "products_per_order_with_missing= order_products[order_products['order_id'].isin(order_ids_with_missing)].groupby('order_id').size()\n",
    "min_products= products_per_order_with_missing.min()\n",
    "print(min_products)"
   ]
  },
  {
   "cell_type": "markdown",
   "id": "4dd17625-96e4-47b0-a7e6-67dd0d4d1f52",
   "metadata": {},
   "source": [
    "<div class=\"alert alert-success\"; style=\"border-left: 7px solid green\">\n",
    "<b>✅ Reviewer's comment, v. 2</b> \n",
    "    \n",
    "✔️ Great job, now we can be sure.\n",
    "    \n",
    "\n",
    "\n",
    "\n",
    "<div class=\"alert alert-danger\" style=\"border-left: 7px solid red\">\n",
    "<b>⛔️ Reviewer’s Comment, v. 1</b>  \n",
    "\n",
    "Great job overall — you're very close!  \n",
    "However, could you please also check the minimum value of `size`?  \n",
    "Right now, it's not fully clear if there are any values below 65 in the rows that are not displayed.  \n"
   ]
  },
  {
   "cell_type": "code",
   "execution_count": 28,
   "id": "7a987d08",
   "metadata": {
    "id": "7a987d08"
   },
   "outputs": [
    {
     "name": "stdout",
     "output_type": "stream",
     "text": [
      "int64\n",
      "1     450046\n",
      "2     428199\n",
      "3     401907\n",
      "4     372861\n",
      "5     341807\n",
      "6     309884\n",
      "7     278186\n",
      "8     247364\n",
      "9     218825\n",
      "10    193083\n",
      "Name: add_to_cart_order, dtype: int64\n",
      "55    238\n",
      "56    210\n",
      "57    185\n",
      "58    158\n",
      "59    144\n",
      "60    127\n",
      "61    114\n",
      "62     98\n",
      "63     87\n",
      "64     75\n",
      "Name: add_to_cart_order, dtype: int64\n",
      "836\n"
     ]
    }
   ],
   "source": [
    "# Replace missing values with 999 and convert column to integer type\n",
    "order_products['add_to_cart_order']= order_products['add_to_cart_order'].fillna(999)\n",
    "\n",
    "order_products['add_to_cart_order']= order_products['add_to_cart_order'].astype(int)\n",
    "\n",
    "print(order_products['add_to_cart_order'].dtype)\n",
    "print(order_products['add_to_cart_order'].value_counts().head(10))\n",
    "print(order_products['add_to_cart_order'].value_counts().tail(10))\n",
    "print(order_products[order_products['add_to_cart_order'] == 999].shape[0])"
   ]
  },
  {
   "cell_type": "markdown",
   "id": "fea4bcc7",
   "metadata": {
    "id": "fea4bcc7"
   },
   "source": [
    "For some reason, any item placed in the cart 65th or later has a missing value in the `'add_to_cart_order'` column. Maybe the data type of that column in the database could only hold integer values from 1 to 64. We've decided to replace the missing values with a code value, 999, that represents an unknown placed in cart order above 64. We also converted the column to integer data type. We just need to be careful to remember this if we perform calculations using this column during our analysis.\n",
    "\n",
    "Other sensible code values we could've used are 0 or -1 because they don't show up elsewhere in the dataset and they don't have any real physical meaning for this variable.\n",
    "\n",
    "Also note that, for orders with exactly 65 items, we could replace the missing value with 65. But we're going to neglect that for now since we can't determine the 65th item for all orders with 66 items or more."
   ]
  },
  {
   "cell_type": "markdown",
   "id": "07357848-dc64-4156-9cc3-01ff4365226d",
   "metadata": {
    "id": "07357848-dc64-4156-9cc3-01ff4365226d"
   },
   "source": [
    "## Find and Remove Duplicate Values from All the Datasets\n",
    "\n",
    "Each dataset may contain duplicate rows, which can lead to redundancy and affect the accuracy of our analysis. To handle this:\n",
    "\n",
    "1. Use the `.duplicated()` method to identify duplicate rows. This method returns a Boolean series where `True` indicates a duplicate row.\n",
    "2. Apply the `.drop_duplicates()` method to remove these duplicate rows, ensuring a cleaner dataset.\n",
    "3. Optionally, you can set the `keep` parameter in `.drop_duplicates()` to specify which duplicate to retain (`'first'` or `'last'`).\n",
    "\n",
    "Here is some example code for reference:\n",
    "```python\n",
    "# Check for duplicates\n",
    "print(dataset.duplicated().sum())  # Number of duplicate rows\n",
    "\n",
    "# View duplicate rows\n",
    "print(dataset[dataset.duplicated()]\n",
    "\n",
    "# Remove duplicates\n",
    "dataset = dataset.drop_duplicates().reset_index(drop=True)\n",
    "\n",
    "# Confirm removal\n",
    "print(dataset.duplicated().sum())  # Should return 0\n",
    "```\n",
    "\n",
    "Repeat this process for all datasets to ensure they are free of duplicate rows."
   ]
  },
  {
   "cell_type": "markdown",
   "id": "f179f0a9",
   "metadata": {
    "id": "f179f0a9"
   },
   "source": [
    "### `orders` data frame"
   ]
  },
  {
   "cell_type": "code",
   "execution_count": 29,
   "id": "bb1a8c31-0a95-487a-98fc-c040228245f6",
   "metadata": {
    "id": "bb1a8c31-0a95-487a-98fc-c040228245f6"
   },
   "outputs": [
    {
     "name": "stdout",
     "output_type": "stream",
     "text": [
      "15\n"
     ]
    }
   ],
   "source": [
    "# Find the number of duplicate rows in the orders dataframe\n",
    "print(orders.duplicated().sum())"
   ]
  },
  {
   "cell_type": "code",
   "execution_count": 30,
   "id": "b99297a5-405a-463d-8535-9adc3da4ad74",
   "metadata": {
    "id": "b99297a5-405a-463d-8535-9adc3da4ad74"
   },
   "outputs": [
    {
     "name": "stdout",
     "output_type": "stream",
     "text": [
      "        order_id  user_id  order_number  order_dow  order_hour_of_day  \\\n",
      "145574    794638    50898            24          3                  2   \n",
      "223105   2160484   107525            16          3                  2   \n",
      "230807   1918001   188546            14          3                  2   \n",
      "266232   1782114   106752             1          3                  2   \n",
      "273805   1112182   202304            84          3                  2   \n",
      "284038   2845099    31189            11          3                  2   \n",
      "311713   1021560    53767             3          3                  2   \n",
      "321100    408114    68324             4          3                  2   \n",
      "323900   1919531   191501            32          3                  2   \n",
      "345917   2232988    82565             1          3                  2   \n",
      "371905    391768    57671            19          3                  2   \n",
      "394347    467134    63189            21          3                  2   \n",
      "411408   1286742   183220            48          3                  2   \n",
      "415163   2282673    86751            49          3                  2   \n",
      "441599   2125197    14050            48          3                  2   \n",
      "\n",
      "        days_since_prior_order  \n",
      "145574                     2.0  \n",
      "223105                    30.0  \n",
      "230807                    16.0  \n",
      "266232                     NaN  \n",
      "273805                     6.0  \n",
      "284038                     7.0  \n",
      "311713                     9.0  \n",
      "321100                    18.0  \n",
      "323900                     7.0  \n",
      "345917                     NaN  \n",
      "371905                    10.0  \n",
      "394347                     2.0  \n",
      "411408                     4.0  \n",
      "415163                     2.0  \n",
      "441599                     3.0  \n"
     ]
    }
   ],
   "source": [
    "# View the duplicate rows\n",
    "print(orders[orders.duplicated()])"
   ]
  },
  {
   "cell_type": "code",
   "execution_count": 31,
   "id": "480563c7",
   "metadata": {
    "id": "480563c7"
   },
   "outputs": [],
   "source": [
    "# Remove duplicate orders\n",
    "orders= orders.drop_duplicates().reset_index(drop=True)"
   ]
  },
  {
   "cell_type": "code",
   "execution_count": 32,
   "id": "0b2396a2",
   "metadata": {
    "id": "0b2396a2"
   },
   "outputs": [
    {
     "name": "stdout",
     "output_type": "stream",
     "text": [
      "0\n"
     ]
    }
   ],
   "source": [
    "# Double check for duplicate rows\n",
    "print(orders.duplicated().sum())"
   ]
  },
  {
   "cell_type": "markdown",
   "id": "45e6bc46",
   "metadata": {
    "id": "45e6bc46"
   },
   "source": [
    "### `products` data frame"
   ]
  },
  {
   "cell_type": "code",
   "execution_count": 33,
   "id": "5f526b5b-8175-46fa-a0fd-441767d50e64",
   "metadata": {
    "id": "5f526b5b-8175-46fa-a0fd-441767d50e64"
   },
   "outputs": [
    {
     "name": "stdout",
     "output_type": "stream",
     "text": [
      "0\n"
     ]
    }
   ],
   "source": [
    "# Check for fully duplicate rows\n",
    "print(products.duplicated().sum())"
   ]
  },
  {
   "cell_type": "code",
   "execution_count": 34,
   "id": "88daa4f4",
   "metadata": {
    "id": "88daa4f4"
   },
   "outputs": [
    {
     "name": "stdout",
     "output_type": "stream",
     "text": [
      "0\n"
     ]
    }
   ],
   "source": [
    "# Check for just duplicate product IDs using subset='product_id' in duplicated()\n",
    "print(products.duplicated(['product_id']).sum())"
   ]
  },
  {
   "cell_type": "markdown",
   "id": "03c82be5-3463-4adb-a5eb-1755f011faa0",
   "metadata": {
    "id": "03c82be5-3463-4adb-a5eb-1755f011faa0"
   },
   "source": [
    "Hint: To identify duplicate product names more effectively, convert the names to lowercase for consistent comparison. Use the .str.lower() method on the product_name column to standardize the text before checking for duplicates."
   ]
  },
  {
   "cell_type": "code",
   "execution_count": 35,
   "id": "c773f0bf",
   "metadata": {
    "id": "c773f0bf"
   },
   "outputs": [
    {
     "name": "stdout",
     "output_type": "stream",
     "text": [
      "1361\n"
     ]
    }
   ],
   "source": [
    "# Check for just duplicate product names (convert names to lowercase to compare better)\n",
    "print(products['product_name'].str.lower().duplicated().sum())"
   ]
  },
  {
   "cell_type": "markdown",
   "id": "c502f00b-979b-4f6a-9457-569f412e1183",
   "metadata": {
    "id": "c502f00b-979b-4f6a-9457-569f412e1183"
   },
   "source": [
    "Let's see what that looks like in our dataset :"
   ]
  },
  {
   "cell_type": "code",
   "execution_count": 36,
   "id": "515b21b1-f458-4428-ba10-2820fef6158d",
   "metadata": {
    "id": "515b21b1-f458-4428-ba10-2820fef6158d"
   },
   "outputs": [
    {
     "data": {
      "text/html": [
       "<div>\n",
       "<style scoped>\n",
       "    .dataframe tbody tr th:only-of-type {\n",
       "        vertical-align: middle;\n",
       "    }\n",
       "\n",
       "    .dataframe tbody tr th {\n",
       "        vertical-align: top;\n",
       "    }\n",
       "\n",
       "    .dataframe thead th {\n",
       "        text-align: right;\n",
       "    }\n",
       "</style>\n",
       "<table border=\"1\" class=\"dataframe\">\n",
       "  <thead>\n",
       "    <tr style=\"text-align: right;\">\n",
       "      <th></th>\n",
       "      <th>product_id</th>\n",
       "      <th>product_name</th>\n",
       "      <th>aisle_id</th>\n",
       "      <th>department_id</th>\n",
       "    </tr>\n",
       "  </thead>\n",
       "  <tbody>\n",
       "    <tr>\n",
       "      <th>22540</th>\n",
       "      <td>22541</td>\n",
       "      <td>High Performance Energy Drink</td>\n",
       "      <td>64</td>\n",
       "      <td>7</td>\n",
       "    </tr>\n",
       "    <tr>\n",
       "      <th>49689</th>\n",
       "      <td>49690</td>\n",
       "      <td>HIGH PERFORMANCE ENERGY DRINK</td>\n",
       "      <td>64</td>\n",
       "      <td>7</td>\n",
       "    </tr>\n",
       "  </tbody>\n",
       "</table>\n",
       "</div>"
      ],
      "text/plain": [
       "       product_id                   product_name  aisle_id  department_id\n",
       "22540       22541  High Performance Energy Drink        64              7\n",
       "49689       49690  HIGH PERFORMANCE ENERGY DRINK        64              7"
      ]
     },
     "execution_count": 36,
     "metadata": {},
     "output_type": "execute_result"
    }
   ],
   "source": [
    "products[products['product_name'].str.lower() == 'high performance energy drink']"
   ]
  },
  {
   "cell_type": "code",
   "execution_count": 37,
   "id": "51a0e65f-2c0d-42f7-98d6-fd962a599a18",
   "metadata": {
    "id": "51a0e65f-2c0d-42f7-98d6-fd962a599a18"
   },
   "outputs": [],
   "source": [
    "# Drop duplicate product names (case insensitive)\n",
    "products['product_name_lower']= products['product_name'].str.lower()\n",
    "products= products.drop_duplicates(subset= ['product_name_lower'], keep='first').reset_index(drop=True)\n",
    "products = products.drop('product_name_lower', axis=1)"
   ]
  },
  {
   "cell_type": "markdown",
   "id": "60f30db1",
   "metadata": {
    "id": "60f30db1"
   },
   "source": [
    "### `departments` data frame"
   ]
  },
  {
   "cell_type": "code",
   "execution_count": 38,
   "id": "fb410ad4-0fbf-4b80-bb09-23fdea79afe3",
   "metadata": {
    "id": "fb410ad4-0fbf-4b80-bb09-23fdea79afe3"
   },
   "outputs": [
    {
     "name": "stdout",
     "output_type": "stream",
     "text": [
      "0\n"
     ]
    }
   ],
   "source": [
    "# Check for duplicate entries in the departments dataframe\n",
    "print(departments.duplicated().sum())"
   ]
  },
  {
   "cell_type": "markdown",
   "id": "889349c1",
   "metadata": {
    "id": "889349c1"
   },
   "source": [
    "### `aisles` data frame"
   ]
  },
  {
   "cell_type": "code",
   "execution_count": 39,
   "id": "9da89fb9-4679-40f5-ad0d-c34df753a3f8",
   "metadata": {
    "id": "9da89fb9-4679-40f5-ad0d-c34df753a3f8"
   },
   "outputs": [
    {
     "name": "stdout",
     "output_type": "stream",
     "text": [
      "Aisle entries don't exist in the departments dataframe.\n"
     ]
    },
    {
     "name": "stderr",
     "output_type": "stream",
     "text": [
      "/tmp/ipykernel_240/2949522943.py:2: UserWarning: Boolean Series key will be reindexed to match DataFrame index.\n",
      "  departments[aisles.duplicated()]\n"
     ]
    }
   ],
   "source": [
    "# Check for aisles entries in the departments dataframe\n",
    "departments[aisles.duplicated()]\n",
    "aisles.duplicated().sum()\n",
    "print(\"Aisle entries don't exist in the departments dataframe.\")"
   ]
  },
  {
   "cell_type": "code",
   "execution_count": 40,
   "id": "58faffce-6a7e-4033-a6fd-6ee20c9488f5",
   "metadata": {},
   "outputs": [
    {
     "name": "stdout",
     "output_type": "stream",
     "text": [
      "0\n"
     ]
    }
   ],
   "source": [
    "print(aisles.duplicated().sum())"
   ]
  },
  {
   "cell_type": "markdown",
   "id": "274cd06a",
   "metadata": {
    "id": "274cd06a"
   },
   "source": [
    "### `order_products` data frame"
   ]
  },
  {
   "cell_type": "code",
   "execution_count": 41,
   "id": "52326689-84a8-4b8f-a881-7c68780f62c9",
   "metadata": {
    "id": "52326689-84a8-4b8f-a881-7c68780f62c9"
   },
   "outputs": [
    {
     "name": "stdout",
     "output_type": "stream",
     "text": [
      "0\n"
     ]
    }
   ],
   "source": [
    "# Check for duplicate entries in the order_products dataframe\n",
    "print(order_products.duplicated().sum())"
   ]
  },
  {
   "cell_type": "markdown",
   "id": "e5952f1b-3a4a-4144-a58e-77d72e1ed599",
   "metadata": {
    "id": "e5952f1b-3a4a-4144-a58e-77d72e1ed599"
   },
   "source": [
    "We have now successfully cleaned our data. Let's begin our exploratory data analysis."
   ]
  },
  {
   "cell_type": "markdown",
   "id": "56cb5950-901b-414c-bf00-16b17d757aef",
   "metadata": {},
   "source": [
    "\n",
    "<div class=\"alert alert-success\" style=\"border-left: 7px solid green\">\n",
    "<b>✅ Reviewer's Comment, v. 1</b>\n",
    "\n",
    "Overall, you've done a great job in this section — you carefully studied the missing values and duplicates and applied the necessary cleaning steps, which are essential for accurate analysis in the following stages.\n",
    "\n",
    "Well done! You've completed all the required checks and data preprocessing.\n",
    "</div>\n"
   ]
  },
  {
   "cell_type": "markdown",
   "id": "turkish-kidney",
   "metadata": {
    "id": "turkish-kidney"
   },
   "source": [
    "# [A] Easy (must complete all to pass)"
   ]
  },
  {
   "cell_type": "markdown",
   "id": "short-capability",
   "metadata": {
    "id": "short-capability"
   },
   "source": [
    "### [A1] Verify that the `'order_hour_of_day'` and `'order_dow'` values in the `orders` tables are sensible (i.e. `'order_hour_of_day'` ranges from 0 to 23 and `'order_dow'` ranges from 0 to 6)\n",
    "\n",
    "To verify that the values in the `order_hour_of_day` and `order_dow` columns are sensible:\n",
    "\n",
    "1. **Check unique values**: Use `.unique()` on each column to extract all distinct values present.\n",
    "2. **Sort the results**: Use `sorted()` to arrange the unique values in ascending order for easier verification.\n",
    "3. **Validate ranges**:\n",
    "   - Ensure `order_hour_of_day` values range from 0 to 23 (representing hours of the day).\n",
    "   - Ensure `order_dow` values range from 0 to 6 (representing days of the week).\n",
    "\n",
    "This process confirms that the data aligns with expected ranges and there are no out-of-bound or invalid entries."
   ]
  },
  {
   "cell_type": "code",
   "execution_count": 42,
   "id": "growing-fruit",
   "metadata": {
    "id": "growing-fruit"
   },
   "outputs": [
    {
     "data": {
      "text/plain": [
       "array([13, 12, 19, 20, 11,  8, 18, 15, 16,  9, 22, 10,  0, 14, 17,  1,  7,\n",
       "        6,  2, 21,  3, 23,  5,  4])"
      ]
     },
     "execution_count": 42,
     "metadata": {},
     "output_type": "execute_result"
    }
   ],
   "source": [
    "orders['order_hour_of_day'].unique()"
   ]
  },
  {
   "cell_type": "code",
   "execution_count": 43,
   "id": "9a002c8f-8a91-4a4e-83ce-56b2e65476ce",
   "metadata": {},
   "outputs": [
    {
     "data": {
      "text/plain": [
       "array([6, 5, 0, 4, 3, 1, 2])"
      ]
     },
     "execution_count": 43,
     "metadata": {},
     "output_type": "execute_result"
    }
   ],
   "source": [
    "orders['order_dow'].unique()"
   ]
  },
  {
   "cell_type": "code",
   "execution_count": 44,
   "id": "accessory-malaysia",
   "metadata": {
    "id": "accessory-malaysia"
   },
   "outputs": [
    {
     "data": {
      "text/plain": [
       "[0,\n",
       " 1,\n",
       " 2,\n",
       " 3,\n",
       " 4,\n",
       " 5,\n",
       " 6,\n",
       " 7,\n",
       " 8,\n",
       " 9,\n",
       " 10,\n",
       " 11,\n",
       " 12,\n",
       " 13,\n",
       " 14,\n",
       " 15,\n",
       " 16,\n",
       " 17,\n",
       " 18,\n",
       " 19,\n",
       " 20,\n",
       " 21,\n",
       " 22,\n",
       " 23]"
      ]
     },
     "execution_count": 44,
     "metadata": {},
     "output_type": "execute_result"
    }
   ],
   "source": [
    "sorted(orders['order_hour_of_day'].unique())"
   ]
  },
  {
   "cell_type": "code",
   "execution_count": 45,
   "id": "e8b355fd-0672-47e2-982b-21b359561bae",
   "metadata": {},
   "outputs": [
    {
     "data": {
      "text/plain": [
       "[0, 1, 2, 3, 4, 5, 6]"
      ]
     },
     "execution_count": 45,
     "metadata": {},
     "output_type": "execute_result"
    }
   ],
   "source": [
    "sorted(orders['order_dow'].unique())"
   ]
  },
  {
   "cell_type": "code",
   "execution_count": 46,
   "id": "307ce799-1659-42ab-88f0-a9b251078d91",
   "metadata": {},
   "outputs": [
    {
     "data": {
      "text/plain": [
       "[0, 23]"
      ]
     },
     "execution_count": 46,
     "metadata": {},
     "output_type": "execute_result"
    }
   ],
   "source": [
    "[orders['order_hour_of_day'].min(), orders['order_hour_of_day'].max()]"
   ]
  },
  {
   "cell_type": "code",
   "execution_count": 47,
   "id": "c5a64cb1-4109-49b4-b28f-0b0dafc9cf19",
   "metadata": {},
   "outputs": [
    {
     "data": {
      "text/plain": [
       "[0, 6]"
      ]
     },
     "execution_count": 47,
     "metadata": {},
     "output_type": "execute_result"
    }
   ],
   "source": [
    "[orders['order_dow'].min(), orders['order_dow'].max()]"
   ]
  },
  {
   "cell_type": "markdown",
   "id": "a6743a70",
   "metadata": {
    "id": "a6743a70"
   },
   "source": [
    "### [A2] What time of day do people shop for groceries?\n",
    "\n",
    "To determine the time of day people shop for groceries, analyze the order_hour_of_day column in the orders dataset. Use .value_counts() to count the number of orders placed at each hour, and then sort the results by the hour for a clear chronological order.\n",
    "\n",
    "Finally, visualize the data with a bar plot to easily observe the shopping trends across different times of the day."
   ]
  },
  {
   "cell_type": "code",
   "execution_count": 48,
   "id": "a36cca27",
   "metadata": {
    "id": "a36cca27"
   },
   "outputs": [
    {
     "data": {
      "image/png": "[encoded data removed]",
      "text/plain": [
       "<Figure size 640x480 with 1 Axes>"
      ]
     },
     "metadata": {},
     "output_type": "display_data"
    }
   ],
   "source": [
    "orders['order_hour_of_day'].value_counts().sort_index().plot(kind= 'bar')\n",
    "plt.title('Orders by Hour of Day')\n",
    "plt.xlabel('Hours')\n",
    "plt.ylabel('Number of Orders')\n",
    "plt.show()"
   ]
  },
  {
   "cell_type": "markdown",
   "id": "11270eed",
   "metadata": {
    "id": "11270eed"
   },
   "source": [
    "Most orders occur between 9:00 AM and 5:00 PM, with peaks at 10:00 AM and 3:00 PM"
   ]
  },
  {
   "cell_type": "markdown",
   "id": "documented-command",
   "metadata": {
    "id": "documented-command"
   },
   "source": [
    "### [A3] What day of the week do people shop for groceries?\n",
    "\n",
    "To figure out what day of the week people shop for groceries, analyze the order_dow column in the orders dataset. Use .value_counts() to count the number of orders for each day of the week, and then sort the results by the day index to maintain the correct order.\n",
    "\n",
    "Visualize the data with a bar plot to clearly observe shopping patterns across the days of the week."
   ]
  },
  {
   "cell_type": "code",
   "execution_count": 49,
   "id": "chief-digit",
   "metadata": {
    "id": "chief-digit"
   },
   "outputs": [
    {
     "data": {
      "image/png": "[encoded data removed]",
      "text/plain": [
       "<Figure size 640x480 with 1 Axes>"
      ]
     },
     "metadata": {},
     "output_type": "display_data"
    }
   ],
   "source": [
    "orders['order_dow'].value_counts().sort_index().plot(kind='bar')\n",
    "plt.title('Number of Orders by Day of Week')\n",
    "plt.xlabel('Day of Week')\n",
    "plt.ylabel('Number of Orders')\n",
    "plt.show()"
   ]
  },
  {
   "cell_type": "markdown",
   "id": "dominant-lightning",
   "metadata": {
    "id": "dominant-lightning"
   },
   "source": [
    "The data dictionary does not state which integer corresponds to which day of the week. Assuming Sunday = 0, then people place more orders at the beginning of the week (Sunday and Monday)."
   ]
  },
  {
   "cell_type": "markdown",
   "id": "cutting-concert",
   "metadata": {
    "id": "cutting-concert"
   },
   "source": [
    "### [A4] How long do people wait until placing another order?\n",
    "\n",
    "To understand how long people wait before placing another order, analyze the days_since_prior_order column in the orders dataset. Use .value_counts() to count how many orders were placed for each interval of days, then sort the results by the number of days for clarity.\n",
    "\n",
    "Visualize the data using a bar plot to observe patterns in ordering frequency over time."
   ]
  },
  {
   "cell_type": "code",
   "execution_count": 50,
   "id": "c231f523",
   "metadata": {
    "id": "c231f523"
   },
   "outputs": [
    {
     "data": {
      "image/png": "[encoded data removed]",
      "text/plain": [
       "<Figure size 640x480 with 1 Axes>"
      ]
     },
     "metadata": {},
     "output_type": "display_data"
    }
   ],
   "source": [
    "orders['days_since_prior_order'].value_counts().sort_index().plot(kind= 'bar')\n",
    "plt.title('Number of Days Between Orders')\n",
    "plt.xlabel('Number of Days')\n",
    "plt.ylabel('Number of Orders')\n",
    "plt.show()"
   ]
  },
  {
   "cell_type": "markdown",
   "id": "discrete-vertex",
   "metadata": {
    "id": "discrete-vertex"
   },
   "source": [
    "The 0 values probably correspond to customers who placed more than one order on the same day.\n",
    "\n",
    "The max value of 30 days and the high spike at that value is puzzling though. The spike might be explained by people who set up recurring subscriptions to automatically order once a month. But that doesn't explain why there are no values above 30 days. I would expect many customers to place orders less often than once a month. Maybe those customers were intentionally excluded from the dataset."
   ]
  },
  {
   "cell_type": "markdown",
   "id": "8d926614",
   "metadata": {
    "id": "8d926614"
   },
   "source": [
    "Disregarding the spike at 30 days, most people wait between 2 to 10 days in between orders. The most common wait time is 7 days. In other words, it's common for people to place weekly grocery orders. Interestingly, in the tail of the distribution we also see small spikes at 14, 21, and 28 days. These would correspond to orders every 2, 3, or 4 weeks."
   ]
  },
  {
   "cell_type": "markdown",
   "id": "tight-staff",
   "metadata": {
    "id": "tight-staff"
   },
   "source": [
    "# [B] Medium (must complete all to pass)"
   ]
  },
  {
   "cell_type": "markdown",
   "id": "packed-classic",
   "metadata": {
    "id": "packed-classic"
   },
   "source": [
    "### [B1] Is there a difference in `'order_hour_of_day'` distributions on Wednesdays and Saturdays? Plot the histograms for both days and describe the differences that you see.\n",
    "\n",
    "To determine if there’s a difference in the `order_hour_of_day` distributions on Wednesdays and Saturdays, follow these steps:\n",
    "\n",
    "1. **Create masks** for Wednesday (`order_dow == 3`) and Saturday (`order_dow == 6`) to filter the orders data.\n",
    "2. **Count the order hours** for each day using `.value_counts()` and sort them by hour with `.sort_index()` for clarity.\n",
    "3. **Combine the counts** for both days into a single DataFrame using `pd.concat()`, and label the columns for easier interpretation.\n",
    "\n",
    "After preparing the data, plot histograms for both days to visually compare the distribution of order times. Look for patterns such as peaks or differences in the busiest times."
   ]
  },
  {
   "cell_type": "code",
   "execution_count": 51,
   "id": "d89b8403",
   "metadata": {
    "id": "d89b8403"
   },
   "outputs": [],
   "source": [
    "wednesday_mask= orders['order_dow'] == 3\n",
    "\n",
    "saturday_mask= orders['order_dow'] == 6"
   ]
  },
  {
   "cell_type": "code",
   "execution_count": 52,
   "id": "94e54e8a",
   "metadata": {
    "id": "94e54e8a"
   },
   "outputs": [],
   "source": [
    "wednesday_counts= orders[wednesday_mask]['order_hour_of_day'].value_counts().sort_index()"
   ]
  },
  {
   "cell_type": "code",
   "execution_count": 53,
   "id": "797c90a8",
   "metadata": {
    "id": "797c90a8"
   },
   "outputs": [],
   "source": [
    "saturday_counts= orders[saturday_mask]['order_hour_of_day'].value_counts().sort_index()"
   ]
  },
  {
   "cell_type": "code",
   "execution_count": 54,
   "id": "35bcea30",
   "metadata": {
    "id": "35bcea30"
   },
   "outputs": [],
   "source": [
    "combined_days= pd.concat([wednesday_counts, saturday_counts], axis=1, keys= ['Wednesday', 'Saturday'])"
   ]
  },
  {
   "cell_type": "code",
   "execution_count": 55,
   "id": "4c69d4b9-46e2-485e-b321-20a8b0c67e26",
   "metadata": {},
   "outputs": [
    {
     "data": {
      "image/png": "[encoded data removed]",
      "text/plain": [
       "<Figure size 1200x600 with 1 Axes>"
      ]
     },
     "metadata": {},
     "output_type": "display_data"
    }
   ],
   "source": [
    "plt.figure(figsize= (12, 6))\n",
    "orders[wednesday_mask]['order_hour_of_day'].hist(bins= 24, alpha= 0.6, label= 'Wednesday')\n",
    "orders[saturday_mask]['order_hour_of_day'].hist(bins= 24, alpha= 0.6, label= 'Saturday')\n",
    "plt.title('Order Hours: Wednesday vs Saturday')\n",
    "plt.xlabel('Hour of Day')\n",
    "plt.ylabel('Number of Orders')\n",
    "plt.legend()\n",
    "plt.show()"
   ]
  },
  {
   "cell_type": "markdown",
   "id": "charitable-congo",
   "metadata": {
    "id": "charitable-congo"
   },
   "source": [
    "There's a small dip from 11h to 13h on Wednesdays. This dip is absent on Saturdays. Maybe this dip can be attributed to people who don't use Instacart because they have lunch somewhere between 11h and 13h."
   ]
  },
  {
   "cell_type": "markdown",
   "id": "e3891143",
   "metadata": {
    "id": "e3891143"
   },
   "source": [
    "### [B2] What's the distribution for the number of orders per customer?\n",
    "\n",
    "To explore the distribution of the number of orders per customer:\n",
    "\n",
    "1. **Group the data** by `user_id` to calculate the total number of orders for each customer. Use `.groupby('user_id')` and count the `order_id` for each group.\n",
    "2. **Sort the results** using `.sort_values()` for better readability.\n",
    "3. **Visualize the distribution** using a histogram to observe how many orders most customers typically place.\n",
    "\n",
    "Adjust the number of bins in the histogram to refine the visualization and better capture the pattern."
   ]
  },
  {
   "cell_type": "code",
   "execution_count": 56,
   "id": "d8c26c23",
   "metadata": {
    "id": "d8c26c23"
   },
   "outputs": [
    {
     "name": "stdout",
     "output_type": "stream",
     "text": [
      "user_id\n",
      "149605    28\n",
      "193164    26\n",
      "78375     25\n",
      "66664     24\n",
      "134511    24\n",
      "          ..\n",
      "56616      1\n",
      "56614      1\n",
      "56611      1\n",
      "56608      1\n",
      "54291      1\n",
      "Name: order_id, Length: 157437, dtype: int64\n"
     ]
    }
   ],
   "source": [
    "orders_per_customer= orders.groupby('user_id')['order_id'].count()\n",
    "print(orders_per_customer.sort_values(ascending=False))"
   ]
  },
  {
   "cell_type": "code",
   "execution_count": 57,
   "id": "00e69a66",
   "metadata": {
    "id": "00e69a66"
   },
   "outputs": [
    {
     "data": {
      "image/png": "[encoded data removed]",
      "text/plain": [
       "<Figure size 640x480 with 1 Axes>"
      ]
     },
     "metadata": {},
     "output_type": "display_data"
    }
   ],
   "source": [
    "plt.hist(orders_per_customer, bins=28)\n",
    "plt.title('Distribution of Number of Orders Per Customer')\n",
    "plt.xlabel('Number of Orders')\n",
    "plt.ylabel('Number of Customers')\n",
    "plt.show()"
   ]
  },
  {
   "cell_type": "markdown",
   "id": "5d5b0fd8-7ade-4819-af5f-bd92d4f2a3c4",
   "metadata": {},
   "source": [
    "\n",
    "<div class=\"alert alert-warning\" style=\"border-left: 7px solid gold\">\n",
    "<b>⚠️ Reviewer's Comment, v. 1</b>\n",
    "\n",
    "If you notice gaps in your histogram, it could indicate that the number of bins is too high compared to the number of unique values in the data.  \n",
    "I recommend reducing the number of bins to 28 (which is the max value in your data) to create a clearer and more informative visualization.\n"
   ]
  },
  {
   "cell_type": "markdown",
   "id": "d2eff7d5",
   "metadata": {
    "id": "d2eff7d5"
   },
   "source": [
    "Most customers in the dataset have placed between 1 and 10 orders, with number of orders per customer sharply decreasing after just 1 order."
   ]
  },
  {
   "cell_type": "markdown",
   "id": "54a0319c",
   "metadata": {
    "id": "54a0319c"
   },
   "source": [
    "### [B3] What are the top 20 popular products (display their id and name)?\n",
    "\n",
    "To identify the top 20 most popular products:\n",
    "\n",
    "1. **Merge the datasets**: Combine `order_products` and `products` on `product_id` to access both the product IDs and names in a single DataFrame.\n",
    "2. **Group the data**: Group by both `product_id` and `product_name` to aggregate the order counts for each product using `.size()`.\n",
    "3. **Sort the results**: Use `.sort_values(ascending=False)` to rank products by their popularity.\n",
    "4. **Display the top 20**: Use `.head(20)` to focus on the most frequently ordered products.\n",
    "5. **Visualize the results**: Create a bar chart to highlight the top products and their order counts.\n",
    "\n",
    "This will give you a clear view of the most popular products and their ranking.\n"
   ]
  },
  {
   "cell_type": "code",
   "execution_count": 58,
   "id": "exterior-arizona",
   "metadata": {
    "id": "exterior-arizona",
    "scrolled": true
   },
   "outputs": [
    {
     "name": "stdout",
     "output_type": "stream",
     "text": [
      "product_id  product_name                                                     \n",
      "1           Chocolate Sandwich Cookies                                           280\n",
      "2           All-Seasons Salt                                                      11\n",
      "3           Robust Golden Unsweetened Oolong Tea                                  42\n",
      "4           Smart Ones Classic Favorites Mini Rigatoni With Vodka Cream Sauce     49\n",
      "7           Pure Coconut Water With Orange                                         2\n",
      "                                                                                ... \n",
      "49684       Vodka- Triple Distilled- Twist of Vanilla                              1\n",
      "49685       En Croute Roast Hazelnut Cranberry                                     2\n",
      "49686       Artisan Baguette                                                      24\n",
      "49687       Smartblend Healthy Metabolism Dry Cat Food                             1\n",
      "49688       Fresh Foaming Cleanser                                                 9\n",
      "Length: 44516, dtype: int64\n"
     ]
    }
   ],
   "source": [
    "popular_products = order_products.merge(products, on='product_id')\n",
    "product_counts= popular_products.groupby(['product_id', 'product_name']).size()\n",
    "print(product_counts)"
   ]
  },
  {
   "cell_type": "code",
   "execution_count": 59,
   "id": "universal-facial",
   "metadata": {
    "id": "universal-facial"
   },
   "outputs": [
    {
     "name": "stdout",
     "output_type": "stream",
     "text": [
      "product_id  product_name            \n",
      "24852       Banana                      66050\n",
      "13176       Bag of Organic Bananas      53297\n",
      "21137       Organic Strawberries        37039\n",
      "21903       Organic Baby Spinach        33971\n",
      "47209       Organic Hass Avocado        29773\n",
      "47766       Organic Avocado             24689\n",
      "47626       Large Lemon                 21495\n",
      "16797       Strawberries                20018\n",
      "26209       Limes                       19690\n",
      "27845       Organic Whole Milk          19600\n",
      "27966       Organic Raspberries         19197\n",
      "22935       Organic Yellow Onion        15898\n",
      "24964       Organic Garlic              15292\n",
      "45007       Organic Zucchini            14584\n",
      "39275       Organic Blueberries         13879\n",
      "49683       Cucumber Kirby              13675\n",
      "28204       Organic Fuji Apple          12544\n",
      "5876        Organic Lemon               12232\n",
      "8277        Apple Honeycrisp Organic    11993\n",
      "40706       Organic Grape Tomatoes      11781\n",
      "dtype: int64\n"
     ]
    }
   ],
   "source": [
    "product_counts_sorted= product_counts.sort_values(ascending=False)\n",
    "print(product_counts_sorted.head(20))"
   ]
  },
  {
   "cell_type": "code",
   "execution_count": 60,
   "id": "bbcdd20b",
   "metadata": {
    "id": "bbcdd20b"
   },
   "outputs": [
    {
     "data": {
      "image/png": "[encoded data removed]",
      "text/plain": [
       "<Figure size 1200x800 with 1 Axes>"
      ]
     },
     "metadata": {},
     "output_type": "display_data"
    }
   ],
   "source": [
    "top_20= product_counts_sorted.head(20)\n",
    "\n",
    "plt.figure(figsize= (12, 8))\n",
    "plt.bar(range(len(top_20)), top_20.values)\n",
    "plt.xticks(range(len(top_20)),top_20.index.get_level_values('product_name'), rotation= 45)\n",
    "plt.title('Top 20 Most Popular Products')\n",
    "plt.xlabel('Products')\n",
    "plt.ylabel('Number of Orders')\n",
    "plt.show()"
   ]
  },
  {
   "cell_type": "markdown",
   "id": "7df00f47",
   "metadata": {
    "id": "7df00f47"
   },
   "source": [
    "The top 20 items are all produce, except for the milk. Looks like people want delicious and nutritious!"
   ]
  },
  {
   "cell_type": "markdown",
   "id": "e5f7ac32-72fb-4a4d-b49f-1c41d3b96044",
   "metadata": {},
   "source": [
    "\n",
    "<div class=\"alert alert-success\" style=\"border-left: 7px solid green\">\n",
    "<b>✅ Reviewer’s Comment, v. 1</b>  \n",
    "\n",
    "Excellent work on your visualizations!  \n",
    "Each chart has a clear and descriptive title, properly labeled axes, and a legend where needed.  \n",
    "\n",
    "You also carefully prepared the data for each chart, ensuring the visualizations are accurate and meaningful.  \n",
    "Your graphs not only look professional but also directly answer the questions posed in the assignment.  \n",
    "Great job ensuring both clarity and relevance in your visual storytelling — this is a key skill in data analysis!\n"
   ]
  },
  {
   "cell_type": "markdown",
   "id": "gross-theme",
   "metadata": {
    "id": "gross-theme"
   },
   "source": [
    "# [C] Hard (must complete at least two to pass)"
   ]
  },
  {
   "cell_type": "markdown",
   "id": "romantic-deposit",
   "metadata": {
    "id": "romantic-deposit"
   },
   "source": [
    "### [C1] How many items do people typically buy in one order? What does the distribution look like?\n",
    "To analyze how many items people typically buy in one order:\n",
    "\n",
    "1. **Group the data** by `order_id` and count the number of products (`product_id`) in each order using `.count()`. This gives the number of items in each order.\n",
    "2. **Aggregate the counts**: Use `.value_counts()` to determine how frequently different order sizes occur, and then sort the results with `.sort_index()` to organize by the number of items.\n",
    "3. **Visualize the distribution**: Use a bar plot to show the frequency of orders for each size, with the x-axis representing the number of items and the y-axis representing the number of orders.\n",
    "\n",
    "This will help you understand the typical size of a grocery order and identify any trends in purchasing behavior."
   ]
  },
  {
   "cell_type": "code",
   "execution_count": 61,
   "id": "virtual-punch",
   "metadata": {
    "id": "virtual-punch"
   },
   "outputs": [
    {
     "data": {
      "text/plain": [
       "order_id\n",
       "4          13\n",
       "9          15\n",
       "11          5\n",
       "19          3\n",
       "20          8\n",
       "           ..\n",
       "3421034    17\n",
       "3421053     9\n",
       "3421071     5\n",
       "3421077     4\n",
       "3421079     1\n",
       "Name: product_id, Length: 450046, dtype: int64"
      ]
     },
     "execution_count": 61,
     "metadata": {},
     "output_type": "execute_result"
    }
   ],
   "source": [
    "order_products.groupby('order_id')['product_id'].count()"
   ]
  },
  {
   "cell_type": "code",
   "execution_count": 62,
   "id": "sensitive-breathing",
   "metadata": {
    "id": "sensitive-breathing"
   },
   "outputs": [
    {
     "name": "stdout",
     "output_type": "stream",
     "text": [
      "5      31923\n",
      "6      31698\n",
      "4      31054\n",
      "7      30822\n",
      "3      29046\n",
      "       ...  \n",
      "80         1\n",
      "87         1\n",
      "85         1\n",
      "72         1\n",
      "127        1\n",
      "Name: product_id, Length: 90, dtype: int64\n"
     ]
    }
   ],
   "source": [
    "op_counts= order_products.groupby('order_id')['product_id'].count().value_counts()\n",
    "print(op_counts)"
   ]
  },
  {
   "cell_type": "markdown",
   "id": "bd4ed530",
   "metadata": {
    "id": "bd4ed530"
   },
   "source": [
    "Most of the order numbers are in the tail of the distribution. To get a better look at the non-tail part, let's choose a value in the tail as a cutoff and just plot order with fewer than that many items. An order size of 35 items is far enough into the tail for this."
   ]
  },
  {
   "cell_type": "code",
   "execution_count": 63,
   "id": "completed-frank",
   "metadata": {
    "id": "completed-frank"
   },
   "outputs": [
    {
     "data": {
      "image/png": "[encoded data removed]",
      "text/plain": [
       "<Figure size 640x480 with 1 Axes>"
      ]
     },
     "metadata": {},
     "output_type": "display_data"
    }
   ],
   "source": [
    "op_counts[op_counts.index < 35].plot(kind='bar')\n",
    "plt.title('Items Typically Purchased in One Order')\n",
    "plt.xlabel('Number of Items')\n",
    "plt.ylabel('Number of Orders')\n",
    "plt.show()"
   ]
  },
  {
   "cell_type": "markdown",
   "id": "designed-mortality",
   "metadata": {
    "id": "designed-mortality"
   },
   "source": [
    "The typical order contains 5 or 6 items, with most orders having between 1 and 20 items."
   ]
  },
  {
   "cell_type": "markdown",
   "id": "5e6b5537",
   "metadata": {
    "id": "5e6b5537"
   },
   "source": [
    "### [C2] What are the top 20 items that are reordered most frequently (display their names and product IDs)?\n",
    "\n",
    "To find the top 20 most frequently reordered items:\n",
    "\n",
    "1. **Filter the data**: Use `order_products['reordered'] == 1` to isolate only the products that have been reordered.\n",
    "2. **Merge the datasets**: Combine the filtered `order_products` with the `products` dataset on `product_id` to get both the product names and IDs.\n",
    "3. **Group the data**: Group by both `product_id` and `product_name` to calculate how many times each product was reordered, using `.size()`.\n",
    "4. **Sort the results**: Use `.sort_values(ascending=False)` to rank the products by reorder frequency.\n",
    "5. **Display the top 20**: Use `.head(20)` to focus on the most frequently reordered products.\n",
    "6. **Visualize the data**: Create a bar chart to showcase the top reordered items and their frequencies.\n",
    "\n",
    "This process highlights the products that customers consistently return to and reorder."
   ]
  },
  {
   "cell_type": "code",
   "execution_count": 64,
   "id": "9374e55a",
   "metadata": {
    "id": "9374e55a"
   },
   "outputs": [
    {
     "name": "stdout",
     "output_type": "stream",
     "text": [
      "(2683838, 4)\n"
     ]
    }
   ],
   "source": [
    "order_products['reordered'] == 1\n",
    "reordered_items = order_products[order_products['reordered'] == 1]\n",
    "print(reordered_items.shape)"
   ]
  },
  {
   "cell_type": "code",
   "execution_count": 65,
   "id": "possible-change",
   "metadata": {
    "id": "possible-change",
    "scrolled": true
   },
   "outputs": [
    {
     "data": {
      "text/plain": [
       "product_id  product_name                                             \n",
       "24852       Banana                                                       55763\n",
       "13176       Bag of Organic Bananas                                       44450\n",
       "21137       Organic Strawberries                                         28639\n",
       "21903       Organic Baby Spinach                                         26233\n",
       "47209       Organic Hass Avocado                                         23629\n",
       "                                                                         ...  \n",
       "28081       Whole Wheat with White Cheddar Filling Cracker Sandwiches        1\n",
       "28084       Cote D Azur French Milled Oval Bar Soap                          1\n",
       "28089       Rolled Hot Cereal 5 Grain                                        1\n",
       "28112       Hickory &  Brown Sugar Barbecue Sauce                            1\n",
       "49688       Fresh Foaming Cleanser                                           1\n",
       "Length: 35639, dtype: int64"
      ]
     },
     "execution_count": 65,
     "metadata": {},
     "output_type": "execute_result"
    }
   ],
   "source": [
    "both_ds= pd.merge(reordered_items, products, on='product_id')\n",
    "both_ds.groupby(['product_id', 'product_name']).size().sort_values(ascending=False)"
   ]
  },
  {
   "cell_type": "code",
   "execution_count": 66,
   "id": "professional-surfing",
   "metadata": {
    "id": "professional-surfing",
    "scrolled": true
   },
   "outputs": [
    {
     "name": "stdout",
     "output_type": "stream",
     "text": [
      "product_id  product_name            \n",
      "24852       Banana                      55763\n",
      "13176       Bag of Organic Bananas      44450\n",
      "21137       Organic Strawberries        28639\n",
      "21903       Organic Baby Spinach        26233\n",
      "47209       Organic Hass Avocado        23629\n",
      "47766       Organic Avocado             18743\n",
      "27845       Organic Whole Milk          16251\n",
      "47626       Large Lemon                 15044\n",
      "27966       Organic Raspberries         14748\n",
      "16797       Strawberries                13945\n",
      "26209       Limes                       13327\n",
      "22935       Organic Yellow Onion        11145\n",
      "24964       Organic Garlic              10411\n",
      "45007       Organic Zucchini            10076\n",
      "49683       Cucumber Kirby               9538\n",
      "28204       Organic Fuji Apple           8989\n",
      "8277        Apple Honeycrisp Organic     8836\n",
      "39275       Organic Blueberries          8799\n",
      "5876        Organic Lemon                8412\n",
      "49235       Organic Half & Half          8389\n",
      "dtype: int64\n"
     ]
    }
   ],
   "source": [
    "top_20= both_ds.groupby(['product_id', 'product_name']).size().sort_values(ascending=False).head(20)\n",
    "print(top_20)"
   ]
  },
  {
   "cell_type": "code",
   "execution_count": 67,
   "id": "48dd3658",
   "metadata": {
    "id": "48dd3658"
   },
   "outputs": [
    {
     "data": {
      "image/png": "[encoded data removed]",
      "text/plain": [
       "<Figure size 1000x800 with 1 Axes>"
      ]
     },
     "metadata": {},
     "output_type": "display_data"
    }
   ],
   "source": [
    "top_20.plot(kind= 'bar',\n",
    "            figsize= (10,8),\n",
    "           title= 'Top 20 Most Frequent Reordered Items',\n",
    "           xlabel= 'Product Name',\n",
    "           ylabel= 'Number of Sales')\n",
    "plt.xticks(range(len(top_20)),top_20.index.get_level_values('product_name'))\n",
    "plt.tight_layout()\n",
    "plt.show()"
   ]
  },
  {
   "cell_type": "markdown",
   "id": "80e70c74",
   "metadata": {
    "id": "80e70c74"
   },
   "source": [
    "It looks like produce and dairy comprise the most reordered products as well. It makes sense that perishables would be the most reordered items."
   ]
  },
  {
   "cell_type": "markdown",
   "id": "9d312b14",
   "metadata": {
    "id": "9d312b14"
   },
   "source": [
    "### [C3] For each product, what proportion of its orders are reorders?\n",
    "\n",
    "To calculate the proportion of orders for each product that are reorders:\n",
    "\n",
    "1. **Merge the datasets**: Combine `order_products` with the `products` dataset to access product names and IDs in the same DataFrame.\n",
    "2. **Group the data**: Group by `product_id` and `product_name` to isolate each product's order history.\n",
    "3. **Calculate the mean of `reordered`**: Use `.mean()` on the `reordered` column to compute the proportion of orders for each product that were reorders. The value represents the reorder rate.\n",
    "4. **Sort the results**: Use `.sort_values(ascending=False)` to rank products by their reorder rates.\n",
    "5. **Convert to a DataFrame**: Use `.reset_index()` to organize the grouped data into a readable DataFrame.\n",
    "6. **Optional Sorting**: Sort the results by `product_id` or another column for better clarity.\n",
    "\n",
    "This approach provides insights into how frequently each product is reordered, helping identify customer favorites or staples.\n"
   ]
  },
  {
   "cell_type": "code",
   "execution_count": 68,
   "id": "8ae9f4b1",
   "metadata": {
    "id": "8ae9f4b1"
   },
   "outputs": [
    {
     "name": "stdout",
     "output_type": "stream",
     "text": [
      "product_id  product_name                                                     \n",
      "1           Chocolate Sandwich Cookies                                           0.564286\n",
      "2           All-Seasons Salt                                                     0.000000\n",
      "3           Robust Golden Unsweetened Oolong Tea                                 0.738095\n",
      "4           Smart Ones Classic Favorites Mini Rigatoni With Vodka Cream Sauce    0.510204\n",
      "7           Pure Coconut Water With Orange                                       0.500000\n",
      "                                                                                   ...   \n",
      "49684       Vodka- Triple Distilled- Twist of Vanilla                            0.000000\n",
      "49685       En Croute Roast Hazelnut Cranberry                                   0.500000\n",
      "49686       Artisan Baguette                                                     0.625000\n",
      "49687       Smartblend Healthy Metabolism Dry Cat Food                           0.000000\n",
      "49688       Fresh Foaming Cleanser                                               0.111111\n",
      "Name: reordered, Length: 44516, dtype: float64\n"
     ]
    }
   ],
   "source": [
    "merged_ds= pd.merge(order_products, products, on='product_id', how= 'inner')\n",
    "grouped= merged_ds.groupby(['product_id', 'product_name'])['reordered'].mean()\n",
    "print(grouped)"
   ]
  },
  {
   "cell_type": "code",
   "execution_count": 69,
   "id": "103e7fe1",
   "metadata": {
    "id": "103e7fe1"
   },
   "outputs": [
    {
     "name": "stdout",
     "output_type": "stream",
     "text": [
      "       product_id                                product_name  reordered\n",
      "0           18121                     Jalapenos With Sea Salt        1.0\n",
      "1           27387                  Banana Greek Nonfat Yogurt        1.0\n",
      "2           17773                      Quinoa- with Olive Oil        1.0\n",
      "3           49063                Rosemary & Sea Salt Crackers        1.0\n",
      "4           14935                    Kombucha Blueberry Basil        1.0\n",
      "...           ...                                         ...        ...\n",
      "44511       25053             Frost Arctic Blitz Sports Drink        0.0\n",
      "44512       25051                     Herb for Beef Gravy Mix        0.0\n",
      "44513       25045                        Bandages- Waterproof        0.0\n",
      "44514       25044  Pure Pacific Mountain Strawberry Preserves        0.0\n",
      "44515       24793                            Sea Salt- Course        0.0\n",
      "\n",
      "[44516 rows x 3 columns]\n"
     ]
    }
   ],
   "source": [
    "sorted_products= grouped.sort_values(ascending=False)\n",
    "\n",
    "sp_dataframe= sorted_products.reset_index()\n",
    "print(sp_dataframe)"
   ]
  },
  {
   "cell_type": "code",
   "execution_count": 70,
   "id": "social-individual",
   "metadata": {
    "id": "social-individual"
   },
   "outputs": [
    {
     "data": {
      "text/html": [
       "<div>\n",
       "<style scoped>\n",
       "    .dataframe tbody tr th:only-of-type {\n",
       "        vertical-align: middle;\n",
       "    }\n",
       "\n",
       "    .dataframe tbody tr th {\n",
       "        vertical-align: top;\n",
       "    }\n",
       "\n",
       "    .dataframe thead th {\n",
       "        text-align: right;\n",
       "    }\n",
       "</style>\n",
       "<table border=\"1\" class=\"dataframe\">\n",
       "  <thead>\n",
       "    <tr style=\"text-align: right;\">\n",
       "      <th></th>\n",
       "      <th>product_id</th>\n",
       "      <th>product_name</th>\n",
       "      <th>reordered</th>\n",
       "    </tr>\n",
       "  </thead>\n",
       "  <tbody>\n",
       "    <tr>\n",
       "      <th>34870</th>\n",
       "      <td>49688</td>\n",
       "      <td>Fresh Foaming Cleanser</td>\n",
       "      <td>0.111111</td>\n",
       "    </tr>\n",
       "    <tr>\n",
       "      <th>38360</th>\n",
       "      <td>49687</td>\n",
       "      <td>Smartblend Healthy Metabolism Dry Cat Food</td>\n",
       "      <td>0.000000</td>\n",
       "    </tr>\n",
       "    <tr>\n",
       "      <th>8600</th>\n",
       "      <td>49686</td>\n",
       "      <td>Artisan Baguette</td>\n",
       "      <td>0.625000</td>\n",
       "    </tr>\n",
       "    <tr>\n",
       "      <th>17853</th>\n",
       "      <td>49685</td>\n",
       "      <td>En Croute Roast Hazelnut Cranberry</td>\n",
       "      <td>0.500000</td>\n",
       "    </tr>\n",
       "    <tr>\n",
       "      <th>38357</th>\n",
       "      <td>49684</td>\n",
       "      <td>Vodka- Triple Distilled- Twist of Vanilla</td>\n",
       "      <td>0.000000</td>\n",
       "    </tr>\n",
       "    <tr>\n",
       "      <th>...</th>\n",
       "      <td>...</td>\n",
       "      <td>...</td>\n",
       "      <td>...</td>\n",
       "    </tr>\n",
       "    <tr>\n",
       "      <th>17908</th>\n",
       "      <td>7</td>\n",
       "      <td>Pure Coconut Water With Orange</td>\n",
       "      <td>0.500000</td>\n",
       "    </tr>\n",
       "    <tr>\n",
       "      <th>14764</th>\n",
       "      <td>4</td>\n",
       "      <td>Smart Ones Classic Favorites Mini Rigatoni Wit...</td>\n",
       "      <td>0.510204</td>\n",
       "    </tr>\n",
       "    <tr>\n",
       "      <th>3746</th>\n",
       "      <td>3</td>\n",
       "      <td>Robust Golden Unsweetened Oolong Tea</td>\n",
       "      <td>0.738095</td>\n",
       "    </tr>\n",
       "    <tr>\n",
       "      <th>44430</th>\n",
       "      <td>2</td>\n",
       "      <td>All-Seasons Salt</td>\n",
       "      <td>0.000000</td>\n",
       "    </tr>\n",
       "    <tr>\n",
       "      <th>11957</th>\n",
       "      <td>1</td>\n",
       "      <td>Chocolate Sandwich Cookies</td>\n",
       "      <td>0.564286</td>\n",
       "    </tr>\n",
       "  </tbody>\n",
       "</table>\n",
       "<p>44516 rows × 3 columns</p>\n",
       "</div>"
      ],
      "text/plain": [
       "       product_id                                       product_name  \\\n",
       "34870       49688                             Fresh Foaming Cleanser   \n",
       "38360       49687         Smartblend Healthy Metabolism Dry Cat Food   \n",
       "8600        49686                                   Artisan Baguette   \n",
       "17853       49685                 En Croute Roast Hazelnut Cranberry   \n",
       "38357       49684          Vodka- Triple Distilled- Twist of Vanilla   \n",
       "...           ...                                                ...   \n",
       "17908           7                     Pure Coconut Water With Orange   \n",
       "14764           4  Smart Ones Classic Favorites Mini Rigatoni Wit...   \n",
       "3746            3               Robust Golden Unsweetened Oolong Tea   \n",
       "44430           2                                   All-Seasons Salt   \n",
       "11957           1                         Chocolate Sandwich Cookies   \n",
       "\n",
       "       reordered  \n",
       "34870   0.111111  \n",
       "38360   0.000000  \n",
       "8600    0.625000  \n",
       "17853   0.500000  \n",
       "38357   0.000000  \n",
       "...          ...  \n",
       "17908   0.500000  \n",
       "14764   0.510204  \n",
       "3746    0.738095  \n",
       "44430   0.000000  \n",
       "11957   0.564286  \n",
       "\n",
       "[44516 rows x 3 columns]"
      ]
     },
     "execution_count": 70,
     "metadata": {},
     "output_type": "execute_result"
    }
   ],
   "source": [
    "sp_dataframe.sort_values('product_id', ascending=False)"
   ]
  },
  {
   "cell_type": "markdown",
   "id": "subject-boxing",
   "metadata": {
    "id": "subject-boxing"
   },
   "source": [
    "### [C4] For each customer, what proportion of their products ordered are reorders?\n",
    "\n",
    "To calculate the proportion of products reordered by each customer:\n",
    "\n",
    "1. **Merge the datasets**: Combine `order_products` with `orders` to link order and customer information.\n",
    "2. **Group the data**: Group by `user_id` to focus on each customer's ordering behavior.\n",
    "3. **Calculate the mean of `reordered`**: Use `.mean()` on the `reordered` column to determine the proportion of products reordered by each customer.\n",
    "4. **Sort the results**: Use `.sort_values(ascending=False)` to identify customers with the highest reorder rates.\n",
    "5. **Convert to a DataFrame**: Use `.reset_index()` to format the grouped data into a structured DataFrame for further analysis.\n",
    "\n",
    "This analysis reveals the extent to which individual customers reorder products, providing insights into customer loyalty and preferences.\n"
   ]
  },
  {
   "cell_type": "code",
   "execution_count": 71,
   "id": "medical-couple",
   "metadata": {
    "id": "medical-couple",
    "scrolled": true
   },
   "outputs": [
    {
     "name": "stdout",
     "output_type": "stream",
     "text": [
      "user_id\n",
      "137587    1.0\n",
      "173474    1.0\n",
      "13918     1.0\n",
      "62300     1.0\n",
      "62307     1.0\n",
      "         ... \n",
      "190953    0.0\n",
      "119371    0.0\n",
      "63173     0.0\n",
      "63163     0.0\n",
      "165726    0.0\n",
      "Name: reordered, Length: 149626, dtype: float64\n"
     ]
    }
   ],
   "source": [
    "merged= pd.merge(order_products, orders, on='order_id')\n",
    "grouped_data= merged.groupby('user_id')['reordered'].mean()\n",
    "sorted_data= grouped_data.sort_values(ascending= False)\n",
    "print(sorted_data)"
   ]
  },
  {
   "cell_type": "code",
   "execution_count": 72,
   "id": "8892e4b4",
   "metadata": {
    "id": "8892e4b4"
   },
   "outputs": [
    {
     "name": "stdout",
     "output_type": "stream",
     "text": [
      "        user_id  reordered\n",
      "0        137587        1.0\n",
      "1        173474        1.0\n",
      "2         13918        1.0\n",
      "3         62300        1.0\n",
      "4         62307        1.0\n",
      "...         ...        ...\n",
      "149621   190953        0.0\n",
      "149622   119371        0.0\n",
      "149623    63173        0.0\n",
      "149624    63163        0.0\n",
      "149625   165726        0.0\n",
      "\n",
      "[149626 rows x 2 columns]\n"
     ]
    }
   ],
   "source": [
    "sorted_data_converted= sorted_data.reset_index()\n",
    "print(sorted_data_converted)"
   ]
  },
  {
   "cell_type": "markdown",
   "id": "27bfa181-1570-4857-b09a-c600a47b4f41",
   "metadata": {},
   "source": [
    "\n",
    "<div class=\"alert alert-success\" style=\"border-left: 7px solid green\">\n",
    "<b>✅ Reviewer’s Comment, v. 1</b>  \n",
    "\n",
    "You've done great job on the tasks."
   ]
  },
  {
   "cell_type": "markdown",
   "id": "92d35137",
   "metadata": {
    "id": "92d35137"
   },
   "source": [
    "### [C5] What are the top 20 items that people put in their carts first?\n",
    "\n",
    "To identify the top 20 items that people most frequently add to their carts first:\n",
    "\n",
    "1. **Merge the datasets**: Combine `order_products` with `products` to link product names and IDs.\n",
    "2. **Filter the data**: Focus on rows where `add_to_cart_order` equals 1, indicating the first item added to the cart.\n",
    "3. **Group the data**: Group by `product_id` and `product_name` to aggregate the count of how often each product was the first in a cart.\n",
    "4. **Count occurrences**: Use `.count()` to calculate the total number of times each product was the first added.\n",
    "5. **Sort the results**: Use `.sort_values(ascending=False)` to rank products by their first-in-cart frequency.\n",
    "6. **Display the top 20**: Use `.head(20)` to extract the most popular first-in-cart items.\n",
    "\n",
    "This provides insights into which products customers prioritize in their shopping process.\n"
   ]
  },
  {
   "cell_type": "code",
   "execution_count": 73,
   "id": "0ae57274",
   "metadata": {
    "id": "0ae57274",
    "scrolled": true
   },
   "outputs": [
    {
     "name": "stdout",
     "output_type": "stream",
     "text": [
      "         order_id  product_id  add_to_cart_order  reordered  \\\n",
      "6         1463503       11440                  1          0   \n",
      "17        2201430       11440                  1          1   \n",
      "21        1036054       11440                  1          1   \n",
      "50        3008652       11440                  1          1   \n",
      "62        2946144       11440                  1          1   \n",
      "...           ...         ...                ...        ...   \n",
      "4524162   1518168       16952                  1          0   \n",
      "4524166   1776450       21507                  1          0   \n",
      "4524183   2333206       25467                  1          0   \n",
      "4524193    532895        8182                  1          0   \n",
      "4524194   3132243       40024                  1          0   \n",
      "\n",
      "                                     product_name  aisle_id  department_id  \n",
      "6                  Chicken Breast Tenders Breaded       129              1  \n",
      "17                 Chicken Breast Tenders Breaded       129              1  \n",
      "21                 Chicken Breast Tenders Breaded       129              1  \n",
      "50                 Chicken Breast Tenders Breaded       129              1  \n",
      "62                 Chicken Breast Tenders Breaded       129              1  \n",
      "...                                           ...       ...            ...  \n",
      "4524162                     Sensitive Night Cream        73             11  \n",
      "4524166  Gluten Free All-Purpose Rice Flour Blend        17             13  \n",
      "4524183                   Madagascar Pure Vanilla        17             13  \n",
      "4524193          Total Mint Stripe Gel Toothpaste        20             11  \n",
      "4524194                       Egg Replacer Powder        17             13  \n",
      "\n",
      "[448208 rows x 7 columns]\n"
     ]
    }
   ],
   "source": [
    "merged_ds= pd.merge(order_products, products, on= 'product_id', how= 'inner')\n",
    "condition= merged_ds['add_to_cart_order'] == 1\n",
    "filtered= merged_ds[condition]\n",
    "print(filtered)"
   ]
  },
  {
   "cell_type": "code",
   "execution_count": 74,
   "id": "forty-netherlands",
   "metadata": {
    "id": "forty-netherlands",
    "scrolled": true
   },
   "outputs": [
    {
     "name": "stdout",
     "output_type": "stream",
     "text": [
      "                                                               order_id  \\\n",
      "product_id product_name                                                   \n",
      "1          Chocolate Sandwich Cookies                                47   \n",
      "2          All-Seasons Salt                                           2   \n",
      "3          Robust Golden Unsweetened Oolong Tea                       5   \n",
      "4          Smart Ones Classic Favorites Mini Rigatoni With...         1   \n",
      "8          Cut Russet Potatoes Steam N' Mash                          4   \n",
      "...                                                                 ...   \n",
      "49683      Cucumber Kirby                                          1078   \n",
      "49685      En Croute Roast Hazelnut Cranberry                         1   \n",
      "49686      Artisan Baguette                                           3   \n",
      "49687      Smartblend Healthy Metabolism Dry Cat Food                 1   \n",
      "49688      Fresh Foaming Cleanser                                     1   \n",
      "\n",
      "                                                               add_to_cart_order  \\\n",
      "product_id product_name                                                            \n",
      "1          Chocolate Sandwich Cookies                                         47   \n",
      "2          All-Seasons Salt                                                    2   \n",
      "3          Robust Golden Unsweetened Oolong Tea                                5   \n",
      "4          Smart Ones Classic Favorites Mini Rigatoni With...                  1   \n",
      "8          Cut Russet Potatoes Steam N' Mash                                   4   \n",
      "...                                                                          ...   \n",
      "49683      Cucumber Kirby                                                   1078   \n",
      "49685      En Croute Roast Hazelnut Cranberry                                  1   \n",
      "49686      Artisan Baguette                                                    3   \n",
      "49687      Smartblend Healthy Metabolism Dry Cat Food                          1   \n",
      "49688      Fresh Foaming Cleanser                                              1   \n",
      "\n",
      "                                                               reordered  \\\n",
      "product_id product_name                                                    \n",
      "1          Chocolate Sandwich Cookies                                 47   \n",
      "2          All-Seasons Salt                                            2   \n",
      "3          Robust Golden Unsweetened Oolong Tea                        5   \n",
      "4          Smart Ones Classic Favorites Mini Rigatoni With...          1   \n",
      "8          Cut Russet Potatoes Steam N' Mash                           4   \n",
      "...                                                                  ...   \n",
      "49683      Cucumber Kirby                                           1078   \n",
      "49685      En Croute Roast Hazelnut Cranberry                          1   \n",
      "49686      Artisan Baguette                                            3   \n",
      "49687      Smartblend Healthy Metabolism Dry Cat Food                  1   \n",
      "49688      Fresh Foaming Cleanser                                      1   \n",
      "\n",
      "                                                               aisle_id  \\\n",
      "product_id product_name                                                   \n",
      "1          Chocolate Sandwich Cookies                                47   \n",
      "2          All-Seasons Salt                                           2   \n",
      "3          Robust Golden Unsweetened Oolong Tea                       5   \n",
      "4          Smart Ones Classic Favorites Mini Rigatoni With...         1   \n",
      "8          Cut Russet Potatoes Steam N' Mash                          4   \n",
      "...                                                                 ...   \n",
      "49683      Cucumber Kirby                                          1078   \n",
      "49685      En Croute Roast Hazelnut Cranberry                         1   \n",
      "49686      Artisan Baguette                                           3   \n",
      "49687      Smartblend Healthy Metabolism Dry Cat Food                 1   \n",
      "49688      Fresh Foaming Cleanser                                     1   \n",
      "\n",
      "                                                               department_id  \n",
      "product_id product_name                                                       \n",
      "1          Chocolate Sandwich Cookies                                     47  \n",
      "2          All-Seasons Salt                                                2  \n",
      "3          Robust Golden Unsweetened Oolong Tea                            5  \n",
      "4          Smart Ones Classic Favorites Mini Rigatoni With...              1  \n",
      "8          Cut Russet Potatoes Steam N' Mash                               4  \n",
      "...                                                                      ...  \n",
      "49683      Cucumber Kirby                                               1078  \n",
      "49685      En Croute Roast Hazelnut Cranberry                              1  \n",
      "49686      Artisan Baguette                                                3  \n",
      "49687      Smartblend Healthy Metabolism Dry Cat Food                      1  \n",
      "49688      Fresh Foaming Cleanser                                          1  \n",
      "\n",
      "[26443 rows x 5 columns]\n"
     ]
    }
   ],
   "source": [
    "grouped= filtered.groupby(['product_id','product_name']).count()\n",
    "print(grouped)"
   ]
  },
  {
   "cell_type": "code",
   "execution_count": 75,
   "id": "08e41ec2",
   "metadata": {
    "id": "08e41ec2"
   },
   "outputs": [
    {
     "name": "stdout",
     "output_type": "stream",
     "text": [
      "                                                         order_id  \\\n",
      "product_id product_name                                             \n",
      "24852      Banana                                           15562   \n",
      "13176      Bag of Organic Bananas                           11026   \n",
      "27845      Organic Whole Milk                                4363   \n",
      "21137      Organic Strawberries                              3946   \n",
      "47209      Organic Hass Avocado                              3390   \n",
      "...                                                           ...   \n",
      "24825      Savory Shreds with Chicken in Gravy Cat Food         1   \n",
      "24827      Pepperoni Provolone Cheese & Breadsticks             1   \n",
      "24837      Organic Dried Mushrooms Medley                       1   \n",
      "24839      Dark Chocolate Coconut Bars                          1   \n",
      "49688      Fresh Foaming Cleanser                               1   \n",
      "\n",
      "                                                         add_to_cart_order  \\\n",
      "product_id product_name                                                      \n",
      "24852      Banana                                                    15562   \n",
      "13176      Bag of Organic Bananas                                    11026   \n",
      "27845      Organic Whole Milk                                         4363   \n",
      "21137      Organic Strawberries                                       3946   \n",
      "47209      Organic Hass Avocado                                       3390   \n",
      "...                                                                    ...   \n",
      "24825      Savory Shreds with Chicken in Gravy Cat Food                  1   \n",
      "24827      Pepperoni Provolone Cheese & Breadsticks                      1   \n",
      "24837      Organic Dried Mushrooms Medley                                1   \n",
      "24839      Dark Chocolate Coconut Bars                                   1   \n",
      "49688      Fresh Foaming Cleanser                                        1   \n",
      "\n",
      "                                                         reordered  aisle_id  \\\n",
      "product_id product_name                                                        \n",
      "24852      Banana                                            15562     15562   \n",
      "13176      Bag of Organic Bananas                            11026     11026   \n",
      "27845      Organic Whole Milk                                 4363      4363   \n",
      "21137      Organic Strawberries                               3946      3946   \n",
      "47209      Organic Hass Avocado                               3390      3390   \n",
      "...                                                            ...       ...   \n",
      "24825      Savory Shreds with Chicken in Gravy Cat Food          1         1   \n",
      "24827      Pepperoni Provolone Cheese & Breadsticks              1         1   \n",
      "24837      Organic Dried Mushrooms Medley                        1         1   \n",
      "24839      Dark Chocolate Coconut Bars                           1         1   \n",
      "49688      Fresh Foaming Cleanser                                1         1   \n",
      "\n",
      "                                                         department_id  \n",
      "product_id product_name                                                 \n",
      "24852      Banana                                                15562  \n",
      "13176      Bag of Organic Bananas                                11026  \n",
      "27845      Organic Whole Milk                                     4363  \n",
      "21137      Organic Strawberries                                   3946  \n",
      "47209      Organic Hass Avocado                                   3390  \n",
      "...                                                                ...  \n",
      "24825      Savory Shreds with Chicken in Gravy Cat Food              1  \n",
      "24827      Pepperoni Provolone Cheese & Breadsticks                  1  \n",
      "24837      Organic Dried Mushrooms Medley                            1  \n",
      "24839      Dark Chocolate Coconut Bars                               1  \n",
      "49688      Fresh Foaming Cleanser                                    1  \n",
      "\n",
      "[26443 rows x 5 columns]\n"
     ]
    }
   ],
   "source": [
    "reordered_sort= grouped.sort_values('reordered', ascending=False)\n",
    "print(reordered_sort)\n"
   ]
  },
  {
   "cell_type": "markdown",
   "id": "28ce9872",
   "metadata": {
    "id": "28ce9872"
   },
   "source": [
    "The products that are most often placed into the cart first are produce, dairy, and beverages such as soda or water. I couldn't really say why that is without experience using Instacart because this could have more to do with app design than properties of the products. I do notice that there is considerable overlap between this result and the previous result for most popular and most reordered item types. It could simply be that the app prioritizes popular items as the first suggested purchases, so it happens to be more convenient for customers to place these items in their cart first."
   ]
  },
  {
   "cell_type": "code",
   "execution_count": 76,
   "id": "f4a2af09",
   "metadata": {
    "id": "f4a2af09"
   },
   "outputs": [
    {
     "data": {
      "text/html": [
       "<div>\n",
       "<style scoped>\n",
       "    .dataframe tbody tr th:only-of-type {\n",
       "        vertical-align: middle;\n",
       "    }\n",
       "\n",
       "    .dataframe tbody tr th {\n",
       "        vertical-align: top;\n",
       "    }\n",
       "\n",
       "    .dataframe thead th {\n",
       "        text-align: right;\n",
       "    }\n",
       "</style>\n",
       "<table border=\"1\" class=\"dataframe\">\n",
       "  <thead>\n",
       "    <tr style=\"text-align: right;\">\n",
       "      <th></th>\n",
       "      <th></th>\n",
       "      <th>order_id</th>\n",
       "      <th>add_to_cart_order</th>\n",
       "      <th>reordered</th>\n",
       "      <th>aisle_id</th>\n",
       "      <th>department_id</th>\n",
       "    </tr>\n",
       "    <tr>\n",
       "      <th>product_id</th>\n",
       "      <th>product_name</th>\n",
       "      <th></th>\n",
       "      <th></th>\n",
       "      <th></th>\n",
       "      <th></th>\n",
       "      <th></th>\n",
       "    </tr>\n",
       "  </thead>\n",
       "  <tbody>\n",
       "    <tr>\n",
       "      <th>24852</th>\n",
       "      <th>Banana</th>\n",
       "      <td>15562</td>\n",
       "      <td>15562</td>\n",
       "      <td>15562</td>\n",
       "      <td>15562</td>\n",
       "      <td>15562</td>\n",
       "    </tr>\n",
       "    <tr>\n",
       "      <th>13176</th>\n",
       "      <th>Bag of Organic Bananas</th>\n",
       "      <td>11026</td>\n",
       "      <td>11026</td>\n",
       "      <td>11026</td>\n",
       "      <td>11026</td>\n",
       "      <td>11026</td>\n",
       "    </tr>\n",
       "    <tr>\n",
       "      <th>27845</th>\n",
       "      <th>Organic Whole Milk</th>\n",
       "      <td>4363</td>\n",
       "      <td>4363</td>\n",
       "      <td>4363</td>\n",
       "      <td>4363</td>\n",
       "      <td>4363</td>\n",
       "    </tr>\n",
       "    <tr>\n",
       "      <th>21137</th>\n",
       "      <th>Organic Strawberries</th>\n",
       "      <td>3946</td>\n",
       "      <td>3946</td>\n",
       "      <td>3946</td>\n",
       "      <td>3946</td>\n",
       "      <td>3946</td>\n",
       "    </tr>\n",
       "    <tr>\n",
       "      <th>47209</th>\n",
       "      <th>Organic Hass Avocado</th>\n",
       "      <td>3390</td>\n",
       "      <td>3390</td>\n",
       "      <td>3390</td>\n",
       "      <td>3390</td>\n",
       "      <td>3390</td>\n",
       "    </tr>\n",
       "    <tr>\n",
       "      <th>21903</th>\n",
       "      <th>Organic Baby Spinach</th>\n",
       "      <td>3336</td>\n",
       "      <td>3336</td>\n",
       "      <td>3336</td>\n",
       "      <td>3336</td>\n",
       "      <td>3336</td>\n",
       "    </tr>\n",
       "    <tr>\n",
       "      <th>47766</th>\n",
       "      <th>Organic Avocado</th>\n",
       "      <td>3044</td>\n",
       "      <td>3044</td>\n",
       "      <td>3044</td>\n",
       "      <td>3044</td>\n",
       "      <td>3044</td>\n",
       "    </tr>\n",
       "    <tr>\n",
       "      <th>19660</th>\n",
       "      <th>Spring Water</th>\n",
       "      <td>2336</td>\n",
       "      <td>2336</td>\n",
       "      <td>2336</td>\n",
       "      <td>2336</td>\n",
       "      <td>2336</td>\n",
       "    </tr>\n",
       "    <tr>\n",
       "      <th>16797</th>\n",
       "      <th>Strawberries</th>\n",
       "      <td>2308</td>\n",
       "      <td>2308</td>\n",
       "      <td>2308</td>\n",
       "      <td>2308</td>\n",
       "      <td>2308</td>\n",
       "    </tr>\n",
       "    <tr>\n",
       "      <th>27966</th>\n",
       "      <th>Organic Raspberries</th>\n",
       "      <td>2024</td>\n",
       "      <td>2024</td>\n",
       "      <td>2024</td>\n",
       "      <td>2024</td>\n",
       "      <td>2024</td>\n",
       "    </tr>\n",
       "    <tr>\n",
       "      <th>44632</th>\n",
       "      <th>Sparkling Water Grapefruit</th>\n",
       "      <td>1914</td>\n",
       "      <td>1914</td>\n",
       "      <td>1914</td>\n",
       "      <td>1914</td>\n",
       "      <td>1914</td>\n",
       "    </tr>\n",
       "    <tr>\n",
       "      <th>49235</th>\n",
       "      <th>Organic Half &amp; Half</th>\n",
       "      <td>1797</td>\n",
       "      <td>1797</td>\n",
       "      <td>1797</td>\n",
       "      <td>1797</td>\n",
       "      <td>1797</td>\n",
       "    </tr>\n",
       "    <tr>\n",
       "      <th>47626</th>\n",
       "      <th>Large Lemon</th>\n",
       "      <td>1737</td>\n",
       "      <td>1737</td>\n",
       "      <td>1737</td>\n",
       "      <td>1737</td>\n",
       "      <td>1737</td>\n",
       "    </tr>\n",
       "    <tr>\n",
       "      <th>196</th>\n",
       "      <th>Soda</th>\n",
       "      <td>1733</td>\n",
       "      <td>1733</td>\n",
       "      <td>1733</td>\n",
       "      <td>1733</td>\n",
       "      <td>1733</td>\n",
       "    </tr>\n",
       "    <tr>\n",
       "      <th>38689</th>\n",
       "      <th>Organic Reduced Fat Milk</th>\n",
       "      <td>1397</td>\n",
       "      <td>1397</td>\n",
       "      <td>1397</td>\n",
       "      <td>1397</td>\n",
       "      <td>1397</td>\n",
       "    </tr>\n",
       "    <tr>\n",
       "      <th>26209</th>\n",
       "      <th>Limes</th>\n",
       "      <td>1370</td>\n",
       "      <td>1370</td>\n",
       "      <td>1370</td>\n",
       "      <td>1370</td>\n",
       "      <td>1370</td>\n",
       "    </tr>\n",
       "    <tr>\n",
       "      <th>12341</th>\n",
       "      <th>Hass Avocados</th>\n",
       "      <td>1340</td>\n",
       "      <td>1340</td>\n",
       "      <td>1340</td>\n",
       "      <td>1340</td>\n",
       "      <td>1340</td>\n",
       "    </tr>\n",
       "    <tr>\n",
       "      <th>5785</th>\n",
       "      <th>Organic Reduced Fat 2% Milk</th>\n",
       "      <td>1310</td>\n",
       "      <td>1310</td>\n",
       "      <td>1310</td>\n",
       "      <td>1310</td>\n",
       "      <td>1310</td>\n",
       "    </tr>\n",
       "    <tr>\n",
       "      <th>27086</th>\n",
       "      <th>Half &amp; Half</th>\n",
       "      <td>1309</td>\n",
       "      <td>1309</td>\n",
       "      <td>1309</td>\n",
       "      <td>1309</td>\n",
       "      <td>1309</td>\n",
       "    </tr>\n",
       "    <tr>\n",
       "      <th>43352</th>\n",
       "      <th>Raspberries</th>\n",
       "      <td>1246</td>\n",
       "      <td>1246</td>\n",
       "      <td>1246</td>\n",
       "      <td>1246</td>\n",
       "      <td>1246</td>\n",
       "    </tr>\n",
       "  </tbody>\n",
       "</table>\n",
       "</div>"
      ],
      "text/plain": [
       "                                        order_id  add_to_cart_order  \\\n",
       "product_id product_name                                               \n",
       "24852      Banana                          15562              15562   \n",
       "13176      Bag of Organic Bananas          11026              11026   \n",
       "27845      Organic Whole Milk               4363               4363   \n",
       "21137      Organic Strawberries             3946               3946   \n",
       "47209      Organic Hass Avocado             3390               3390   \n",
       "21903      Organic Baby Spinach             3336               3336   \n",
       "47766      Organic Avocado                  3044               3044   \n",
       "19660      Spring Water                     2336               2336   \n",
       "16797      Strawberries                     2308               2308   \n",
       "27966      Organic Raspberries              2024               2024   \n",
       "44632      Sparkling Water Grapefruit       1914               1914   \n",
       "49235      Organic Half & Half              1797               1797   \n",
       "47626      Large Lemon                      1737               1737   \n",
       "196        Soda                             1733               1733   \n",
       "38689      Organic Reduced Fat Milk         1397               1397   \n",
       "26209      Limes                            1370               1370   \n",
       "12341      Hass Avocados                    1340               1340   \n",
       "5785       Organic Reduced Fat 2% Milk      1310               1310   \n",
       "27086      Half & Half                      1309               1309   \n",
       "43352      Raspberries                      1246               1246   \n",
       "\n",
       "                                        reordered  aisle_id  department_id  \n",
       "product_id product_name                                                     \n",
       "24852      Banana                           15562     15562          15562  \n",
       "13176      Bag of Organic Bananas           11026     11026          11026  \n",
       "27845      Organic Whole Milk                4363      4363           4363  \n",
       "21137      Organic Strawberries              3946      3946           3946  \n",
       "47209      Organic Hass Avocado              3390      3390           3390  \n",
       "21903      Organic Baby Spinach              3336      3336           3336  \n",
       "47766      Organic Avocado                   3044      3044           3044  \n",
       "19660      Spring Water                      2336      2336           2336  \n",
       "16797      Strawberries                      2308      2308           2308  \n",
       "27966      Organic Raspberries               2024      2024           2024  \n",
       "44632      Sparkling Water Grapefruit        1914      1914           1914  \n",
       "49235      Organic Half & Half               1797      1797           1797  \n",
       "47626      Large Lemon                       1737      1737           1737  \n",
       "196        Soda                              1733      1733           1733  \n",
       "38689      Organic Reduced Fat Milk          1397      1397           1397  \n",
       "26209      Limes                             1370      1370           1370  \n",
       "12341      Hass Avocados                     1340      1340           1340  \n",
       "5785       Organic Reduced Fat 2% Milk       1310      1310           1310  \n",
       "27086      Half & Half                       1309      1309           1309  \n",
       "43352      Raspberries                       1246      1246           1246  "
      ]
     },
     "execution_count": 76,
     "metadata": {},
     "output_type": "execute_result"
    }
   ],
   "source": [
    "reordered_sort.head(20)"
   ]
  },
  {
   "cell_type": "markdown",
   "id": "b8ba0928-9a72-4743-a53f-43bab4dab74d",
   "metadata": {},
   "source": [
    "\n",
    "<div class=\"alert alert-warning\" style=\"border-left: 7px solid gold\">\n",
    "<b>⚠️ Reviewer’s Comment, v. 1</b>  \n",
    "\n",
    "Well done — the list you created is correct!  \n",
    "However, to make the output cleaner and easier to read, you could display just one column instead of repeating the same data across five columns.  \n",
    "This small adjustment would improve the overall readability of your results.\n"
   ]
  },
  {
   "cell_type": "markdown",
   "id": "0a1c5e7e-de6f-4a2a-a749-9f6f365e13e2",
   "metadata": {},
   "source": [
    "The analysis of this data from Instacart provides a lot of insight on patterns of the \"Online Shopper Experience\". To start, the data shows us that customers who order on a consistent basis online mainly purchase necessities. This would be your most essential groceries or parishables. It also reads that people enjoy the convenience of being able to order their groceries online or through an app. In a fast paced lifestyle, time is always worth money, people enjoy the accesibility of having the grocery store at their finger tips which would explain why most grocery orders can meet up to 20 items per order. But, it would also explain someone not feeling as though they have to \"get out\" just to grab a couple of things. Lastly, it looks like people like the streamlined affect, which would explain \"reordering\" or how many days it takes them to reorder. Whether they subscribe for a consistent delivery once a month, or again, realize the convenience after first purchase and buy within the next few days (or even the next few weeks), they're back to grab those couple of items. These patterns are great for Instacart's brand. This data shows that people will pay for convenience, become recurring customers, and that it could be anything from basic necessities to a full grocery cart. Instacart could use this information to target parents with busy schedules, an executive with a busy lifestyle, or even the introverts who simply don't want to leave the house. Instacart is for anyone who keeps convenience at the top of their list. Some ideas for future data analysis and to streamline the data a bit more, would be generalizing product IDs that aren't identified in the data, conjoin mutual data between datasets, and merge duplicates. Aside from those things, the information was pretty consistent and was accesible to format all of this information and guide us to these results. "
   ]
  },
  {
   "cell_type": "markdown",
   "id": "be207435-e270-40f0-bd58-039f2998c698",
   "metadata": {},
   "source": [
    "<div class=\"alert alert-success\"; style=\"border-left: 7px solid green\">\n",
    "<b>✅ Reviewer's comment, v. 2</b> \n",
    "    \n",
    "✔️ \n",
    "    \n",
    "\n",
    "\n",
    "<div class=\"alert alert-warning\"; style=\"border-left: 7px solid gold\">\n",
    "<b>⚠️ Reviewer's comment, v. 1</b> \n",
    "\n",
    "The project will look more complete and professional if you add a conclusion summarising the main results of the analysis?"
   ]
  },
  {
   "cell_type": "code",
   "execution_count": null,
   "id": "35b04ad5-d6ff-4e81-a837-17e5e25a03d5",
   "metadata": {},
   "outputs": [],
   "source": []
  }
 ],
 "metadata": {
  "colab": {
   "provenance": []
  },
  "kernelspec": {
   "display_name": "Python 3 (ipykernel)",
   "language": "python",
   "name": "python3"
  },
  "language_info": {
   "codemirror_mode": {
    "name": "ipython",
    "version": 3
   },
   "file_extension": ".py",
   "mimetype": "text/x-python",
   "name": "python",
   "nbconvert_exporter": "python",
   "pygments_lexer": "ipython3",
   "version": "3.9.22"
  }
 },
 "nbformat": 4,
 "nbformat_minor": 5
}
