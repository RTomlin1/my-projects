{
 "cells": [
  {
   "cell_type": "markdown",
   "metadata": {},
   "source": [
    "<div style=\"border: solid blue 2px; padding: 15px; margin: 10px\">\n",
    "  <b>Overall Summary of the Project – Iteration 2</b><br><br>\n",
    "\n",
    "  Hi Regan, I’m <b>Victor Camargo</b>. I’ve reviewed your updated project—thank you for your hard work and careful attention to the feedback!\n",
    "\n",
    "  <b>Fantastic work on:</b><br>\n",
    "  ✔️ Handling missing values thoughtfully and consistently across the entire project.<br>\n",
    "  ✔️ Applying the relevant year filter correctly to the main dataset and using it throughout the analysis.<br>\n",
    "  ✔️ Building clear, insightful visualizations and providing strong business-focused interpretations.<br><br>\n",
    "\n",
    "  Your project is now <b>approved</b> ✅. You’ve demonstrated a solid understanding of data cleaning, exploratory analysis, and hypothesis testing while keeping your work clean and well-structured. Really well done—this is exactly the level of quality we aim for in this program!<br><br>\n",
    "\n",
    "  <hr>\n",
    "\n",
    "  🔹 <b>Legend:</b><br>\n",
    "  🟢 Green = well done<br>\n",
    "  🟡 Yellow = suggestions<br>\n",
    "  🔴 Red = must fix<br>\n",
    "  🔵 Blue = your comments or questions<br><br>\n",
    "\n",
    "  Congratulations again—keep up the great work, and feel free to reach out in the Questions channel anytime you need help or want to discuss ideas!\n",
    "</div>"
   ]
  },
  {
   "cell_type": "markdown",
   "metadata": {
    "id": "9LMszr5T0Oft"
   },
   "source": [
    "# Video Game Sales Analysis Project\n",
    "## Project Overview\n",
    "\n",
    "In this project, you'll analyze video game sales data to identify patterns that determine a game's success. Working as an analyst for the online store Ice, you'll use this information to help plan future advertising campaigns.\n",
    "\n",
    "## Environment Setup and Required Libraries"
   ]
  },
  {
   "cell_type": "code",
   "execution_count": 1,
   "metadata": {
    "id": "uoUK3_uG0O1A"
   },
   "outputs": [],
   "source": [
    "# Import all required libraries\n",
    "import pandas as pd\n",
    "import numpy as np\n",
    "import matplotlib.pyplot as plt\n",
    "from scipy import stats as st\n",
    "import seaborn as sns\n"
   ]
  },
  {
   "cell_type": "markdown",
   "metadata": {
    "id": "elxRwYBn0STd"
   },
   "source": [
    "## Step 1: Loading and Initial Data Exploration\n",
    "\n",
    "First, let's load our dataset and examine its basic properties:"
   ]
  },
  {
   "cell_type": "code",
   "execution_count": 2,
   "metadata": {
    "id": "e4Ic2Rpq0Sq9"
   },
   "outputs": [],
   "source": [
    "# Load the dataset\n",
    "games= pd.read_csv('/datasets/games.csv')"
   ]
  },
  {
   "cell_type": "code",
   "execution_count": 3,
   "metadata": {
    "id": "sTug7Lxo0VnO"
   },
   "outputs": [
    {
     "name": "stdout",
     "output_type": "stream",
     "text": [
      "<bound method NDFrame.head of                                 Name Platform  Year_of_Release         Genre  \\\n",
      "0                         Wii Sports      Wii           2006.0        Sports   \n",
      "1                  Super Mario Bros.      NES           1985.0      Platform   \n",
      "2                     Mario Kart Wii      Wii           2008.0        Racing   \n",
      "3                  Wii Sports Resort      Wii           2009.0        Sports   \n",
      "4           Pokemon Red/Pokemon Blue       GB           1996.0  Role-Playing   \n",
      "...                              ...      ...              ...           ...   \n",
      "16710  Samurai Warriors: Sanada Maru      PS3           2016.0        Action   \n",
      "16711               LMA Manager 2007     X360           2006.0        Sports   \n",
      "16712        Haitaka no Psychedelica      PSV           2016.0     Adventure   \n",
      "16713               Spirits & Spells      GBA           2003.0      Platform   \n",
      "16714            Winning Post 8 2016      PSV           2016.0    Simulation   \n",
      "\n",
      "       NA_sales  EU_sales  JP_sales  Other_sales  Critic_Score User_Score  \\\n",
      "0         41.36     28.96      3.77         8.45          76.0          8   \n",
      "1         29.08      3.58      6.81         0.77           NaN        NaN   \n",
      "2         15.68     12.76      3.79         3.29          82.0        8.3   \n",
      "3         15.61     10.93      3.28         2.95          80.0          8   \n",
      "4         11.27      8.89     10.22         1.00           NaN        NaN   \n",
      "...         ...       ...       ...          ...           ...        ...   \n",
      "16710      0.00      0.00      0.01         0.00           NaN        NaN   \n",
      "16711      0.00      0.01      0.00         0.00           NaN        NaN   \n",
      "16712      0.00      0.00      0.01         0.00           NaN        NaN   \n",
      "16713      0.01      0.00      0.00         0.00           NaN        NaN   \n",
      "16714      0.00      0.00      0.01         0.00           NaN        NaN   \n",
      "\n",
      "      Rating  \n",
      "0          E  \n",
      "1        NaN  \n",
      "2          E  \n",
      "3          E  \n",
      "4        NaN  \n",
      "...      ...  \n",
      "16710    NaN  \n",
      "16711    NaN  \n",
      "16712    NaN  \n",
      "16713    NaN  \n",
      "16714    NaN  \n",
      "\n",
      "[16715 rows x 11 columns]>\n"
     ]
    }
   ],
   "source": [
    "# Display basic information about the dataset\n",
    "print(games.head)"
   ]
  },
  {
   "cell_type": "code",
   "execution_count": 4,
   "metadata": {},
   "outputs": [
    {
     "name": "stdout",
     "output_type": "stream",
     "text": [
      "<bound method DataFrame.info of                                 Name Platform  Year_of_Release         Genre  \\\n",
      "0                         Wii Sports      Wii           2006.0        Sports   \n",
      "1                  Super Mario Bros.      NES           1985.0      Platform   \n",
      "2                     Mario Kart Wii      Wii           2008.0        Racing   \n",
      "3                  Wii Sports Resort      Wii           2009.0        Sports   \n",
      "4           Pokemon Red/Pokemon Blue       GB           1996.0  Role-Playing   \n",
      "...                              ...      ...              ...           ...   \n",
      "16710  Samurai Warriors: Sanada Maru      PS3           2016.0        Action   \n",
      "16711               LMA Manager 2007     X360           2006.0        Sports   \n",
      "16712        Haitaka no Psychedelica      PSV           2016.0     Adventure   \n",
      "16713               Spirits & Spells      GBA           2003.0      Platform   \n",
      "16714            Winning Post 8 2016      PSV           2016.0    Simulation   \n",
      "\n",
      "       NA_sales  EU_sales  JP_sales  Other_sales  Critic_Score User_Score  \\\n",
      "0         41.36     28.96      3.77         8.45          76.0          8   \n",
      "1         29.08      3.58      6.81         0.77           NaN        NaN   \n",
      "2         15.68     12.76      3.79         3.29          82.0        8.3   \n",
      "3         15.61     10.93      3.28         2.95          80.0          8   \n",
      "4         11.27      8.89     10.22         1.00           NaN        NaN   \n",
      "...         ...       ...       ...          ...           ...        ...   \n",
      "16710      0.00      0.00      0.01         0.00           NaN        NaN   \n",
      "16711      0.00      0.01      0.00         0.00           NaN        NaN   \n",
      "16712      0.00      0.00      0.01         0.00           NaN        NaN   \n",
      "16713      0.01      0.00      0.00         0.00           NaN        NaN   \n",
      "16714      0.00      0.00      0.01         0.00           NaN        NaN   \n",
      "\n",
      "      Rating  \n",
      "0          E  \n",
      "1        NaN  \n",
      "2          E  \n",
      "3          E  \n",
      "4        NaN  \n",
      "...      ...  \n",
      "16710    NaN  \n",
      "16711    NaN  \n",
      "16712    NaN  \n",
      "16713    NaN  \n",
      "16714    NaN  \n",
      "\n",
      "[16715 rows x 11 columns]>\n"
     ]
    }
   ],
   "source": [
    "print(games.info)"
   ]
  },
  {
   "cell_type": "markdown",
   "metadata": {},
   "source": [
    "Based on pulling general information from the dataset, I see the names of the games, which system it was released for, year of release, genre of the game, sales based on country, critic score, user score, and ratings. Our next move is to consolidate and clean up the dataframe to simplify our study further on in this project. "
   ]
  },
  {
   "cell_type": "code",
   "execution_count": 5,
   "metadata": {
    "id": "H54YzTNs0aAV"
   },
   "outputs": [
    {
     "name": "stdout",
     "output_type": "stream",
     "text": [
      "0        False\n",
      "1        False\n",
      "2        False\n",
      "3        False\n",
      "4        False\n",
      "         ...  \n",
      "16710    False\n",
      "16711    False\n",
      "16712    False\n",
      "16713    False\n",
      "16714    False\n",
      "Length: 16715, dtype: bool\n",
      "0\n"
     ]
    }
   ],
   "source": [
    "# Check for duplicate entries\n",
    "print(games.duplicated())\n",
    "print(games.duplicated().sum())"
   ]
  },
  {
   "cell_type": "markdown",
   "metadata": {
    "id": "7Dy9svZV0lAt"
   },
   "source": [
    "### Key Questions to Answer:\n",
    "- What's the total number of records in our dataset?\n",
    "- What data types are present in each column?\n",
    "- Are there any obvious issues with the data?\n",
    "- Do we see any immediate patterns or anomalies?"
   ]
  },
  {
   "cell_type": "markdown",
   "metadata": {},
   "source": [
    "In the dataset, we have a total of 16,715 records. We have 11 columns, there are some integers, NaN values, decimals, and strings. We need to start data clean-up by doing datetime conversion, changing column names, and cleaning up missing values. As far as patterns go, the only obvious one that I can see is that the games towards the bottom of the dataset either had no sales, or very little sales, ratings, and user score."
   ]
  },
  {
   "cell_type": "markdown",
   "metadata": {},
   "source": [
    "<div class=\"alert alert-success\">\n",
    "  <b>Reviewer’s comment – Iteration 1:</b><br>\n",
    "  Great job here.\n",
    "  <ul>\n",
    "    <li>Nice initial exploration of the dataset and clear summary of the <b>key observations</b>.</li>\n",
    "    <li>Good use of basic functions to check <b>data structure</b>, <b>missing values</b>, and <b>duplicates</b>.</li>\n",
    "  </ul>\n",
    "</div>"
   ]
  },
  {
   "cell_type": "markdown",
   "metadata": {
    "id": "sJtUdFp30oet"
   },
   "source": [
    "## Step 2: Data Preparation\n",
    "\n",
    "### 2.1 Standardizing Column Names"
   ]
  },
  {
   "cell_type": "code",
   "execution_count": 6,
   "metadata": {
    "id": "0UbeqYMh0lW2"
   },
   "outputs": [
    {
     "name": "stdout",
     "output_type": "stream",
     "text": [
      "Index(['Name', 'Platform', 'Year_of_Release', 'Genre', 'NA_sales', 'EU_sales',\n",
      "       'JP_sales', 'Other_sales', 'Critic_Score', 'User_Score', 'Rating'],\n",
      "      dtype='object')\n"
     ]
    }
   ],
   "source": [
    "# Convert column names to lowercase\n",
    "print(games.columns)\n",
    "games.columns= games.columns.str.lower()"
   ]
  },
  {
   "cell_type": "code",
   "execution_count": 7,
   "metadata": {
    "id": "zNR2bWIf0qTp"
   },
   "outputs": [
    {
     "name": "stdout",
     "output_type": "stream",
     "text": [
      "Index(['name', 'platform', 'year_of_release', 'genre', 'na_sales', 'eu_sales',\n",
      "       'jp_sales', 'other_sales', 'critic_score', 'user_score', 'rating'],\n",
      "      dtype='object')\n"
     ]
    }
   ],
   "source": [
    "# Verify the changes\n",
    "print(games.columns)"
   ]
  },
  {
   "cell_type": "markdown",
   "metadata": {},
   "source": [
    "<div class=\"alert alert-success\">\n",
    "  <b>Reviewer’s comment – Iteration 1:</b><br>\n",
    "  Great job here.\n",
    "  <ul>\n",
    "    <li>Column names successfully converted to <b>lowercase</b>—a key step for consistency and easier handling later on.</li>\n",
    "  </ul>\n",
    "</div>\n"
   ]
  },
  {
   "cell_type": "markdown",
   "metadata": {
    "id": "hyWGqpK_0sb2"
   },
   "source": [
    "### 2.2 Data Type Conversion"
   ]
  },
  {
   "cell_type": "code",
   "execution_count": 8,
   "metadata": {
    "id": "bum4x2eG0uJe"
   },
   "outputs": [
    {
     "name": "stdout",
     "output_type": "stream",
     "text": [
      "name                object\n",
      "platform            object\n",
      "year_of_release    float64\n",
      "genre               object\n",
      "na_sales           float64\n",
      "eu_sales           float64\n",
      "jp_sales           float64\n",
      "other_sales        float64\n",
      "critic_score       float64\n",
      "user_score          object\n",
      "rating              object\n",
      "dtype: object\n"
     ]
    }
   ],
   "source": [
    "# Check current data types\n",
    "print(games.dtypes)"
   ]
  },
  {
   "cell_type": "code",
   "execution_count": 9,
   "metadata": {
    "id": "j6wGqKZB0uh9"
   },
   "outputs": [
    {
     "name": "stdout",
     "output_type": "stream",
     "text": [
      "<bound method DataFrame.info of                                 name platform  year_of_release         genre  \\\n",
      "0                         Wii Sports      Wii             2006        Sports   \n",
      "1                  Super Mario Bros.      NES             1985      Platform   \n",
      "2                     Mario Kart Wii      Wii             2008        Racing   \n",
      "3                  Wii Sports Resort      Wii             2009        Sports   \n",
      "4           Pokemon Red/Pokemon Blue       GB             1996  Role-Playing   \n",
      "...                              ...      ...              ...           ...   \n",
      "16710  Samurai Warriors: Sanada Maru      PS3             2016        Action   \n",
      "16711               LMA Manager 2007     X360             2006        Sports   \n",
      "16712        Haitaka no Psychedelica      PSV             2016     Adventure   \n",
      "16713               Spirits & Spells      GBA             2003      Platform   \n",
      "16714            Winning Post 8 2016      PSV             2016    Simulation   \n",
      "\n",
      "       na_sales  eu_sales  jp_sales  other_sales  critic_score user_score  \\\n",
      "0         41.36     28.96      3.77         8.45          76.0          8   \n",
      "1         29.08      3.58      6.81         0.77           NaN        NaN   \n",
      "2         15.68     12.76      3.79         3.29          82.0        8.3   \n",
      "3         15.61     10.93      3.28         2.95          80.0          8   \n",
      "4         11.27      8.89     10.22         1.00           NaN        NaN   \n",
      "...         ...       ...       ...          ...           ...        ...   \n",
      "16710      0.00      0.00      0.01         0.00           NaN        NaN   \n",
      "16711      0.00      0.01      0.00         0.00           NaN        NaN   \n",
      "16712      0.00      0.00      0.01         0.00           NaN        NaN   \n",
      "16713      0.01      0.00      0.00         0.00           NaN        NaN   \n",
      "16714      0.00      0.00      0.01         0.00           NaN        NaN   \n",
      "\n",
      "      rating  \n",
      "0          E  \n",
      "1        NaN  \n",
      "2          E  \n",
      "3          E  \n",
      "4        NaN  \n",
      "...      ...  \n",
      "16710    NaN  \n",
      "16711    NaN  \n",
      "16712    NaN  \n",
      "16713    NaN  \n",
      "16714    NaN  \n",
      "\n",
      "[16444 rows x 11 columns]>\n",
      "name                  0\n",
      "platform              0\n",
      "year_of_release       0\n",
      "genre                 0\n",
      "na_sales              0\n",
      "eu_sales              0\n",
      "jp_sales              0\n",
      "other_sales           0\n",
      "critic_score       8461\n",
      "user_score         6605\n",
      "rating             6676\n",
      "dtype: int64\n"
     ]
    }
   ],
   "source": [
    "# Make changes to data types if necessary\n",
    "# Describe the columns where the data types have been changed and why.\n",
    "games= games.dropna(subset=['year_of_release'])\n",
    "games['year_of_release'] = games['year_of_release'].astype(int)\n",
    "\n",
    "games = games.dropna(subset=['name'])\n",
    "games = games.dropna(subset=['genre'])\n",
    "\n",
    "print(games.info)\n",
    "print(games.isnull().sum())"
   ]
  },
  {
   "cell_type": "code",
   "execution_count": 10,
   "metadata": {
    "id": "u_2YXNQR1UKG"
   },
   "outputs": [
    {
     "name": "stdout",
     "output_type": "stream",
     "text": [
      "[8.  nan 8.3 8.5 6.6 8.4 8.6 7.7 6.3 7.4 8.2 9.  7.9 8.1 8.7 7.1 3.4 5.3\n",
      " 4.8 3.2 8.9 6.4 7.8 7.5 2.6 7.2 9.2 7.  7.3 4.3 7.6 5.7 5.  9.1 6.5 8.8\n",
      " 6.9 9.4 6.8 6.1 6.7 5.4 4.  4.9 4.5 9.3 6.2 4.2 6.  3.7 4.1 5.8 5.6 5.5\n",
      " 4.4 4.6 5.9 3.9 3.1 2.9 5.2 3.3 4.7 5.1 3.5 2.5 1.9 3.  2.7 2.2 2.  9.5\n",
      " 2.1 3.6 2.8 1.8 3.8 0.  1.6 9.6 2.4 1.7 1.1 0.3 1.5 0.7 1.2 2.3 0.5 1.3\n",
      " 0.2 0.6 1.4 0.9 1.  9.7]\n"
     ]
    }
   ],
   "source": [
    "# Pay attention to the abbreviation TBD (to be determined). Specify how you intend to handle such cases.\n",
    "games['user_score']= games['user_score'].replace('tbd', np.nan)\n",
    "\n",
    "games['user_score']= games['user_score'].astype(float)\n",
    "\n",
    "print(games['user_score'].unique())"
   ]
  },
  {
   "cell_type": "markdown",
   "metadata": {},
   "source": [
    "First, I printed the types of data in the dataset to see what I would be working with. Secondly, I went in to the year of release column which was a decimal number(float 64), dropping nan values in a subset, being the specific column \"year of release\" and taking those variables and turning them into integers, which drops the decimal. To drop the TBD, I went into the \"user score\" column and replaced the value with NaN. I then converted the data to a float type, and printed the unique values to double check my work."
   ]
  },
  {
   "cell_type": "markdown",
   "metadata": {},
   "source": [
    "<div class=\"alert alert-success\">\n",
    "  <b>Reviewer’s comment – Iteration 2:</b><br>\n",
    "  Great job here.\n",
    "  <ul>\n",
    "    <li>You successfully handled the missing values by <b>dropping rows with missing <code>name</code>, <code>genre</code>, and <code>year_of_release</code></b>, which is the best choice given how minimal those missing values were.</li>\n",
    "    <li>Well done on <b>leaving high-percentage missing values</b> (like <code>user_score</code>, <code>critic_score</code>, and <code>rating</code>) untouched instead of filling them—this keeps the analysis clean and unbiased.</li>\n",
    "  </ul>\n",
    "</div>\n"
   ]
  },
  {
   "cell_type": "markdown",
   "metadata": {},
   "source": [
    "<div class=\"alert alert-danger\">\n",
    "  <b>Reviewer’s comment – Iteration 1:</b><br>\n",
    "  You're on the right track with your data preparation—handling missing values is always one of the trickiest parts of a project, so great effort here! A few important points to reconsider before moving forward:\n",
    "  <ul>\n",
    "    <li>For <code>year_of_release</code>, you’re correct to drop missing values since it only affects about <b>1.6%</b> of the data. To keep things consistent, also check and drop missing values in <code>name</code> and <code>genre</code> (both missing in less than <b>0.02%</b> of the data). These are so few that dropping them is safe and won’t impact the analysis.</li>\n",
    "    <li>For <code>user_score</code>, over <b>54%</b> of the values are missing. For <code>critic_score</code>, it's over <b>51%</b>, and for <code>rating</code>, about <b>40%</b>. Since these are very large proportions, filling them (even with means or medians) would create a lot of artificial data and could lead to misleading conclusions. Instead, it’s better to leave them as missing and simply use the available values for your analysis when needed.</li>\n",
    "  </ul>\n",
    "  Missing data can feel like a roadblock, but handling it thoughtfully—especially when the missingness is high—is crucial for reliable insights. You’re doing great so far—keep it up!\n",
    "</div>"
   ]
  },
  {
   "cell_type": "markdown",
   "metadata": {
    "id": "Op-5jvJA04du"
   },
   "source": [
    "### 2.3 Handling Missing Values"
   ]
  },
  {
   "cell_type": "code",
   "execution_count": 11,
   "metadata": {
    "id": "kgQM57IU03yn"
   },
   "outputs": [
    {
     "name": "stdout",
     "output_type": "stream",
     "text": [
      "name                  0\n",
      "platform              0\n",
      "year_of_release       0\n",
      "genre                 0\n",
      "na_sales              0\n",
      "eu_sales              0\n",
      "jp_sales              0\n",
      "other_sales           0\n",
      "critic_score       8461\n",
      "user_score         8981\n",
      "rating             6676\n",
      "dtype: int64\n",
      "16444\n"
     ]
    }
   ],
   "source": [
    "# Examine missing values\n",
    "print(games.isnull().sum())\n",
    "print(len(games))"
   ]
  },
  {
   "cell_type": "code",
   "execution_count": 12,
   "metadata": {
    "id": "IbjVBu5H06kW"
   },
   "outputs": [
    {
     "name": "stdout",
     "output_type": "stream",
     "text": [
      "name                0.000000\n",
      "platform            0.000000\n",
      "year_of_release     0.000000\n",
      "genre               0.000000\n",
      "na_sales            0.000000\n",
      "eu_sales            0.000000\n",
      "jp_sales            0.000000\n",
      "other_sales         0.000000\n",
      "critic_score       51.453418\n",
      "user_score         54.615665\n",
      "rating             40.598395\n",
      "dtype: float64\n"
     ]
    }
   ],
   "source": [
    "# Calculate percentage of missing values\n",
    "missing_counts= games.isnull().sum()\n",
    "total_rows= len(games)\n",
    "percent_values= (missing_counts/total_rows)*100\n",
    "print(percent_values)"
   ]
  },
  {
   "cell_type": "code",
   "execution_count": 13,
   "metadata": {
    "id": "7JKmuhxF07a3"
   },
   "outputs": [
    {
     "data": {
      "text/html": [
       "<div>\n",
       "<style scoped>\n",
       "    .dataframe tbody tr th:only-of-type {\n",
       "        vertical-align: middle;\n",
       "    }\n",
       "\n",
       "    .dataframe tbody tr th {\n",
       "        vertical-align: top;\n",
       "    }\n",
       "\n",
       "    .dataframe thead th {\n",
       "        text-align: right;\n",
       "    }\n",
       "</style>\n",
       "<table border=\"1\" class=\"dataframe\">\n",
       "  <thead>\n",
       "    <tr style=\"text-align: right;\">\n",
       "      <th></th>\n",
       "      <th>platform</th>\n",
       "      <th>year_of_release</th>\n",
       "      <th>rating</th>\n",
       "      <th>name</th>\n",
       "      <th>genre</th>\n",
       "      <th>na_sales</th>\n",
       "      <th>eu_sales</th>\n",
       "      <th>jp_sales</th>\n",
       "      <th>other_sales</th>\n",
       "      <th>critic_score</th>\n",
       "      <th>user_score</th>\n",
       "    </tr>\n",
       "  </thead>\n",
       "  <tbody>\n",
       "    <tr>\n",
       "      <th>0</th>\n",
       "      <td>3DS</td>\n",
       "      <td>2011</td>\n",
       "      <td>E</td>\n",
       "      <td>36</td>\n",
       "      <td>36</td>\n",
       "      <td>36</td>\n",
       "      <td>36</td>\n",
       "      <td>36</td>\n",
       "      <td>36</td>\n",
       "      <td>24</td>\n",
       "      <td>20</td>\n",
       "    </tr>\n",
       "    <tr>\n",
       "      <th>1</th>\n",
       "      <td>3DS</td>\n",
       "      <td>2011</td>\n",
       "      <td>E10+</td>\n",
       "      <td>21</td>\n",
       "      <td>21</td>\n",
       "      <td>21</td>\n",
       "      <td>21</td>\n",
       "      <td>21</td>\n",
       "      <td>21</td>\n",
       "      <td>18</td>\n",
       "      <td>16</td>\n",
       "    </tr>\n",
       "    <tr>\n",
       "      <th>2</th>\n",
       "      <td>3DS</td>\n",
       "      <td>2011</td>\n",
       "      <td>M</td>\n",
       "      <td>3</td>\n",
       "      <td>3</td>\n",
       "      <td>3</td>\n",
       "      <td>3</td>\n",
       "      <td>3</td>\n",
       "      <td>3</td>\n",
       "      <td>2</td>\n",
       "      <td>2</td>\n",
       "    </tr>\n",
       "    <tr>\n",
       "      <th>3</th>\n",
       "      <td>3DS</td>\n",
       "      <td>2011</td>\n",
       "      <td>T</td>\n",
       "      <td>21</td>\n",
       "      <td>21</td>\n",
       "      <td>21</td>\n",
       "      <td>21</td>\n",
       "      <td>21</td>\n",
       "      <td>21</td>\n",
       "      <td>17</td>\n",
       "      <td>18</td>\n",
       "    </tr>\n",
       "    <tr>\n",
       "      <th>4</th>\n",
       "      <td>3DS</td>\n",
       "      <td>2012</td>\n",
       "      <td>E</td>\n",
       "      <td>15</td>\n",
       "      <td>15</td>\n",
       "      <td>15</td>\n",
       "      <td>15</td>\n",
       "      <td>15</td>\n",
       "      <td>15</td>\n",
       "      <td>11</td>\n",
       "      <td>12</td>\n",
       "    </tr>\n",
       "    <tr>\n",
       "      <th>...</th>\n",
       "      <td>...</td>\n",
       "      <td>...</td>\n",
       "      <td>...</td>\n",
       "      <td>...</td>\n",
       "      <td>...</td>\n",
       "      <td>...</td>\n",
       "      <td>...</td>\n",
       "      <td>...</td>\n",
       "      <td>...</td>\n",
       "      <td>...</td>\n",
       "      <td>...</td>\n",
       "    </tr>\n",
       "    <tr>\n",
       "      <th>506</th>\n",
       "      <td>XOne</td>\n",
       "      <td>2015</td>\n",
       "      <td>T</td>\n",
       "      <td>14</td>\n",
       "      <td>14</td>\n",
       "      <td>14</td>\n",
       "      <td>14</td>\n",
       "      <td>14</td>\n",
       "      <td>14</td>\n",
       "      <td>12</td>\n",
       "      <td>14</td>\n",
       "    </tr>\n",
       "    <tr>\n",
       "      <th>507</th>\n",
       "      <td>XOne</td>\n",
       "      <td>2016</td>\n",
       "      <td>E</td>\n",
       "      <td>18</td>\n",
       "      <td>18</td>\n",
       "      <td>18</td>\n",
       "      <td>18</td>\n",
       "      <td>18</td>\n",
       "      <td>18</td>\n",
       "      <td>13</td>\n",
       "      <td>15</td>\n",
       "    </tr>\n",
       "    <tr>\n",
       "      <th>508</th>\n",
       "      <td>XOne</td>\n",
       "      <td>2016</td>\n",
       "      <td>E10+</td>\n",
       "      <td>8</td>\n",
       "      <td>8</td>\n",
       "      <td>8</td>\n",
       "      <td>8</td>\n",
       "      <td>8</td>\n",
       "      <td>8</td>\n",
       "      <td>8</td>\n",
       "      <td>8</td>\n",
       "    </tr>\n",
       "    <tr>\n",
       "      <th>509</th>\n",
       "      <td>XOne</td>\n",
       "      <td>2016</td>\n",
       "      <td>M</td>\n",
       "      <td>27</td>\n",
       "      <td>27</td>\n",
       "      <td>27</td>\n",
       "      <td>27</td>\n",
       "      <td>27</td>\n",
       "      <td>27</td>\n",
       "      <td>23</td>\n",
       "      <td>24</td>\n",
       "    </tr>\n",
       "    <tr>\n",
       "      <th>510</th>\n",
       "      <td>XOne</td>\n",
       "      <td>2016</td>\n",
       "      <td>T</td>\n",
       "      <td>18</td>\n",
       "      <td>18</td>\n",
       "      <td>18</td>\n",
       "      <td>18</td>\n",
       "      <td>18</td>\n",
       "      <td>18</td>\n",
       "      <td>13</td>\n",
       "      <td>16</td>\n",
       "    </tr>\n",
       "  </tbody>\n",
       "</table>\n",
       "<p>511 rows × 11 columns</p>\n",
       "</div>"
      ],
      "text/plain": [
       "    platform  year_of_release rating  name  genre  na_sales  eu_sales  \\\n",
       "0        3DS             2011      E    36     36        36        36   \n",
       "1        3DS             2011   E10+    21     21        21        21   \n",
       "2        3DS             2011      M     3      3         3         3   \n",
       "3        3DS             2011      T    21     21        21        21   \n",
       "4        3DS             2012      E    15     15        15        15   \n",
       "..       ...              ...    ...   ...    ...       ...       ...   \n",
       "506     XOne             2015      T    14     14        14        14   \n",
       "507     XOne             2016      E    18     18        18        18   \n",
       "508     XOne             2016   E10+     8      8         8         8   \n",
       "509     XOne             2016      M    27     27        27        27   \n",
       "510     XOne             2016      T    18     18        18        18   \n",
       "\n",
       "     jp_sales  other_sales  critic_score  user_score  \n",
       "0          36           36            24          20  \n",
       "1          21           21            18          16  \n",
       "2           3            3             2           2  \n",
       "3          21           21            17          18  \n",
       "4          15           15            11          12  \n",
       "..        ...          ...           ...         ...  \n",
       "506        14           14            12          14  \n",
       "507        18           18            13          15  \n",
       "508         8            8             8           8  \n",
       "509        27           27            23          24  \n",
       "510        18           18            13          16  \n",
       "\n",
       "[511 rows x 11 columns]"
      ]
     },
     "metadata": {},
     "output_type": "display_data"
    },
    {
     "data": {
      "image/png": "[encoded data removed]",
      "text/plain": [
       "<Figure size 1200x800 with 1 Axes>"
      ]
     },
     "metadata": {},
     "output_type": "display_data"
    }
   ],
   "source": [
    "# Analyze patterns in missing values\n",
    "games_grouped= games.groupby(['platform', 'year_of_release', 'rating']).count().reset_index()\n",
    "display(games_grouped)\n",
    "\n",
    "cleaned_ratings= games.dropna(subset=['rating'])\n",
    "grouped_data= cleaned_ratings.groupby(['year_of_release', 'rating']).size().reset_index(name='count')\n",
    "year_totals = cleaned_ratings.groupby('year_of_release').size().reset_index(name='total_games')\n",
    "merged_data = grouped_data.merge(year_totals, on='year_of_release')\n",
    "percentages= (merged_data['count']/merged_data['total_games']) * 100\n",
    "merged_data['percentage'] = (merged_data['count']/merged_data['total_games']) * 100\n",
    "\n",
    "plt.figure(figsize=(12, 8))\n",
    "plt.scatter(merged_data['year_of_release'], merged_data['percentage'], alpha=0.7)\n",
    "plt.xlabel('Year of Release')\n",
    "plt.ylabel('Percentage')\n",
    "plt.title('Game Rating Percentages by Year')\n",
    "plt.grid(True, alpha=0.3)\n",
    "plt.show()\n"
   ]
  },
  {
   "cell_type": "markdown",
   "metadata": {},
   "source": [
    "During my analysis, I discovered a lot of missing values with earlier gaming systems and the years they were released. It looks as though the games didn't start dropping in missing ratings until 1993-1994. After that, the percentage of ratings each year seem to spread out and vary. While coding my analysis, I cleaned the data by removing games without ratings, aggregated the data by year and rating to count occurrences, converted raw counts to percentages for a clearer comparison, then plotted my visualization to display my findings of the pattern over time. "
   ]
  },
  {
   "cell_type": "markdown",
   "metadata": {},
   "source": [
    "<div class=\"alert alert-success\">\n",
    "  <b>Reviewer’s comment – Iteration 2:</b><br>\n",
    "  Great job here.\n",
    "  <ul>\n",
    "    <li>You corrected the handling of missing values by <b>leaving <code>user_score</code>, <code>critic_score</code>, and <code>rating</code> as missing</b> instead of filling them, which ensures accurate missing value analysis and correct percentage calculations.</li>\n",
    "    <li>Consistent missing data handling across your analysis is now in place—well done on making this important fix.</li>\n",
    "  </ul>\n",
    "</div>\n"
   ]
  },
  {
   "cell_type": "markdown",
   "metadata": {},
   "source": [
    "<div class=\"alert alert-danger\">\n",
    "  <b>Reviewer’s comment – Iteration 1:</b><br>\n",
    "  You're making great progress analyzing missing values and exploring patterns—this is really well thought out! One important thing to double-check here:\n",
    "  <ul>\n",
    "    <li>The percentages you're calculating for <code>rating</code> and other missing values are not fully accurate because in the previous section you filled some missing values (e.g., in <code>user_score</code>) instead of leaving them as missing. This affects the accuracy of these calculations.</li>\n",
    "    <li>To get the correct percentages and missing value analysis, it's crucial to handle missing values <b>consistently</b> across all sections. Leaving missing values as <code>NaN</code> (especially for <code>user_score</code>, <code>critic_score</code>, and <code>rating</code>) allows for more accurate missing data summaries and visualizations like this one.</li>\n",
    "  </ul>\n",
    "</div>\n"
   ]
  },
  {
   "cell_type": "code",
   "execution_count": 14,
   "metadata": {
    "id": "NWeZ6Pj008iW"
   },
   "outputs": [
    {
     "name": "stdout",
     "output_type": "stream",
     "text": [
      "['E' nan 'M' 'T' 'E10+' 'K-A' 'AO' 'EC' 'RP']\n",
      "['E' 'NR' 'M' 'T' 'E10+' 'K-A' 'AO' 'EC' 'RP']\n"
     ]
    }
   ],
   "source": [
    "# Handle missing values based on analysis\n",
    "# Your code here to handle missing values according to your strategy\n",
    "print(games['rating'].unique())\n",
    "\n",
    "games['rating']= games['rating'].fillna('NR')\n",
    "print(games['rating'].unique())"
   ]
  },
  {
   "cell_type": "markdown",
   "metadata": {},
   "source": [
    "To handle the missing values in the dataset, i deduced that 40 percent of the dataset was missing values in the \"rating\" column. There is a pattern in the data of missing values on ratings between 1993-1994, so to fulfill the nan values, I filled them with \"NR\" for \"Not Rated\". To show that my code was working, I printed all of the unique values in the \"rating\" column before and after changing the values in the dataset."
   ]
  },
  {
   "cell_type": "markdown",
   "metadata": {},
   "source": [
    "<div class=\"alert alert-success\">\n",
    "  <b>Reviewer’s comment – Iteration 1:</b><br>\n",
    "  Great job here.\n",
    "  <ul>\n",
    "    <li>Excellent approach to <b>analyzing missing values</b> by grouping data and calculating percentages over time.</li>\n",
    "    <li>Clear and informative visualization to help understand <b>rating distributions by year</b>.</li>\n",
    "  </ul>\n",
    "</div>\n"
   ]
  },
  {
   "cell_type": "code",
   "execution_count": 15,
   "metadata": {
    "id": "jVIFovLz091G"
   },
   "outputs": [],
   "source": [
    "# Why do you think the values are missing? Give possible reasons.\n",
    "# Explain why you filled in the missing values as you did or why you decided to leave them blank."
   ]
  },
  {
   "cell_type": "markdown",
   "metadata": {},
   "source": [
    "I think that the values are missing in the \"rating\" column due to games growing expansively after 1994, production of games growing after that time, and that not all games are rated/didn't make large sales. Based on my graph, it seems as though the ratings percentage drops after a certain point and get speratic. After doing some research, it looks like the North America was the only region that had the ESRB which regulates ratings on video games based on age and content ratings. The ESRB started in 1994.I used \"NR\" foor my missing values for \"Not Rated\" in the dataset since the game wasn't submitted for rating to begin with."
   ]
  },
  {
   "cell_type": "markdown",
   "metadata": {
    "id": "NgRdPJYJ1ZKG"
   },
   "source": [
    "### 2.4 Calculate Total Sales"
   ]
  },
  {
   "cell_type": "code",
   "execution_count": 16,
   "metadata": {
    "id": "rc_LWvmr1Zj3"
   },
   "outputs": [
    {
     "data": {
      "text/html": [
       "<div>\n",
       "<style scoped>\n",
       "    .dataframe tbody tr th:only-of-type {\n",
       "        vertical-align: middle;\n",
       "    }\n",
       "\n",
       "    .dataframe tbody tr th {\n",
       "        vertical-align: top;\n",
       "    }\n",
       "\n",
       "    .dataframe thead th {\n",
       "        text-align: right;\n",
       "    }\n",
       "</style>\n",
       "<table border=\"1\" class=\"dataframe\">\n",
       "  <thead>\n",
       "    <tr style=\"text-align: right;\">\n",
       "      <th></th>\n",
       "      <th>name</th>\n",
       "      <th>platform</th>\n",
       "      <th>year_of_release</th>\n",
       "      <th>genre</th>\n",
       "      <th>na_sales</th>\n",
       "      <th>eu_sales</th>\n",
       "      <th>jp_sales</th>\n",
       "      <th>other_sales</th>\n",
       "      <th>critic_score</th>\n",
       "      <th>user_score</th>\n",
       "      <th>rating</th>\n",
       "      <th>total_sales</th>\n",
       "    </tr>\n",
       "  </thead>\n",
       "  <tbody>\n",
       "    <tr>\n",
       "      <th>0</th>\n",
       "      <td>Wii Sports</td>\n",
       "      <td>Wii</td>\n",
       "      <td>2006</td>\n",
       "      <td>Sports</td>\n",
       "      <td>41.36</td>\n",
       "      <td>28.96</td>\n",
       "      <td>3.77</td>\n",
       "      <td>8.45</td>\n",
       "      <td>76.0</td>\n",
       "      <td>8.0</td>\n",
       "      <td>E</td>\n",
       "      <td>82.54</td>\n",
       "    </tr>\n",
       "    <tr>\n",
       "      <th>1</th>\n",
       "      <td>Super Mario Bros.</td>\n",
       "      <td>NES</td>\n",
       "      <td>1985</td>\n",
       "      <td>Platform</td>\n",
       "      <td>29.08</td>\n",
       "      <td>3.58</td>\n",
       "      <td>6.81</td>\n",
       "      <td>0.77</td>\n",
       "      <td>NaN</td>\n",
       "      <td>NaN</td>\n",
       "      <td>NR</td>\n",
       "      <td>40.24</td>\n",
       "    </tr>\n",
       "    <tr>\n",
       "      <th>2</th>\n",
       "      <td>Mario Kart Wii</td>\n",
       "      <td>Wii</td>\n",
       "      <td>2008</td>\n",
       "      <td>Racing</td>\n",
       "      <td>15.68</td>\n",
       "      <td>12.76</td>\n",
       "      <td>3.79</td>\n",
       "      <td>3.29</td>\n",
       "      <td>82.0</td>\n",
       "      <td>8.3</td>\n",
       "      <td>E</td>\n",
       "      <td>35.52</td>\n",
       "    </tr>\n",
       "    <tr>\n",
       "      <th>3</th>\n",
       "      <td>Wii Sports Resort</td>\n",
       "      <td>Wii</td>\n",
       "      <td>2009</td>\n",
       "      <td>Sports</td>\n",
       "      <td>15.61</td>\n",
       "      <td>10.93</td>\n",
       "      <td>3.28</td>\n",
       "      <td>2.95</td>\n",
       "      <td>80.0</td>\n",
       "      <td>8.0</td>\n",
       "      <td>E</td>\n",
       "      <td>32.77</td>\n",
       "    </tr>\n",
       "    <tr>\n",
       "      <th>4</th>\n",
       "      <td>Pokemon Red/Pokemon Blue</td>\n",
       "      <td>GB</td>\n",
       "      <td>1996</td>\n",
       "      <td>Role-Playing</td>\n",
       "      <td>11.27</td>\n",
       "      <td>8.89</td>\n",
       "      <td>10.22</td>\n",
       "      <td>1.00</td>\n",
       "      <td>NaN</td>\n",
       "      <td>NaN</td>\n",
       "      <td>NR</td>\n",
       "      <td>31.38</td>\n",
       "    </tr>\n",
       "    <tr>\n",
       "      <th>...</th>\n",
       "      <td>...</td>\n",
       "      <td>...</td>\n",
       "      <td>...</td>\n",
       "      <td>...</td>\n",
       "      <td>...</td>\n",
       "      <td>...</td>\n",
       "      <td>...</td>\n",
       "      <td>...</td>\n",
       "      <td>...</td>\n",
       "      <td>...</td>\n",
       "      <td>...</td>\n",
       "      <td>...</td>\n",
       "    </tr>\n",
       "    <tr>\n",
       "      <th>16710</th>\n",
       "      <td>Samurai Warriors: Sanada Maru</td>\n",
       "      <td>PS3</td>\n",
       "      <td>2016</td>\n",
       "      <td>Action</td>\n",
       "      <td>0.00</td>\n",
       "      <td>0.00</td>\n",
       "      <td>0.01</td>\n",
       "      <td>0.00</td>\n",
       "      <td>NaN</td>\n",
       "      <td>NaN</td>\n",
       "      <td>NR</td>\n",
       "      <td>0.01</td>\n",
       "    </tr>\n",
       "    <tr>\n",
       "      <th>16711</th>\n",
       "      <td>LMA Manager 2007</td>\n",
       "      <td>X360</td>\n",
       "      <td>2006</td>\n",
       "      <td>Sports</td>\n",
       "      <td>0.00</td>\n",
       "      <td>0.01</td>\n",
       "      <td>0.00</td>\n",
       "      <td>0.00</td>\n",
       "      <td>NaN</td>\n",
       "      <td>NaN</td>\n",
       "      <td>NR</td>\n",
       "      <td>0.01</td>\n",
       "    </tr>\n",
       "    <tr>\n",
       "      <th>16712</th>\n",
       "      <td>Haitaka no Psychedelica</td>\n",
       "      <td>PSV</td>\n",
       "      <td>2016</td>\n",
       "      <td>Adventure</td>\n",
       "      <td>0.00</td>\n",
       "      <td>0.00</td>\n",
       "      <td>0.01</td>\n",
       "      <td>0.00</td>\n",
       "      <td>NaN</td>\n",
       "      <td>NaN</td>\n",
       "      <td>NR</td>\n",
       "      <td>0.01</td>\n",
       "    </tr>\n",
       "    <tr>\n",
       "      <th>16713</th>\n",
       "      <td>Spirits &amp; Spells</td>\n",
       "      <td>GBA</td>\n",
       "      <td>2003</td>\n",
       "      <td>Platform</td>\n",
       "      <td>0.01</td>\n",
       "      <td>0.00</td>\n",
       "      <td>0.00</td>\n",
       "      <td>0.00</td>\n",
       "      <td>NaN</td>\n",
       "      <td>NaN</td>\n",
       "      <td>NR</td>\n",
       "      <td>0.01</td>\n",
       "    </tr>\n",
       "    <tr>\n",
       "      <th>16714</th>\n",
       "      <td>Winning Post 8 2016</td>\n",
       "      <td>PSV</td>\n",
       "      <td>2016</td>\n",
       "      <td>Simulation</td>\n",
       "      <td>0.00</td>\n",
       "      <td>0.00</td>\n",
       "      <td>0.01</td>\n",
       "      <td>0.00</td>\n",
       "      <td>NaN</td>\n",
       "      <td>NaN</td>\n",
       "      <td>NR</td>\n",
       "      <td>0.01</td>\n",
       "    </tr>\n",
       "  </tbody>\n",
       "</table>\n",
       "<p>16444 rows × 12 columns</p>\n",
       "</div>"
      ],
      "text/plain": [
       "                                name platform  year_of_release         genre  \\\n",
       "0                         Wii Sports      Wii             2006        Sports   \n",
       "1                  Super Mario Bros.      NES             1985      Platform   \n",
       "2                     Mario Kart Wii      Wii             2008        Racing   \n",
       "3                  Wii Sports Resort      Wii             2009        Sports   \n",
       "4           Pokemon Red/Pokemon Blue       GB             1996  Role-Playing   \n",
       "...                              ...      ...              ...           ...   \n",
       "16710  Samurai Warriors: Sanada Maru      PS3             2016        Action   \n",
       "16711               LMA Manager 2007     X360             2006        Sports   \n",
       "16712        Haitaka no Psychedelica      PSV             2016     Adventure   \n",
       "16713               Spirits & Spells      GBA             2003      Platform   \n",
       "16714            Winning Post 8 2016      PSV             2016    Simulation   \n",
       "\n",
       "       na_sales  eu_sales  jp_sales  other_sales  critic_score  user_score  \\\n",
       "0         41.36     28.96      3.77         8.45          76.0         8.0   \n",
       "1         29.08      3.58      6.81         0.77           NaN         NaN   \n",
       "2         15.68     12.76      3.79         3.29          82.0         8.3   \n",
       "3         15.61     10.93      3.28         2.95          80.0         8.0   \n",
       "4         11.27      8.89     10.22         1.00           NaN         NaN   \n",
       "...         ...       ...       ...          ...           ...         ...   \n",
       "16710      0.00      0.00      0.01         0.00           NaN         NaN   \n",
       "16711      0.00      0.01      0.00         0.00           NaN         NaN   \n",
       "16712      0.00      0.00      0.01         0.00           NaN         NaN   \n",
       "16713      0.01      0.00      0.00         0.00           NaN         NaN   \n",
       "16714      0.00      0.00      0.01         0.00           NaN         NaN   \n",
       "\n",
       "      rating  total_sales  \n",
       "0          E        82.54  \n",
       "1         NR        40.24  \n",
       "2          E        35.52  \n",
       "3          E        32.77  \n",
       "4         NR        31.38  \n",
       "...      ...          ...  \n",
       "16710     NR         0.01  \n",
       "16711     NR         0.01  \n",
       "16712     NR         0.01  \n",
       "16713     NR         0.01  \n",
       "16714     NR         0.01  \n",
       "\n",
       "[16444 rows x 12 columns]"
      ]
     },
     "metadata": {},
     "output_type": "display_data"
    },
    {
     "name": "stdout",
     "output_type": "stream",
     "text": [
      "8814.369999999999\n"
     ]
    }
   ],
   "source": [
    "# Calculate total sales across all regions and put them in a different column\n",
    "games['total_sales']= games['na_sales'] + games['eu_sales'] + games['jp_sales'] + games['other_sales']\n",
    "\n",
    "display(games)\n",
    "print(games['total_sales'].sum())"
   ]
  },
  {
   "cell_type": "markdown",
   "metadata": {},
   "source": [
    "<div class=\"alert alert-success\">\n",
    "  <b>Reviewer’s comment – Iteration 1:</b><br>\n",
    "  Great job here.\n",
    "  <ul>\n",
    "    <li>Correctly calculated and added the <b>total_sales</b> column—this is an essential step for later analysis.</li>\n",
    "    <li>Nice use of both <code>display()</code> and <code>print()</code> to verify the results.</li>\n",
    "  </ul>\n",
    "</div>\n"
   ]
  },
  {
   "cell_type": "markdown",
   "metadata": {
    "id": "Jt9oL4lS1ePu"
   },
   "source": [
    "# Step 3: Analyzing Video Game Sales Data\n",
    "\n",
    "## 3.1 Temporal Analysis of Game Releases\n",
    "Let's first examine the distribution of game releases across different years to understand our data's coverage and significance:"
   ]
  },
  {
   "cell_type": "code",
   "execution_count": 17,
   "metadata": {
    "id": "DaxQrjBNGUuy"
   },
   "outputs": [
    {
     "name": "stdout",
     "output_type": "stream",
     "text": [
      "    year_of_release  number_of_games\n",
      "0              1980                9\n",
      "1              1981               46\n",
      "2              1982               36\n",
      "3              1983               17\n",
      "4              1984               14\n",
      "5              1985               14\n",
      "6              1986               21\n",
      "7              1987               16\n",
      "8              1988               15\n",
      "9              1989               17\n",
      "10             1990               16\n",
      "11             1991               41\n",
      "12             1992               43\n",
      "13             1993               60\n",
      "14             1994              121\n",
      "15             1995              219\n",
      "16             1996              263\n",
      "17             1997              289\n",
      "18             1998              379\n",
      "19             1999              338\n",
      "20             2000              350\n",
      "21             2001              482\n",
      "22             2002              829\n",
      "23             2003              775\n",
      "24             2004              762\n",
      "25             2005              939\n",
      "26             2006             1006\n",
      "27             2007             1197\n",
      "28             2008             1427\n",
      "29             2009             1426\n",
      "30             2010             1255\n",
      "31             2011             1136\n",
      "32             2012              653\n",
      "33             2013              544\n",
      "34             2014              581\n",
      "35             2015              606\n",
      "36             2016              502\n"
     ]
    }
   ],
   "source": [
    "# Create a DataFrame with game releases by year\n",
    "games_by_year = games.groupby('year_of_release').size().reset_index(name='number_of_games')\n",
    "print(games_by_year)"
   ]
  },
  {
   "cell_type": "code",
   "execution_count": 18,
   "metadata": {
    "id": "sZjP-hb61fIf"
   },
   "outputs": [
    {
     "data": {
      "image/png": "[encoded data removed]",
      "text/plain": [
       "<Figure size 1000x600 with 1 Axes>"
      ]
     },
     "metadata": {},
     "output_type": "display_data"
    }
   ],
   "source": [
    "# Visualize the distribution of games across years\n",
    "plt.figure(figsize=(10, 6))\n",
    "plt.bar(games_by_year['year_of_release'], games_by_year['number_of_games'], color='orange')\n",
    "plt.title('Number of Game Releases per Year')\n",
    "plt.xlabel('Year of Release')\n",
    "plt.ylabel('Number of Games')\n",
    "plt.xticks(rotation=45)\n",
    "plt.show()\n"
   ]
  },
  {
   "cell_type": "code",
   "execution_count": 19,
   "metadata": {
    "id": "6hJ4jyLq1gIN"
   },
   "outputs": [
    {
     "data": {
      "text/html": [
       "<div>\n",
       "<style scoped>\n",
       "    .dataframe tbody tr th:only-of-type {\n",
       "        vertical-align: middle;\n",
       "    }\n",
       "\n",
       "    .dataframe tbody tr th {\n",
       "        vertical-align: top;\n",
       "    }\n",
       "\n",
       "    .dataframe thead th {\n",
       "        text-align: right;\n",
       "    }\n",
       "</style>\n",
       "<table border=\"1\" class=\"dataframe\">\n",
       "  <thead>\n",
       "    <tr style=\"text-align: right;\">\n",
       "      <th></th>\n",
       "      <th>year_of_release</th>\n",
       "      <th>number_of_games</th>\n",
       "    </tr>\n",
       "  </thead>\n",
       "  <tbody>\n",
       "    <tr>\n",
       "      <th>count</th>\n",
       "      <td>37.000000</td>\n",
       "      <td>37.000000</td>\n",
       "    </tr>\n",
       "    <tr>\n",
       "      <th>mean</th>\n",
       "      <td>1998.000000</td>\n",
       "      <td>444.432432</td>\n",
       "    </tr>\n",
       "    <tr>\n",
       "      <th>std</th>\n",
       "      <td>10.824355</td>\n",
       "      <td>451.604334</td>\n",
       "    </tr>\n",
       "    <tr>\n",
       "      <th>min</th>\n",
       "      <td>1980.000000</td>\n",
       "      <td>9.000000</td>\n",
       "    </tr>\n",
       "    <tr>\n",
       "      <th>25%</th>\n",
       "      <td>1989.000000</td>\n",
       "      <td>36.000000</td>\n",
       "    </tr>\n",
       "    <tr>\n",
       "      <th>50%</th>\n",
       "      <td>1998.000000</td>\n",
       "      <td>338.000000</td>\n",
       "    </tr>\n",
       "    <tr>\n",
       "      <th>75%</th>\n",
       "      <td>2007.000000</td>\n",
       "      <td>762.000000</td>\n",
       "    </tr>\n",
       "    <tr>\n",
       "      <th>max</th>\n",
       "      <td>2016.000000</td>\n",
       "      <td>1427.000000</td>\n",
       "    </tr>\n",
       "  </tbody>\n",
       "</table>\n",
       "</div>"
      ],
      "text/plain": [
       "       year_of_release  number_of_games\n",
       "count        37.000000        37.000000\n",
       "mean       1998.000000       444.432432\n",
       "std          10.824355       451.604334\n",
       "min        1980.000000         9.000000\n",
       "25%        1989.000000        36.000000\n",
       "50%        1998.000000       338.000000\n",
       "75%        2007.000000       762.000000\n",
       "max        2016.000000      1427.000000"
      ]
     },
     "execution_count": 19,
     "metadata": {},
     "output_type": "execute_result"
    }
   ],
   "source": [
    "# Display summary statistics for each year\n",
    "games_by_year.describe()\n"
   ]
  },
  {
   "cell_type": "code",
   "execution_count": 20,
   "metadata": {},
   "outputs": [
    {
     "data": {
      "image/png": "[encoded data removed]",
      "text/plain": [
       "<Figure size 800x600 with 1 Axes>"
      ]
     },
     "metadata": {},
     "output_type": "display_data"
    }
   ],
   "source": [
    "plt.figure(figsize=(8, 6))\n",
    "plt.boxplot(games_by_year['year_of_release'])\n",
    "plt.title('Distribution per Year')\n",
    "plt.ylabel('Year of Release')\n",
    "plt.show()\n"
   ]
  },
  {
   "cell_type": "markdown",
   "metadata": {},
   "source": [
    "In this box plot, we look at the distribution of games per year. At the bottom left of this plot, we are at the first quartile, which falls at 1989. Our median is 50 percent of our data falling on 1998. And our upper quartile is at 2007, displaying a more visual representation of our statistical table. The box alone is a display of 50 percent of our data in this dataset, showing that our whiskers are the start and end of our plot. There are no outliers on this graph. "
   ]
  },
  {
   "cell_type": "code",
   "execution_count": 21,
   "metadata": {},
   "outputs": [
    {
     "data": {
      "image/png": "[encoded data removed]",
      "text/plain": [
       "<Figure size 800x600 with 1 Axes>"
      ]
     },
     "metadata": {},
     "output_type": "display_data"
    }
   ],
   "source": [
    "plt.figure(figsize=(8, 6))\n",
    "plt.boxplot(games_by_year['number_of_games'])\n",
    "plt.title('Distribution of Games')\n",
    "plt.ylabel('Games per Year')\n",
    "plt.show()\n"
   ]
  },
  {
   "cell_type": "markdown",
   "metadata": {},
   "source": [
    "In this box plot, we are looking at the distribution of games per year. Our first quartile is under 50, for the first 25 percent of the data falling below this point. The middle of our box is under 400. And the upper quartile is under 800, leaving another 25 percent of our data above this value. "
   ]
  },
  {
   "cell_type": "markdown",
   "metadata": {
    "id": "v4EHTXiUGeh6"
   },
   "source": [
    "### Questions to Consider:\n",
    "- Which years show significant numbers of game releases?\n",
    "- Are there any notable trends or patterns in the number of releases?\n",
    "- Is there enough recent data to make predictions for 2017?"
   ]
  },
  {
   "cell_type": "markdown",
   "metadata": {},
   "source": [
    "To analyze video game sales, I started with creating a dataframe that covers releases per year. I did this by grouping by \"year of release\" and count those numbers by year. To visualize this data, I used a bar plot to plot the number of games released each year. I displayed the statistics summary to understand the trends in the data and see or understand any significance in patterns. I felt that both box plots were important to visualize to determine both games per year and distribution of games. This data gives us a dipiction of our statistics and where majority of our data's focus should be. "
   ]
  },
  {
   "cell_type": "markdown",
   "metadata": {},
   "source": [
    "<div class=\"alert alert-success\">\n",
    "  <b>Reviewer’s comment – Iteration 1:</b><br>\n",
    "  Great job here.\n",
    "  <ul>\n",
    "    <li>Well done creating a clear <b>yearly breakdown</b> of game releases using both grouping and visualizations.</li>\n",
    "    <li>Nice use of <b>bar plots</b> and <b>box plots</b> to explore the distribution and trends over time.</li>\n",
    "    <li>Good explanation of the purpose behind each visualization and how it supports the analysis.</li>\n",
    "  </ul>\n",
    "</div>\n"
   ]
  },
  {
   "cell_type": "markdown",
   "metadata": {
    "id": "-rQehsGk11-W"
   },
   "source": [
    "## 3.2 Platform Sales Analysis Over Time\n",
    "\n",
    "Now let's analyze how sales vary across platforms and years:"
   ]
  },
  {
   "cell_type": "code",
   "execution_count": 22,
   "metadata": {
    "id": "6czXW9Ww13AX"
   },
   "outputs": [
    {
     "data": {
      "text/html": [
       "<div>\n",
       "<style scoped>\n",
       "    .dataframe tbody tr th:only-of-type {\n",
       "        vertical-align: middle;\n",
       "    }\n",
       "\n",
       "    .dataframe tbody tr th {\n",
       "        vertical-align: top;\n",
       "    }\n",
       "\n",
       "    .dataframe thead th {\n",
       "        text-align: right;\n",
       "    }\n",
       "</style>\n",
       "<table border=\"1\" class=\"dataframe\">\n",
       "  <thead>\n",
       "    <tr style=\"text-align: right;\">\n",
       "      <th></th>\n",
       "      <th>platform</th>\n",
       "      <th>year_of_release</th>\n",
       "      <th>total_sales</th>\n",
       "    </tr>\n",
       "  </thead>\n",
       "  <tbody>\n",
       "    <tr>\n",
       "      <th>0</th>\n",
       "      <td>2600</td>\n",
       "      <td>1980</td>\n",
       "      <td>11.38</td>\n",
       "    </tr>\n",
       "    <tr>\n",
       "      <th>1</th>\n",
       "      <td>2600</td>\n",
       "      <td>1981</td>\n",
       "      <td>35.68</td>\n",
       "    </tr>\n",
       "    <tr>\n",
       "      <th>2</th>\n",
       "      <td>2600</td>\n",
       "      <td>1982</td>\n",
       "      <td>28.88</td>\n",
       "    </tr>\n",
       "    <tr>\n",
       "      <th>3</th>\n",
       "      <td>2600</td>\n",
       "      <td>1983</td>\n",
       "      <td>5.84</td>\n",
       "    </tr>\n",
       "    <tr>\n",
       "      <th>4</th>\n",
       "      <td>2600</td>\n",
       "      <td>1984</td>\n",
       "      <td>0.27</td>\n",
       "    </tr>\n",
       "    <tr>\n",
       "      <th>...</th>\n",
       "      <td>...</td>\n",
       "      <td>...</td>\n",
       "      <td>...</td>\n",
       "    </tr>\n",
       "    <tr>\n",
       "      <th>233</th>\n",
       "      <td>XB</td>\n",
       "      <td>2008</td>\n",
       "      <td>0.18</td>\n",
       "    </tr>\n",
       "    <tr>\n",
       "      <th>234</th>\n",
       "      <td>XOne</td>\n",
       "      <td>2013</td>\n",
       "      <td>18.96</td>\n",
       "    </tr>\n",
       "    <tr>\n",
       "      <th>235</th>\n",
       "      <td>XOne</td>\n",
       "      <td>2014</td>\n",
       "      <td>54.07</td>\n",
       "    </tr>\n",
       "    <tr>\n",
       "      <th>236</th>\n",
       "      <td>XOne</td>\n",
       "      <td>2015</td>\n",
       "      <td>60.14</td>\n",
       "    </tr>\n",
       "    <tr>\n",
       "      <th>237</th>\n",
       "      <td>XOne</td>\n",
       "      <td>2016</td>\n",
       "      <td>26.15</td>\n",
       "    </tr>\n",
       "  </tbody>\n",
       "</table>\n",
       "<p>238 rows × 3 columns</p>\n",
       "</div>"
      ],
      "text/plain": [
       "    platform  year_of_release  total_sales\n",
       "0       2600             1980        11.38\n",
       "1       2600             1981        35.68\n",
       "2       2600             1982        28.88\n",
       "3       2600             1983         5.84\n",
       "4       2600             1984         0.27\n",
       "..       ...              ...          ...\n",
       "233       XB             2008         0.18\n",
       "234     XOne             2013        18.96\n",
       "235     XOne             2014        54.07\n",
       "236     XOne             2015        60.14\n",
       "237     XOne             2016        26.15\n",
       "\n",
       "[238 rows x 3 columns]"
      ]
     },
     "metadata": {},
     "output_type": "display_data"
    }
   ],
   "source": [
    "# Calculate total sales by platform and year\n",
    "total_sales= games.groupby(['platform', 'year_of_release'])['total_sales'].sum().reset_index()\n",
    "\n",
    "display(total_sales)"
   ]
  },
  {
   "cell_type": "code",
   "execution_count": 23,
   "metadata": {
    "id": "Dz_1_sNEGlDS"
   },
   "outputs": [
    {
     "data": {
      "image/png": "[encoded data removed]",
      "text/plain": [
       "<Figure size 1200x800 with 2 Axes>"
      ]
     },
     "metadata": {},
     "output_type": "display_data"
    }
   ],
   "source": [
    "# Create a heatmap of platform sales over time\n",
    "plat_sales_data = total_sales.pivot(\"year_of_release\", \"platform\", \"total_sales\")\n",
    "\n",
    "plt.figure(figsize=(12, 8))\n",
    "sns.heatmap(plat_sales_data, cmap=\"YlGnBu\", linewidths=0.5)\n",
    "plt.title(\"Platform Sales Heatmap Over Time\")\n",
    "plt.xlabel(\"Platform\")\n",
    "plt.ylabel(\"Year of Release\")\n",
    "plt.xticks(rotation=45)\n",
    "plt.show()\n"
   ]
  },
  {
   "cell_type": "code",
   "execution_count": 24,
   "metadata": {
    "id": "DPIZovwbGmLy"
   },
   "outputs": [
    {
     "name": "stdout",
     "output_type": "stream",
     "text": [
      "Platforms with Declining Sales: ['3DS', 'DS', 'GC', 'PS2', 'PSP', 'SAT', 'SNES', 'Wii', 'X360']\n"
     ]
    }
   ],
   "source": [
    "# Identify platforms with declining sales\n",
    "total_sales['sales_change'] = total_sales.groupby('platform')['total_sales'].diff()\n",
    "\n",
    "declining_platforms = total_sales.groupby('platform').apply(\n",
    "    lambda x: (x['sales_change'] < 0).sum() > len(x) // 2)\n",
    "\n",
    "declining_platforms_list = declining_platforms[declining_platforms].index.tolist()\n",
    "\n",
    "print(\"Platforms with Declining Sales:\", declining_platforms_list)\n",
    "\n"
   ]
  },
  {
   "cell_type": "code",
   "execution_count": 25,
   "metadata": {},
   "outputs": [
    {
     "name": "stdout",
     "output_type": "stream",
     "text": [
      "           min   max  lifespan\n",
      "platform                      \n",
      "2600      1980  1989         9\n",
      "3DO       1994  1995         1\n",
      "3DS       2011  2016         5\n",
      "DC        1998  2008        10\n",
      "DS        1985  2013        28\n",
      "GB        1988  2001        13\n",
      "GBA       2000  2007         7\n",
      "GC        2001  2007         6\n",
      "GEN       1990  1994         4\n",
      "GG        1992  1992         0\n",
      "N64       1996  2002         6\n",
      "NES       1983  1994        11\n",
      "NG        1993  1996         3\n",
      "PC        1985  2016        31\n",
      "PCFX      1996  1996         0\n",
      "PS        1994  2003         9\n",
      "PS2       2000  2011        11\n",
      "PS3       2006  2016        10\n",
      "PS4       2013  2016         3\n",
      "PSP       2004  2015        11\n",
      "PSV       2011  2016         5\n",
      "SAT       1994  1999         5\n",
      "SCD       1993  1994         1\n",
      "SNES      1990  1999         9\n",
      "TG16      1995  1995         0\n",
      "WS        1999  2001         2\n",
      "Wii       2006  2016        10\n",
      "WiiU      2012  2016         4\n",
      "X360      2005  2016        11\n",
      "XB        2000  2008         8\n",
      "XOne      2013  2016         3\n",
      "7.612903225806452\n"
     ]
    }
   ],
   "source": [
    "platform_years = total_sales.groupby('platform')['year_of_release'].agg(['min', 'max'])\n",
    "platform_years['lifespan']= platform_years['max'] - platform_years['min']\n",
    "lifespan= platform_years['lifespan'].mean()\n",
    "print(platform_years)\n",
    "print(lifespan)"
   ]
  },
  {
   "cell_type": "markdown",
   "metadata": {
    "id": "Jik7JecCGoNa"
   },
   "source": [
    "### Questions to Consider:\n",
    "- Which platforms show consistent sales over time?\n",
    "- Can you identify platforms that have disappeared from the market?\n",
    "- What's the typical lifecycle of a gaming platform?"
   ]
  },
  {
   "cell_type": "markdown",
   "metadata": {},
   "source": [
    "PC shows the most consistent sales over time. Some platforms that have fallen off the market are all realistically before 2002. The average lifecycle of a gaming platform is about 7-8 years."
   ]
  },
  {
   "cell_type": "markdown",
   "metadata": {},
   "source": [
    "<div class=\"alert alert-success\">\n",
    "  <b>Reviewer’s comment – Iteration 1:</b><br>\n",
    "  Great job here.\n",
    "  <ul>\n",
    "    <li>Excellent use of <b>heatmaps</b> and <b>grouped summaries</b> to explore platform sales trends over time.</li>\n",
    "    <li>Nice identification of <b>declining platforms</b> and calculation of average <b>platform lifespans</b>.</li>\n",
    "    <li>Clear and insightful interpretation of the results to support business decision-making.</li>\n",
    "  </ul>\n",
    "</div>\n"
   ]
  },
  {
   "cell_type": "markdown",
   "metadata": {
    "id": "Yk_tUP5y17Wv"
   },
   "source": [
    "## 3.3 Determining Relevant Time Period\n",
    "\n",
    "Based on your analysis above, determine the appropriate time period for predicting 2017 sales:"
   ]
  },
  {
   "cell_type": "code",
   "execution_count": 26,
   "metadata": {},
   "outputs": [
    {
     "name": "stdout",
     "output_type": "stream",
     "text": [
      "Available years:\n",
      "1980 to 2016\n",
      "\n",
      "First few years: [1980, 1981, 1982, 1983, 1984, 1985, 1986, 1987, 1988, 1989]\n",
      "Last few years: [2007, 2008, 2009, 2010, 2011, 2012, 2013, 2014, 2015, 2016]\n"
     ]
    }
   ],
   "source": [
    "print(\"Available years:\")\n",
    "print(plat_sales_data.index.min(), \"to\", plat_sales_data.index.max())\n",
    "print(\"\\nFirst few years:\", plat_sales_data.index[:10].tolist())\n",
    "print(\"Last few years:\", plat_sales_data.index[-10:].tolist())\n"
   ]
  },
  {
   "cell_type": "code",
   "execution_count": 27,
   "metadata": {
    "id": "hVfuRMjyFU3i"
   },
   "outputs": [
    {
     "data": {
      "text/html": [
       "<div>\n",
       "<style scoped>\n",
       "    .dataframe tbody tr th:only-of-type {\n",
       "        vertical-align: middle;\n",
       "    }\n",
       "\n",
       "    .dataframe tbody tr th {\n",
       "        vertical-align: top;\n",
       "    }\n",
       "\n",
       "    .dataframe thead th {\n",
       "        text-align: right;\n",
       "    }\n",
       "</style>\n",
       "<table border=\"1\" class=\"dataframe\">\n",
       "  <thead>\n",
       "    <tr style=\"text-align: right;\">\n",
       "      <th></th>\n",
       "      <th>name</th>\n",
       "      <th>platform</th>\n",
       "      <th>year_of_release</th>\n",
       "      <th>genre</th>\n",
       "      <th>na_sales</th>\n",
       "      <th>eu_sales</th>\n",
       "      <th>jp_sales</th>\n",
       "      <th>other_sales</th>\n",
       "      <th>critic_score</th>\n",
       "      <th>user_score</th>\n",
       "      <th>rating</th>\n",
       "      <th>total_sales</th>\n",
       "    </tr>\n",
       "  </thead>\n",
       "  <tbody>\n",
       "    <tr>\n",
       "      <th>31</th>\n",
       "      <td>Call of Duty: Black Ops 3</td>\n",
       "      <td>PS4</td>\n",
       "      <td>2015</td>\n",
       "      <td>Shooter</td>\n",
       "      <td>6.03</td>\n",
       "      <td>5.86</td>\n",
       "      <td>0.36</td>\n",
       "      <td>2.38</td>\n",
       "      <td>NaN</td>\n",
       "      <td>NaN</td>\n",
       "      <td>NR</td>\n",
       "      <td>14.63</td>\n",
       "    </tr>\n",
       "    <tr>\n",
       "      <th>42</th>\n",
       "      <td>Grand Theft Auto V</td>\n",
       "      <td>PS4</td>\n",
       "      <td>2014</td>\n",
       "      <td>Action</td>\n",
       "      <td>3.96</td>\n",
       "      <td>6.31</td>\n",
       "      <td>0.38</td>\n",
       "      <td>1.97</td>\n",
       "      <td>97.0</td>\n",
       "      <td>8.3</td>\n",
       "      <td>M</td>\n",
       "      <td>12.62</td>\n",
       "    </tr>\n",
       "    <tr>\n",
       "      <th>47</th>\n",
       "      <td>Pokemon Omega Ruby/Pokemon Alpha Sapphire</td>\n",
       "      <td>3DS</td>\n",
       "      <td>2014</td>\n",
       "      <td>Role-Playing</td>\n",
       "      <td>4.35</td>\n",
       "      <td>3.49</td>\n",
       "      <td>3.10</td>\n",
       "      <td>0.74</td>\n",
       "      <td>NaN</td>\n",
       "      <td>NaN</td>\n",
       "      <td>NR</td>\n",
       "      <td>11.68</td>\n",
       "    </tr>\n",
       "    <tr>\n",
       "      <th>77</th>\n",
       "      <td>FIFA 16</td>\n",
       "      <td>PS4</td>\n",
       "      <td>2015</td>\n",
       "      <td>Sports</td>\n",
       "      <td>1.12</td>\n",
       "      <td>6.12</td>\n",
       "      <td>0.06</td>\n",
       "      <td>1.28</td>\n",
       "      <td>82.0</td>\n",
       "      <td>4.3</td>\n",
       "      <td>E</td>\n",
       "      <td>8.58</td>\n",
       "    </tr>\n",
       "    <tr>\n",
       "      <th>87</th>\n",
       "      <td>Star Wars Battlefront (2015)</td>\n",
       "      <td>PS4</td>\n",
       "      <td>2015</td>\n",
       "      <td>Shooter</td>\n",
       "      <td>2.99</td>\n",
       "      <td>3.49</td>\n",
       "      <td>0.22</td>\n",
       "      <td>1.28</td>\n",
       "      <td>NaN</td>\n",
       "      <td>NaN</td>\n",
       "      <td>NR</td>\n",
       "      <td>7.98</td>\n",
       "    </tr>\n",
       "    <tr>\n",
       "      <th>...</th>\n",
       "      <td>...</td>\n",
       "      <td>...</td>\n",
       "      <td>...</td>\n",
       "      <td>...</td>\n",
       "      <td>...</td>\n",
       "      <td>...</td>\n",
       "      <td>...</td>\n",
       "      <td>...</td>\n",
       "      <td>...</td>\n",
       "      <td>...</td>\n",
       "      <td>...</td>\n",
       "      <td>...</td>\n",
       "    </tr>\n",
       "    <tr>\n",
       "      <th>16703</th>\n",
       "      <td>Strawberry Nauts</td>\n",
       "      <td>PSV</td>\n",
       "      <td>2016</td>\n",
       "      <td>Adventure</td>\n",
       "      <td>0.00</td>\n",
       "      <td>0.00</td>\n",
       "      <td>0.01</td>\n",
       "      <td>0.00</td>\n",
       "      <td>NaN</td>\n",
       "      <td>NaN</td>\n",
       "      <td>NR</td>\n",
       "      <td>0.01</td>\n",
       "    </tr>\n",
       "    <tr>\n",
       "      <th>16707</th>\n",
       "      <td>Aiyoku no Eustia</td>\n",
       "      <td>PSV</td>\n",
       "      <td>2014</td>\n",
       "      <td>Misc</td>\n",
       "      <td>0.00</td>\n",
       "      <td>0.00</td>\n",
       "      <td>0.01</td>\n",
       "      <td>0.00</td>\n",
       "      <td>NaN</td>\n",
       "      <td>NaN</td>\n",
       "      <td>NR</td>\n",
       "      <td>0.01</td>\n",
       "    </tr>\n",
       "    <tr>\n",
       "      <th>16710</th>\n",
       "      <td>Samurai Warriors: Sanada Maru</td>\n",
       "      <td>PS3</td>\n",
       "      <td>2016</td>\n",
       "      <td>Action</td>\n",
       "      <td>0.00</td>\n",
       "      <td>0.00</td>\n",
       "      <td>0.01</td>\n",
       "      <td>0.00</td>\n",
       "      <td>NaN</td>\n",
       "      <td>NaN</td>\n",
       "      <td>NR</td>\n",
       "      <td>0.01</td>\n",
       "    </tr>\n",
       "    <tr>\n",
       "      <th>16712</th>\n",
       "      <td>Haitaka no Psychedelica</td>\n",
       "      <td>PSV</td>\n",
       "      <td>2016</td>\n",
       "      <td>Adventure</td>\n",
       "      <td>0.00</td>\n",
       "      <td>0.00</td>\n",
       "      <td>0.01</td>\n",
       "      <td>0.00</td>\n",
       "      <td>NaN</td>\n",
       "      <td>NaN</td>\n",
       "      <td>NR</td>\n",
       "      <td>0.01</td>\n",
       "    </tr>\n",
       "    <tr>\n",
       "      <th>16714</th>\n",
       "      <td>Winning Post 8 2016</td>\n",
       "      <td>PSV</td>\n",
       "      <td>2016</td>\n",
       "      <td>Simulation</td>\n",
       "      <td>0.00</td>\n",
       "      <td>0.00</td>\n",
       "      <td>0.01</td>\n",
       "      <td>0.00</td>\n",
       "      <td>NaN</td>\n",
       "      <td>NaN</td>\n",
       "      <td>NR</td>\n",
       "      <td>0.01</td>\n",
       "    </tr>\n",
       "  </tbody>\n",
       "</table>\n",
       "<p>1689 rows × 12 columns</p>\n",
       "</div>"
      ],
      "text/plain": [
       "                                            name platform  year_of_release  \\\n",
       "31                     Call of Duty: Black Ops 3      PS4             2015   \n",
       "42                            Grand Theft Auto V      PS4             2014   \n",
       "47     Pokemon Omega Ruby/Pokemon Alpha Sapphire      3DS             2014   \n",
       "77                                       FIFA 16      PS4             2015   \n",
       "87                  Star Wars Battlefront (2015)      PS4             2015   \n",
       "...                                          ...      ...              ...   \n",
       "16703                           Strawberry Nauts      PSV             2016   \n",
       "16707                           Aiyoku no Eustia      PSV             2014   \n",
       "16710              Samurai Warriors: Sanada Maru      PS3             2016   \n",
       "16712                    Haitaka no Psychedelica      PSV             2016   \n",
       "16714                        Winning Post 8 2016      PSV             2016   \n",
       "\n",
       "              genre  na_sales  eu_sales  jp_sales  other_sales  critic_score  \\\n",
       "31          Shooter      6.03      5.86      0.36         2.38           NaN   \n",
       "42           Action      3.96      6.31      0.38         1.97          97.0   \n",
       "47     Role-Playing      4.35      3.49      3.10         0.74           NaN   \n",
       "77           Sports      1.12      6.12      0.06         1.28          82.0   \n",
       "87          Shooter      2.99      3.49      0.22         1.28           NaN   \n",
       "...             ...       ...       ...       ...          ...           ...   \n",
       "16703     Adventure      0.00      0.00      0.01         0.00           NaN   \n",
       "16707          Misc      0.00      0.00      0.01         0.00           NaN   \n",
       "16710        Action      0.00      0.00      0.01         0.00           NaN   \n",
       "16712     Adventure      0.00      0.00      0.01         0.00           NaN   \n",
       "16714    Simulation      0.00      0.00      0.01         0.00           NaN   \n",
       "\n",
       "       user_score rating  total_sales  \n",
       "31            NaN     NR        14.63  \n",
       "42            8.3      M        12.62  \n",
       "47            NaN     NR        11.68  \n",
       "77            4.3      E         8.58  \n",
       "87            NaN     NR         7.98  \n",
       "...           ...    ...          ...  \n",
       "16703         NaN     NR         0.01  \n",
       "16707         NaN     NR         0.01  \n",
       "16710         NaN     NR         0.01  \n",
       "16712         NaN     NR         0.01  \n",
       "16714         NaN     NR         0.01  \n",
       "\n",
       "[1689 rows x 12 columns]"
      ]
     },
     "metadata": {},
     "output_type": "display_data"
    }
   ],
   "source": [
    "# Your code here to filter the dataset to relevant years\n",
    "# Example:\n",
    "# relevant_years = [XXXX, XXXX, XXXX] # Replace with your chosen years\n",
    "# df_relevant = df[df['year_of_release'].isin(relevant_years)]\n",
    "\n",
    "# Justify your choice with data\n",
    "\n",
    "\n",
    "relevant_years = [2014, 2015, 2016]\n",
    "games_relevant = games[games['year_of_release'].isin(relevant_years)]\n",
    "display(games_relevant)"
   ]
  },
  {
   "cell_type": "markdown",
   "metadata": {
    "id": "8g_CURLWGzYy"
   },
   "source": [
    "### Document Your Decision:\n",
    "- What years did you select and why?\n",
    "- How does this period reflect current market conditions?\n",
    "- What factors influenced your decision?"
   ]
  },
  {
   "cell_type": "markdown",
   "metadata": {},
   "source": [
    "I selected the years leading up to 2017 to depict market decisions since they are going to show me the patterns leading up to that year in sales. This reflects current market conditions by showing us recent years in sales and relevant platforms to this time period. When I dove into the data, I saw that sales records stopped in 2016. That's going to provide us the closest current sales climate for platforms and sales predictions that year. It helps project what sales could be coming for the year 2017."
   ]
  },
  {
   "cell_type": "markdown",
   "metadata": {},
   "source": [
    "<div class=\"alert alert-success\">\n",
    "  <b>Reviewer’s comment – Iteration 2:</b><br>\n",
    "  Great job here.\n",
    "  <ul>\n",
    "    <li>You correctly filtered the <b>main dataset</b> using the selected relevant years and created a new <code>games_relevant</code> DataFrame—this is exactly what was needed to keep the analysis focused and accurate.</li>\n",
    "    <li>Well done on applying this change consistently across your subsequent analysis steps.</li>\n",
    "  </ul>\n",
    "</div>\n"
   ]
  },
  {
   "cell_type": "markdown",
   "metadata": {},
   "source": [
    "<div class=\"alert alert-danger\">\n",
    "  <b>Reviewer’s comment – Iteration 1:</b><br>\n",
    "  Good work identifying the relevant years—one important fix is needed before moving forward:\n",
    "  <ul>\n",
    "    <li>The relevant years need to be applied to the <b>main dataset</b> (the original <code>games</code> DataFrame), not just to the pivot table. This ensures that all future analysis—platform trends, genre exploration, and hypothesis testing—uses only the appropriate time frame.</li>\n",
    "    <li>Please create a filtered DataFrame like this to correct it:\n",
    "      <pre><code>relevant_years = [2014, 2015, 2016]\n",
    "games_relevant = games[games['year_of_release'].isin(relevant_years)]\n",
    "games_relevant</code></pre>\n",
    "    </li>\n",
    "  </ul>\n",
    "  This adjustment will help make sure your analysis stays focused and accurate. You're doing great—keep going!\n",
    "</div>\n"
   ]
  },
  {
   "cell_type": "markdown",
   "metadata": {},
   "source": [
    "<div class=\"alert alert-success\">\n",
    "  <b>Reviewer’s comment – Iteration 2:</b><br>\n",
    "  Great job here.\n",
    "  <ul>\n",
    "    <li>You applied the filtering consistently by using the <code>games_relevant</code> DataFrame for all subsequent analysis steps, including platform trends, genres, user profiles, and hypothesis testing.</li>\n",
    "    <li>This keeps your analysis focused, accurate, and fully aligned with the project’s forecasting goal—well done!</li>\n",
    "  </ul>\n",
    "</div>\n"
   ]
  },
  {
   "cell_type": "markdown",
   "metadata": {},
   "source": [
    "<div class=\"alert alert-danger\">\n",
    "  <b>Reviewer’s comment – Iteration 1:</b><br>\n",
    "  Important fix before moving forward:\n",
    "  <ul>\n",
    "    <li>All of your next analysis steps—such as platform comparisons, genre distributions, user profiles, and hypothesis testing—should be done using the filtered <code>games_relevant</code> DataFrame instead of the original <code>games</code> DataFrame.</li>\n",
    "    <li>This ensures that your results are consistent and focused on the correct time period for the project’s goals.</li>\n",
    "  </ul>\n",
    "  Applying this change will help keep your analysis accurate and aligned with the forecasting task. Great progress so far!\n",
    "</div>\n"
   ]
  },
  {
   "cell_type": "markdown",
   "metadata": {
    "id": "tNgNPQdYFqka"
   },
   "source": [
    "## 3.4 Platform Performance Analysis\n",
    "\n",
    "Using your selected time period, let's analyze platform performance:"
   ]
  },
  {
   "cell_type": "code",
   "execution_count": 28,
   "metadata": {
    "id": "1bPiDIJ3FsAC"
   },
   "outputs": [
    {
     "name": "stdout",
     "output_type": "stream",
     "text": [
      "Platform sales trends (2014-2016):\n"
     ]
    },
    {
     "data": {
      "text/html": [
       "<div>\n",
       "<style scoped>\n",
       "    .dataframe tbody tr th:only-of-type {\n",
       "        vertical-align: middle;\n",
       "    }\n",
       "\n",
       "    .dataframe tbody tr th {\n",
       "        vertical-align: top;\n",
       "    }\n",
       "\n",
       "    .dataframe thead th {\n",
       "        text-align: right;\n",
       "    }\n",
       "</style>\n",
       "<table border=\"1\" class=\"dataframe\">\n",
       "  <thead>\n",
       "    <tr style=\"text-align: right;\">\n",
       "      <th></th>\n",
       "      <th>name</th>\n",
       "      <th>platform</th>\n",
       "      <th>year_of_release</th>\n",
       "      <th>genre</th>\n",
       "      <th>na_sales</th>\n",
       "      <th>eu_sales</th>\n",
       "      <th>jp_sales</th>\n",
       "      <th>other_sales</th>\n",
       "      <th>critic_score</th>\n",
       "      <th>user_score</th>\n",
       "      <th>rating</th>\n",
       "      <th>total_sales</th>\n",
       "    </tr>\n",
       "  </thead>\n",
       "  <tbody>\n",
       "    <tr>\n",
       "      <th>31</th>\n",
       "      <td>Call of Duty: Black Ops 3</td>\n",
       "      <td>PS4</td>\n",
       "      <td>2015</td>\n",
       "      <td>Shooter</td>\n",
       "      <td>6.03</td>\n",
       "      <td>5.86</td>\n",
       "      <td>0.36</td>\n",
       "      <td>2.38</td>\n",
       "      <td>NaN</td>\n",
       "      <td>NaN</td>\n",
       "      <td>NR</td>\n",
       "      <td>14.63</td>\n",
       "    </tr>\n",
       "    <tr>\n",
       "      <th>42</th>\n",
       "      <td>Grand Theft Auto V</td>\n",
       "      <td>PS4</td>\n",
       "      <td>2014</td>\n",
       "      <td>Action</td>\n",
       "      <td>3.96</td>\n",
       "      <td>6.31</td>\n",
       "      <td>0.38</td>\n",
       "      <td>1.97</td>\n",
       "      <td>97.0</td>\n",
       "      <td>8.3</td>\n",
       "      <td>M</td>\n",
       "      <td>12.62</td>\n",
       "    </tr>\n",
       "    <tr>\n",
       "      <th>47</th>\n",
       "      <td>Pokemon Omega Ruby/Pokemon Alpha Sapphire</td>\n",
       "      <td>3DS</td>\n",
       "      <td>2014</td>\n",
       "      <td>Role-Playing</td>\n",
       "      <td>4.35</td>\n",
       "      <td>3.49</td>\n",
       "      <td>3.10</td>\n",
       "      <td>0.74</td>\n",
       "      <td>NaN</td>\n",
       "      <td>NaN</td>\n",
       "      <td>NR</td>\n",
       "      <td>11.68</td>\n",
       "    </tr>\n",
       "    <tr>\n",
       "      <th>77</th>\n",
       "      <td>FIFA 16</td>\n",
       "      <td>PS4</td>\n",
       "      <td>2015</td>\n",
       "      <td>Sports</td>\n",
       "      <td>1.12</td>\n",
       "      <td>6.12</td>\n",
       "      <td>0.06</td>\n",
       "      <td>1.28</td>\n",
       "      <td>82.0</td>\n",
       "      <td>4.3</td>\n",
       "      <td>E</td>\n",
       "      <td>8.58</td>\n",
       "    </tr>\n",
       "    <tr>\n",
       "      <th>87</th>\n",
       "      <td>Star Wars Battlefront (2015)</td>\n",
       "      <td>PS4</td>\n",
       "      <td>2015</td>\n",
       "      <td>Shooter</td>\n",
       "      <td>2.99</td>\n",
       "      <td>3.49</td>\n",
       "      <td>0.22</td>\n",
       "      <td>1.28</td>\n",
       "      <td>NaN</td>\n",
       "      <td>NaN</td>\n",
       "      <td>NR</td>\n",
       "      <td>7.98</td>\n",
       "    </tr>\n",
       "    <tr>\n",
       "      <th>...</th>\n",
       "      <td>...</td>\n",
       "      <td>...</td>\n",
       "      <td>...</td>\n",
       "      <td>...</td>\n",
       "      <td>...</td>\n",
       "      <td>...</td>\n",
       "      <td>...</td>\n",
       "      <td>...</td>\n",
       "      <td>...</td>\n",
       "      <td>...</td>\n",
       "      <td>...</td>\n",
       "      <td>...</td>\n",
       "    </tr>\n",
       "    <tr>\n",
       "      <th>16703</th>\n",
       "      <td>Strawberry Nauts</td>\n",
       "      <td>PSV</td>\n",
       "      <td>2016</td>\n",
       "      <td>Adventure</td>\n",
       "      <td>0.00</td>\n",
       "      <td>0.00</td>\n",
       "      <td>0.01</td>\n",
       "      <td>0.00</td>\n",
       "      <td>NaN</td>\n",
       "      <td>NaN</td>\n",
       "      <td>NR</td>\n",
       "      <td>0.01</td>\n",
       "    </tr>\n",
       "    <tr>\n",
       "      <th>16707</th>\n",
       "      <td>Aiyoku no Eustia</td>\n",
       "      <td>PSV</td>\n",
       "      <td>2014</td>\n",
       "      <td>Misc</td>\n",
       "      <td>0.00</td>\n",
       "      <td>0.00</td>\n",
       "      <td>0.01</td>\n",
       "      <td>0.00</td>\n",
       "      <td>NaN</td>\n",
       "      <td>NaN</td>\n",
       "      <td>NR</td>\n",
       "      <td>0.01</td>\n",
       "    </tr>\n",
       "    <tr>\n",
       "      <th>16710</th>\n",
       "      <td>Samurai Warriors: Sanada Maru</td>\n",
       "      <td>PS3</td>\n",
       "      <td>2016</td>\n",
       "      <td>Action</td>\n",
       "      <td>0.00</td>\n",
       "      <td>0.00</td>\n",
       "      <td>0.01</td>\n",
       "      <td>0.00</td>\n",
       "      <td>NaN</td>\n",
       "      <td>NaN</td>\n",
       "      <td>NR</td>\n",
       "      <td>0.01</td>\n",
       "    </tr>\n",
       "    <tr>\n",
       "      <th>16712</th>\n",
       "      <td>Haitaka no Psychedelica</td>\n",
       "      <td>PSV</td>\n",
       "      <td>2016</td>\n",
       "      <td>Adventure</td>\n",
       "      <td>0.00</td>\n",
       "      <td>0.00</td>\n",
       "      <td>0.01</td>\n",
       "      <td>0.00</td>\n",
       "      <td>NaN</td>\n",
       "      <td>NaN</td>\n",
       "      <td>NR</td>\n",
       "      <td>0.01</td>\n",
       "    </tr>\n",
       "    <tr>\n",
       "      <th>16714</th>\n",
       "      <td>Winning Post 8 2016</td>\n",
       "      <td>PSV</td>\n",
       "      <td>2016</td>\n",
       "      <td>Simulation</td>\n",
       "      <td>0.00</td>\n",
       "      <td>0.00</td>\n",
       "      <td>0.01</td>\n",
       "      <td>0.00</td>\n",
       "      <td>NaN</td>\n",
       "      <td>NaN</td>\n",
       "      <td>NR</td>\n",
       "      <td>0.01</td>\n",
       "    </tr>\n",
       "  </tbody>\n",
       "</table>\n",
       "<p>1689 rows × 12 columns</p>\n",
       "</div>"
      ],
      "text/plain": [
       "                                            name platform  year_of_release  \\\n",
       "31                     Call of Duty: Black Ops 3      PS4             2015   \n",
       "42                            Grand Theft Auto V      PS4             2014   \n",
       "47     Pokemon Omega Ruby/Pokemon Alpha Sapphire      3DS             2014   \n",
       "77                                       FIFA 16      PS4             2015   \n",
       "87                  Star Wars Battlefront (2015)      PS4             2015   \n",
       "...                                          ...      ...              ...   \n",
       "16703                           Strawberry Nauts      PSV             2016   \n",
       "16707                           Aiyoku no Eustia      PSV             2014   \n",
       "16710              Samurai Warriors: Sanada Maru      PS3             2016   \n",
       "16712                    Haitaka no Psychedelica      PSV             2016   \n",
       "16714                        Winning Post 8 2016      PSV             2016   \n",
       "\n",
       "              genre  na_sales  eu_sales  jp_sales  other_sales  critic_score  \\\n",
       "31          Shooter      6.03      5.86      0.36         2.38           NaN   \n",
       "42           Action      3.96      6.31      0.38         1.97          97.0   \n",
       "47     Role-Playing      4.35      3.49      3.10         0.74           NaN   \n",
       "77           Sports      1.12      6.12      0.06         1.28          82.0   \n",
       "87          Shooter      2.99      3.49      0.22         1.28           NaN   \n",
       "...             ...       ...       ...       ...          ...           ...   \n",
       "16703     Adventure      0.00      0.00      0.01         0.00           NaN   \n",
       "16707          Misc      0.00      0.00      0.01         0.00           NaN   \n",
       "16710        Action      0.00      0.00      0.01         0.00           NaN   \n",
       "16712     Adventure      0.00      0.00      0.01         0.00           NaN   \n",
       "16714    Simulation      0.00      0.00      0.01         0.00           NaN   \n",
       "\n",
       "       user_score rating  total_sales  \n",
       "31            NaN     NR        14.63  \n",
       "42            8.3      M        12.62  \n",
       "47            NaN     NR        11.68  \n",
       "77            4.3      E         8.58  \n",
       "87            NaN     NR         7.98  \n",
       "...           ...    ...          ...  \n",
       "16703         NaN     NR         0.01  \n",
       "16707         NaN     NR         0.01  \n",
       "16710         NaN     NR         0.01  \n",
       "16712         NaN     NR         0.01  \n",
       "16714         NaN     NR         0.01  \n",
       "\n",
       "[1689 rows x 12 columns]"
      ]
     },
     "metadata": {},
     "output_type": "display_data"
    }
   ],
   "source": [
    "# Analyze platform sales trends\n",
    "print(\"Platform sales trends (2014-2016):\")\n",
    "display(games_relevant)\n"
   ]
  },
  {
   "cell_type": "code",
   "execution_count": 29,
   "metadata": {
    "id": "49INtJV4Fv-i"
   },
   "outputs": [
    {
     "name": "stdout",
     "output_type": "stream",
     "text": [
      "(1689,)\n",
      "31    14.63\n",
      "42    12.62\n",
      "47    11.68\n",
      "77     8.58\n",
      "87     7.98\n",
      "Name: total_sales, dtype: float64\n"
     ]
    }
   ],
   "source": [
    "# Sort platforms by total sales\n",
    "print(games_relevant['total_sales'].shape)\n",
    "print(games_relevant['total_sales'].head())"
   ]
  },
  {
   "cell_type": "code",
   "execution_count": 30,
   "metadata": {
    "id": "nB8xsmAuG38a"
   },
   "outputs": [
    {
     "data": {
      "image/png": "[encoded data removed]",
      "text/plain": [
       "<Figure size 640x480 with 1 Axes>"
      ]
     },
     "metadata": {},
     "output_type": "display_data"
    }
   ],
   "source": [
    "# Visualize top platforms\n",
    "# Calculate year-over-year growth for each platform\n",
    "# Your code here to calculate and visualize platform growth rates\n",
    "top_plats= games_relevant.groupby(['platform','year_of_release'])['total_sales'].sum()\n",
    "\n",
    "plats_sum= games_relevant.groupby(['platform'])['total_sales'].sum()\n",
    "\n",
    "plats_sum.plot(kind= 'bar', title= 'Platform Sales from 2014-2016', xlabel= 'Platform', ylabel= 'Total Sales')\n",
    "\n",
    "plt.show()\n",
    "\n"
   ]
  },
  {
   "cell_type": "code",
   "execution_count": 31,
   "metadata": {},
   "outputs": [
    {
     "name": "stdout",
     "output_type": "stream",
     "text": [
      "platform\n",
      "3DS   -36.517367\n",
      "PC    -35.843373\n",
      "PS3   -64.782245\n",
      "PS4    18.900000\n",
      "PSP   -50.000000\n",
      "dtype: float64\n",
      "platform\n",
      "3DS   -45.500360\n",
      "PC    -38.380282\n",
      "PS3   -78.596908\n",
      "PS4   -41.757780\n",
      "PSP          NaN\n",
      "dtype: float64\n"
     ]
    }
   ],
   "source": [
    "\n",
    "top_plats2= top_plats.unstack(level='year_of_release')\n",
    "\n",
    "growth_2015 = ((top_plats2[2015] - top_plats2[2014]) / top_plats2[2014]) * 100\n",
    "growth_2016 = ((top_plats2[2016] - top_plats2[2015]) / top_plats2[2015]) * 100\n",
    "\n",
    "print(growth_2015.head())\n",
    "print(growth_2016.head())"
   ]
  },
  {
   "cell_type": "code",
   "execution_count": 32,
   "metadata": {},
   "outputs": [
    {
     "data": {
      "image/png": "[encoded data removed]",
      "text/plain": [
       "<Figure size 1200x600 with 1 Axes>"
      ]
     },
     "metadata": {},
     "output_type": "display_data"
    }
   ],
   "source": [
    "clean_growth_2015 = growth_2015.dropna()\n",
    "\n",
    "clean_growth_2015.plot(kind='bar', figsize=(12, 6), title='Platform Growth Rates 2014-2015')\n",
    "plt.xticks(rotation=45)  \n",
    "plt.ylabel('Growth Rate (%)')\n",
    "plt.axhline(y=0, color='black', linestyle='-', linewidth=0.5)\n",
    "plt.tight_layout() \n",
    "plt.show()\n"
   ]
  },
  {
   "cell_type": "code",
   "execution_count": 33,
   "metadata": {},
   "outputs": [
    {
     "data": {
      "image/png": "[encoded data removed]",
      "text/plain": [
       "<Figure size 1200x600 with 1 Axes>"
      ]
     },
     "metadata": {},
     "output_type": "display_data"
    }
   ],
   "source": [
    "clean_growth_2016 = growth_2016.dropna()\n",
    "\n",
    "clean_growth_2016.plot(kind='bar', figsize=(12, 6), title='Platform Growth Rates 2014-2015')\n",
    "plt.xticks(rotation=45)  \n",
    "plt.ylabel('Growth Rate (%)')\n",
    "plt.axhline(y=0, color='black', linestyle='-', linewidth=0.5) \n",
    "plt.tight_layout() \n",
    "plt.show()\n"
   ]
  },
  {
   "cell_type": "markdown",
   "metadata": {},
   "source": [
    "During my analysis here, PS4 was the leader in sales in 2015. It looks as though the sales dropped in 2016. To begin my analysis, I took a look at my platform sales trends for the years I selected to see if I could find any patterns in the data. I saw a lot of missing data, so it wouldn't have been of any use to my analyzation. I went through and sorted them to show total sales per each platform and used .to_frame() to place it in a table format. I then took that dataset and created a new one of platforms I needed based on sales being greater than 0, filtered them, and plotted them on a bar chart to get an idea of which platform drew in the most in sales during my chosen time frame. I then made my calculations for year-over year growth in new datasets for 2015 and 2016 by taking the prior year, and subtracting the sales from the current year I was using for comparison. I cleaned up the data on both years and put them on a plot. While plotting this data, i noticed some peculiarities in the 0 laying in my plot but not at a base or top of the y-axis and made changes in the code using a line or the top of the graph to display the negative impact in sales while also providing a clean visual approach. With PS4 as the leader of my chart, even it's sales started to decline before 2017. And PSV growing almost obsolete before this time. "
   ]
  },
  {
   "cell_type": "markdown",
   "metadata": {
    "id": "gss9CaRLG8F6"
   },
   "source": [
    "## 3.5 Sales Distribution Analysis\n",
    "\n",
    "Let's examine the distribution of sales across platforms:"
   ]
  },
  {
   "cell_type": "code",
   "execution_count": 34,
   "metadata": {
    "id": "Tt86KnSmG9Ia"
   },
   "outputs": [
    {
     "data": {
      "text/plain": [
       "<Figure size 1200x800 with 0 Axes>"
      ]
     },
     "metadata": {},
     "output_type": "display_data"
    },
    {
     "data": {
      "image/png": "[encoded data removed]",
      "text/plain": [
       "<Figure size 1200x800 with 1 Axes>"
      ]
     },
     "metadata": {},
     "output_type": "display_data"
    }
   ],
   "source": [
    "# Create box plot of sales by platform\n",
    "top_platforms = games_relevant.groupby('platform')['total_sales'].sum().sort_values(ascending=False).head(10).index\n",
    "\n",
    "top_platform_games = games_relevant[games_relevant['platform'].isin(top_platforms)]\n",
    "\n",
    "plt.figure(figsize=(12, 8))\n",
    "top_platform_games.boxplot(column='total_sales', by='platform', figsize=(12, 8))\n",
    "plt.title('Total Sales Distribution - Top 10 Platforms')\n",
    "plt.xlabel('Platform')\n",
    "plt.ylabel('Total Sales (millions)')\n",
    "plt.xticks(rotation=45)\n",
    "plt.tight_layout()\n",
    "plt.show()"
   ]
  },
  {
   "cell_type": "code",
   "execution_count": 35,
   "metadata": {
    "id": "V34QXjQbG-Ti"
   },
   "outputs": [
    {
     "name": "stdout",
     "output_type": "stream",
     "text": [
      "Average sales by platform:\n",
      "platform\n",
      "PS4     0.766356\n",
      "XOne    0.615614\n",
      "WiiU    0.588767\n",
      "Wii     0.460909\n",
      "X360    0.434414\n",
      "3DS     0.408868\n",
      "PS3     0.311324\n",
      "PC      0.179139\n",
      "PSV     0.075932\n",
      "PSP     0.027692\n",
      "Name: total_sales, dtype: float64\n"
     ]
    }
   ],
   "source": [
    "# Calculate detailed statistics for each platform\n",
    "avg_sales_by_platform = games_relevant.groupby('platform')['total_sales'].mean().sort_values(ascending=False)\n",
    "print(\"Average sales by platform:\")\n",
    "print(avg_sales_by_platform)\n"
   ]
  },
  {
   "cell_type": "markdown",
   "metadata": {
    "id": "kpr3vFcpG_1q"
   },
   "source": [
    "## 3.6 Review Score Impact Analysis\n",
    "\n",
    "Select a popular platform and analyze how reviews affect sales:"
   ]
  },
  {
   "cell_type": "code",
   "execution_count": 36,
   "metadata": {
    "id": "ly_DyKUGHBAi"
   },
   "outputs": [
    {
     "name": "stdout",
     "output_type": "stream",
     "text": [
      "Number of PS4 games: 376\n",
      "\n",
      "Columns in dataset:\n",
      "['name', 'platform', 'year_of_release', 'genre', 'na_sales', 'eu_sales', 'jp_sales', 'other_sales', 'critic_score', 'user_score', 'rating', 'total_sales']\n"
     ]
    }
   ],
   "source": [
    "# Choose a popular platform based on your previous analysis\n",
    "ps4_games = games_relevant[games_relevant['platform'] == 'PS4']\n",
    "print(f\"Number of PS4 games: {len(ps4_games)}\")\n",
    "print(\"\\nColumns in dataset:\")\n",
    "print(ps4_games.columns.tolist())"
   ]
  },
  {
   "cell_type": "code",
   "execution_count": 37,
   "metadata": {
    "id": "HAqsDecvHCJ1"
   },
   "outputs": [
    {
     "data": {
      "image/png": "[encoded data removed]",
      "text/plain": [
       "<Figure size 1500x600 with 2 Axes>"
      ]
     },
     "metadata": {},
     "output_type": "display_data"
    }
   ],
   "source": [
    "# Create scatter plots for both critic and user scores\n",
    "ps4_clean = ps4_games[(ps4_games['critic_score'] > 0) & (ps4_games['user_score'] > 0)]\n",
    "\n",
    "critic_correlation = ps4_clean['critic_score'].corr(ps4_clean['total_sales'])\n",
    "user_correlation = ps4_clean['user_score'].corr(ps4_clean['total_sales'])\n",
    "\n",
    "fig, (ax1, ax2) = plt.subplots(1, 2, figsize=(15, 6))\n",
    "\n",
    "ax1.scatter(ps4_clean['critic_score'], ps4_clean['total_sales'], alpha=0.6)\n",
    "ax1.set_xlabel('Critic Score (0-100)')\n",
    "ax1.set_ylabel('Total Sales (millions)')\n",
    "ax1.set_title(f'Critic Score vs Sales\\nCorrelation: {critic_correlation:.3f}')\n",
    "\n",
    "ax2.scatter(ps4_clean['user_score'], ps4_clean['total_sales'], alpha=0.6)\n",
    "ax2.set_xlabel('User Score (0-10)')\n",
    "ax2.set_ylabel('Total Sales (millions)')\n",
    "ax2.set_title(f'User Score vs Sales\\nCorrelation: {user_correlation:.3f}')\n",
    "\n",
    "plt.tight_layout()\n",
    "plt.show()"
   ]
  },
  {
   "cell_type": "code",
   "execution_count": 38,
   "metadata": {
    "id": "V5SxzosMHHCL"
   },
   "outputs": [
    {
     "name": "stdout",
     "output_type": "stream",
     "text": [
      "Critic vs Sales: 0.402\n",
      "User vs Sales: -0.043\n",
      "Critic vs User: 0.546\n"
     ]
    }
   ],
   "source": [
    "# Critic Scores\n",
    "\n",
    "critic_correlation = ps4_clean['critic_score'].corr(ps4_clean['total_sales'])\n",
    "\n",
    "\n",
    "# User Scores\n",
    "user_correlation = ps4_clean['user_score'].corr(ps4_clean['total_sales'])\n",
    "\n",
    "\n",
    "# Calculate correlations\n",
    "critic_user_correlation = ps4_clean['critic_score'].corr(ps4_clean['user_score'])\n",
    "print(f\"Critic vs Sales: {critic_correlation:.3f}\")\n",
    "print(f\"User vs Sales: {user_correlation:.3f}\")\n",
    "print(f\"Critic vs User: {critic_user_correlation:.3f}\")"
   ]
  },
  {
   "cell_type": "markdown",
   "metadata": {},
   "source": [
    "The critics vs sales correlation (0.406) indicates a moderate positive correlation between \"professional\" critics and sales. This suggests that if the \"professional\" rating is higher, there is usually also higher sales. The user vs sales correlation (-0.024) is a very weak and negative correlation indicating no relationship between users themselves and sales. Meaning the purchasing decisions aren't driven by user opinions. For critics vs user correlation (0.551), it's a positive correlation between critics and users. This means there's some overlap on how critics and users perceive the games. Overall, this can be useful information for business, it touches on the importance of critic sales while also showing what impacts and shapes user opinions and purchasing behaviors."
   ]
  },
  {
   "cell_type": "markdown",
   "metadata": {
    "id": "hhLvhB8-HKk6"
   },
   "source": [
    "## 3.7 Cross-Platform Comparison\n",
    "\n",
    "Compare sales performance of games across different platforms:"
   ]
  },
  {
   "cell_type": "code",
   "execution_count": 39,
   "metadata": {
    "id": "nVdLwEw3HLwK"
   },
   "outputs": [
    {
     "name": "stdout",
     "output_type": "stream",
     "text": [
      "Number of multi-platform games: 368\n",
      "Total games in original dataset: 956\n",
      "name\n",
      "2014 FIFA World Cup Brazil                            2\n",
      "3rd Super Robot Wars Z Jigoku Hen                     2\n",
      "3rd Super Robot Wars Z: Tengoku-Hen                   2\n",
      "7 Days to Die                                         2\n",
      "Adventure Time: Finn & Jake Investigations            6\n",
      "Adventure Time: The Secret of the Nameless            2\n",
      "Adventure Time: The Secret of the Nameless Kingdom    2\n",
      "Aegis of Earth: Protonovus Assault                    3\n",
      "Agatha Christie's The ABC Murders                     2\n",
      "Alien: Isolation                                      5\n",
      "Name: platform, dtype: int64\n"
     ]
    }
   ],
   "source": [
    "# Find games released on multiple platforms\n",
    "platform_counts = games_relevant.groupby('name')['platform'].nunique()\n",
    "\n",
    "multi_platform_games = platform_counts[platform_counts > 1]\n",
    "\n",
    "multi_platform_game_titles = multi_platform_games.index.tolist()\n",
    "\n",
    "games_multi_platform = games_relevant[games_relevant['name'].isin(multi_platform_game_titles)]\n",
    "\n",
    "print(f\"Number of multi-platform games: {len(multi_platform_games)}\")\n",
    "print(f\"Total games in original dataset: {len(platform_counts)}\")\n",
    "print(multi_platform_games.head(10))"
   ]
  },
  {
   "cell_type": "code",
   "execution_count": 40,
   "metadata": {
    "id": "ME1egJbSHM-i"
   },
   "outputs": [
    {
     "name": "stdout",
     "output_type": "stream",
     "text": [
      "platform              \n",
      "3DS       critic_score    0.507201\n",
      "PC        critic_score    0.309739\n",
      "PS3       critic_score    0.461654\n",
      "PS4       critic_score    0.385446\n",
      "PSP       critic_score    0.000000\n",
      "PSV       critic_score    0.141325\n",
      "Wii       critic_score    0.000000\n",
      "WiiU      critic_score    0.362978\n",
      "X360      critic_score    0.525723\n",
      "XOne      critic_score    0.407996\n",
      "Name: total_sales, dtype: float64\n"
     ]
    }
   ],
   "source": [
    "# Compare sales across platforms for these games\n",
    "# Your code here to analyze and visualize cross-platform performance\n",
    "\n",
    "platform_correlations = games_multi_platform.groupby('platform')[['critic_score', 'user_score', 'total_sales']].corr()\n",
    "critic_sales_corr = platform_correlations.loc[(slice(None), 'critic_score'), 'total_sales']\n",
    "critic_sales_corr= critic_sales_corr.fillna(0)\n",
    "\n",
    "print(critic_sales_corr)"
   ]
  },
  {
   "cell_type": "markdown",
   "metadata": {},
   "source": [
    "So first, let's look at the correlation coefficient's range. It ranges from -1 to 1. The closer to 1, the more positive the relationship is, the closer to -1 the more negative the relationship is. For Nan values, we used 0 to fill so that the numbers were all in a presentable order best suited for data visualizations. Starting with negative correlations and 0.0 value correlations, we see 13 of these values. These are either platforms no longer producing games or cross platform games, or the are steadily declining. This means other variables are going up while these are dropping or there is no linear correlation to either going up or down. This is nearly half of our data to non produce cross platform, or phasing out due to popularity in other platforms increasing in cross platform gaming. Looking at positive trends, there are some similarities between play station and xbox. The correlations are similar and moving upward towards 1 (with xbox one being slightly higher). These are obviously still pretty weak trends, but positive trends nonetheless. Whether phasing in new platforms, or still having popularity in most recently sold platforms, there are more consistent trends in having cross platform games during their debut. When it comes to selling and profiting off of these platforms, we obviously want to aim at the platforms correlating in a positive direction. You'd catch more of an audience playing a cross platform game with compatible consoles so that players universally can play with other players that may not own the same platform (system)."
   ]
  },
  {
   "cell_type": "markdown",
   "metadata": {
    "id": "7pIIgylYHOTa"
   },
   "source": [
    "## 3.8 Genre Analysis\n",
    "\n",
    "Finally, let's examine the distribution of games by genre:"
   ]
  },
  {
   "cell_type": "code",
   "execution_count": 41,
   "metadata": {
    "id": "EMqroBuLHPZN"
   },
   "outputs": [
    {
     "name": "stdout",
     "output_type": "stream",
     "text": [
      "genre\n",
      "Action          199.36\n",
      "Adventure        17.55\n",
      "Fighting         28.22\n",
      "Misc             37.55\n",
      "Platform         18.09\n",
      "Puzzle            2.21\n",
      "Racing           27.52\n",
      "Role-Playing    101.44\n",
      "Shooter         170.94\n",
      "Simulation       13.13\n",
      "Sports          109.48\n",
      "Strategy          3.96\n",
      "Name: total_sales, dtype: float64\n",
      "genre\n",
      "Action          619\n",
      "Adventure       185\n",
      "Fighting         60\n",
      "Misc            113\n",
      "Platform         38\n",
      "Puzzle           14\n",
      "Racing           69\n",
      "Role-Playing    221\n",
      "Shooter         128\n",
      "Simulation       44\n",
      "Sports          161\n",
      "Strategy         37\n",
      "dtype: int64\n",
      "genre\n",
      "Action          0.322068\n",
      "Adventure       0.094865\n",
      "Fighting        0.470333\n",
      "Misc            0.332301\n",
      "Platform        0.476053\n",
      "Puzzle          0.157857\n",
      "Racing          0.398841\n",
      "Role-Playing    0.459005\n",
      "Shooter         1.335469\n",
      "Simulation      0.298409\n",
      "Sports          0.680000\n",
      "Strategy        0.107027\n",
      "Name: total_sales, dtype: float64\n"
     ]
    }
   ],
   "source": [
    "# Analyze genre performance\n",
    "genre_df= games_relevant.groupby('genre')['total_sales'].sum()\n",
    "\n",
    "genre_counts = games_relevant.groupby('genre').size()\n",
    "\n",
    "genre_avg = games_relevant.groupby('genre')['total_sales'].mean()\n",
    "\n",
    "print(genre_df)\n",
    "print(genre_counts)\n",
    "print(genre_avg)"
   ]
  },
  {
   "cell_type": "code",
   "execution_count": 42,
   "metadata": {
    "id": "1lOBrjpDHQbq"
   },
   "outputs": [
    {
     "name": "stdout",
     "output_type": "stream",
     "text": [
      "genre\n",
      "Action          199.36\n",
      "Shooter         170.94\n",
      "Sports          109.48\n",
      "Role-Playing    101.44\n",
      "Misc             37.55\n",
      "Fighting         28.22\n",
      "Racing           27.52\n",
      "Platform         18.09\n",
      "Adventure        17.55\n",
      "Simulation       13.13\n",
      "Strategy          3.96\n",
      "Puzzle            2.21\n",
      "Name: total_sales, dtype: float64\n"
     ]
    }
   ],
   "source": [
    "# Sort genres by total sales\n",
    "genre_sorted= genre_df.sort_values(ascending=False)\n",
    "print(genre_sorted)"
   ]
  },
  {
   "cell_type": "code",
   "execution_count": 43,
   "metadata": {
    "id": "im6TIeOoHRbz"
   },
   "outputs": [
    {
     "data": {
      "image/png": "[encoded data removed]",
      "text/plain": [
       "<Figure size 1200x600 with 1 Axes>"
      ]
     },
     "metadata": {},
     "output_type": "display_data"
    }
   ],
   "source": [
    "# Visualize genre distribution\n",
    "plt.figure(figsize=(12, 6))\n",
    "plt.bar(genre_df.index, genre_df.values)\n",
    "plt.xlabel('Game Genre')\n",
    "plt.ylabel('Total Sales')\n",
    "plt.title('Sales by Game Genre')\n",
    "plt.xticks(rotation=45)\n",
    "plt.tight_layout()\n",
    "plt.show()\n"
   ]
  },
  {
   "cell_type": "code",
   "execution_count": 44,
   "metadata": {
    "id": "B_f_MP3THSX7"
   },
   "outputs": [
    {
     "name": "stdout",
     "output_type": "stream",
     "text": [
      "genre\n",
      "Action          27.330180\n",
      "Shooter         23.434094\n",
      "Sports          15.008568\n",
      "Role-Playing    13.906368\n",
      "Misc             5.147714\n",
      "Fighting         3.868668\n",
      "Racing           3.772705\n",
      "Platform         2.479951\n",
      "Adventure        2.405922\n",
      "Simulation       1.799986\n",
      "Strategy         0.542875\n",
      "Puzzle           0.302968\n",
      "Name: total_sales, dtype: float64\n"
     ]
    }
   ],
   "source": [
    "# Calculate market share for each genre\n",
    "total_sales= genre_df.sum()\n",
    "\n",
    "market_share= (genre_df / total_sales) * 100\n",
    "market_share_sorted= market_share.sort_values(ascending= False)\n",
    "print(market_share_sorted)"
   ]
  },
  {
   "cell_type": "markdown",
   "metadata": {
    "id": "1tSmB_lEHTrj"
   },
   "source": [
    "### Key Questions for Genre Analysis:\n",
    "- Which genres consistently perform well?\n",
    "- Are there any genres showing recent growth or decline?\n",
    "- How does the average performance vary across genres?"
   ]
  },
  {
   "cell_type": "markdown",
   "metadata": {},
   "source": [
    "Based on my genre analysis, Action (19.5), Sports (14.9), Shooter (11.8), and Role-Playing (10.6) are top of the leaderboard for sales based on genre. Giving them a higher performance and preference among users. The Role-Playing genre is on the rise, outside of that, the least profitable genres seem pretty consistent in market sales. Puzzle, Adventure, and Strategy may not be as busy for those who prefer high energy games, targeting a more taste-acquired audience. The high performance genres have significantly higher averages than the lower performance genres, over double/ triple the amount. Even with games in the higher performance genres, performance depends on platform, game, and target audiences and even with our lower performing genres, niche games are still profitable, just not as common. "
   ]
  },
  {
   "cell_type": "markdown",
   "metadata": {
    "id": "ktkaib-aHbPy"
   },
   "source": [
    "# Step 4: Regional Market Analysis and User Profiles\n",
    "\n",
    "In this section, we will analyze the gaming market characteristics across three major regions: North America (NA), Europe (EU), and Japan (JP). Our analysis will focus on platform preferences, genre popularity, and the impact of ESRB ratings in each region.\n",
    "\n",
    "## 4.1 Regional Platform Analysis\n",
    "\n",
    "Let's begin by examining platform performance across different regions:"
   ]
  },
  {
   "cell_type": "code",
   "execution_count": 45,
   "metadata": {
    "id": "MTA3QH6OHxMR"
   },
   "outputs": [],
   "source": [
    "# Function to analyze platform performance by region\n",
    "def analyze_platform_performance(games, top_n=5):\n",
    "    regions = ['na_sales', 'eu_sales', 'jp_sales']\n",
    "\n",
    "    platform_performance = games_relevant.groupby('platform')[regions].sum()\n",
    "\n",
    "    total_sales = platform_performance.sum()\n",
    "    market_share = (platform_performance.div(total_sales, axis=0)) * 100\n",
    "    combined_performance = platform_performance.copy()\n",
    "\n",
    "    combined_performance['na_market_share'] = market_share['na_sales']\n",
    "    combined_performance['eu_market_share'] = market_share['eu_sales']\n",
    "    combined_performance['jp_market_share'] = market_share['jp_sales']\n",
    "\n",
    "    results = {}\n",
    "    for region in regions:\n",
    "        sorted_platforms = platform_performance[region].sort_values(ascending=False)\n",
    "        results[region] = sorted_platforms.head(top_n)\n",
    "        \n",
    "    return results"
   ]
  },
  {
   "cell_type": "code",
   "execution_count": 46,
   "metadata": {
    "id": "4kfm3Cd6HzAs"
   },
   "outputs": [
    {
     "name": "stdout",
     "output_type": "stream",
     "text": [
      "Top platforms in North America:\n",
      "platform\n",
      "PS4     98.61\n",
      "XOne    81.27\n",
      "X360    28.30\n",
      "3DS     22.64\n",
      "PS3     22.05\n",
      "Name: na_sales, dtype: float64\n",
      "Top platforms in Europe:\n",
      "platform\n",
      "PS4     130.04\n",
      "XOne     46.25\n",
      "PS3      25.54\n",
      "PC       17.97\n",
      "3DS      16.12\n",
      "Name: eu_sales, dtype: float64\n",
      "Top platforms in Japan:\n",
      "platform\n",
      "3DS     44.24\n",
      "PS4     15.02\n",
      "PSV     14.54\n",
      "PS3     11.22\n",
      "WiiU     7.31\n",
      "Name: jp_sales, dtype: float64\n"
     ]
    }
   ],
   "source": [
    "# Analyze each region\n",
    "results = analyze_platform_performance(games, top_n=5)\n",
    "\n",
    "na_top_platforms = results['na_sales']\n",
    "print(\"Top platforms in North America:\")\n",
    "print(na_top_platforms)\n",
    "\n",
    "eu_top_platforms = results['eu_sales']\n",
    "print(\"Top platforms in Europe:\")\n",
    "print(eu_top_platforms)\n",
    "\n",
    "jp_top_platforms = results['jp_sales']\n",
    "print(\"Top platforms in Japan:\")\n",
    "print(jp_top_platforms)"
   ]
  },
  {
   "cell_type": "markdown",
   "metadata": {
    "id": "EA8GXFT8H1Lz"
   },
   "source": [
    "### Cross-Regional Platform Comparison\n",
    "\n",
    "Let's create a comparative analysis of platform performance across regions:"
   ]
  },
  {
   "cell_type": "code",
   "execution_count": 47,
   "metadata": {
    "id": "1pA08dxLH4ED"
   },
   "outputs": [
    {
     "name": "stdout",
     "output_type": "stream",
     "text": [
      "XOne:\n",
      "  NA: 81.3M (32.1%)\n",
      "  EU: 46.3M (19.6%)\n",
      "  JP: 0.0M (0.0%)\n",
      "PS4:\n",
      "  NA: 98.6M (39.0%)\n",
      "  EU: 130.0M (55.1%)\n",
      "  JP: 15.0M (16.3%)\n",
      "PC:\n",
      "  NA: 0.0M (0.0%)\n",
      "  EU: 18.0M (7.6%)\n",
      "  JP: 0.0M (0.0%)\n",
      "3DS:\n",
      "  NA: 22.6M (9.0%)\n",
      "  EU: 16.1M (6.8%)\n",
      "  JP: 44.2M (47.9%)\n",
      "PS3:\n",
      "  NA: 22.1M (8.7%)\n",
      "  EU: 25.5M (10.8%)\n",
      "  JP: 11.2M (12.2%)\n",
      "X360:\n",
      "  NA: 28.3M (11.2%)\n",
      "  EU: 0.0M (0.0%)\n",
      "  JP: 0.0M (0.0%)\n",
      "WiiU:\n",
      "  NA: 0.0M (0.0%)\n",
      "  EU: 0.0M (0.0%)\n",
      "  JP: 7.3M (7.9%)\n",
      "PSV:\n",
      "  NA: 0.0M (0.0%)\n",
      "  EU: 0.0M (0.0%)\n",
      "  JP: 14.5M (15.7%)\n"
     ]
    }
   ],
   "source": [
    "# Create a comparative platform analysis\n",
    "na_top = games_relevant.groupby('platform')['na_sales'].sum().sort_values(ascending=False).head(5)\n",
    "eu_top = games_relevant.groupby('platform')['eu_sales'].sum().sort_values(ascending=False).head(5)\n",
    "jp_top = games_relevant.groupby('platform')['jp_sales'].sum().sort_values(ascending=False).head(5)\n",
    "\n",
    "def compare_platform_performance(na_top, eu_top, jp_top):\n",
    "    \n",
    "    all_platforms = set(na_top.index) | set(eu_top.index) | set(jp_top.index)\n",
    "    \n",
    "    comparison = {}\n",
    "    for platform in all_platforms:\n",
    "        comparison[platform] = {\n",
    "            'na_sales': na_top.get(platform, 0),\n",
    "            'eu_sales': eu_top.get(platform, 0), \n",
    "            'jp_sales': jp_top.get(platform, 0)\n",
    "        }\n",
    "\n",
    "    return comparison\n",
    "\n",
    "\n",
    "comparison = compare_platform_performance(na_top, eu_top, jp_top)\n",
    "\n",
    "na_total = na_top.sum()\n",
    "eu_total = eu_top.sum()\n",
    "jp_total = jp_top.sum()\n",
    "\n",
    "for platform, sales in comparison.items():\n",
    "    if any(sales.values()): \n",
    "        print(f\"{platform}:\")\n",
    "        print(f\"  NA: {sales['na_sales']:.1f}M ({sales['na_sales']/na_total*100:.1f}%)\")\n",
    "        print(f\"  EU: {sales['eu_sales']:.1f}M ({sales['eu_sales']/eu_total*100:.1f}%)\")\n",
    "        print(f\"  JP: {sales['jp_sales']:.1f}M ({sales['jp_sales']/jp_total*100:.1f}%)\")\n"
   ]
  },
  {
   "cell_type": "code",
   "execution_count": 48,
   "metadata": {
    "id": "8tz6_xe8H5Hj"
   },
   "outputs": [
    {
     "data": {
      "image/png": "[encoded data removed]",
      "text/plain": [
       "<Figure size 1200x600 with 1 Axes>"
      ]
     },
     "metadata": {},
     "output_type": "display_data"
    }
   ],
   "source": [
    "# Visualize cross-regional comparison for top platforms\n",
    "\n",
    "platforms = list(comparison.keys())\n",
    "na_values = [comparison[platform]['na_sales'] for platform in platforms]\n",
    "eu_values = [comparison[platform]['eu_sales'] for platform in platforms]\n",
    "jp_values = [comparison[platform]['jp_sales'] for platform in platforms]\n",
    "\n",
    "x = np.arange(len(platforms))\n",
    "width = 0.25\n",
    "\n",
    "plt.figure(figsize=(12, 6))\n",
    "plt.bar(x - width, na_values, width, label='North America', alpha=0.8)\n",
    "plt.bar(x, eu_values, width, label='Europe', alpha=0.8)\n",
    "plt.bar(x + width, jp_values, width, label='Japan', alpha=0.8)\n",
    "\n",
    "plt.xlabel('Platform')\n",
    "plt.ylabel('Sales (Millions)')\n",
    "plt.title('Top Platform Sales by Region')\n",
    "plt.xticks(x, platforms)\n",
    "plt.legend()\n",
    "plt.tight_layout()\n",
    "plt.show()"
   ]
  },
  {
   "cell_type": "markdown",
   "metadata": {},
   "source": [
    "During my cross platform comparison, i started by deducing to my top 5 platforms across each region. I plotted all platforms with sales by region to display how each platform did. Looking at the plot, I discovered that the only platform with profit from every region was PS2. Every other platform only had sales in two of the regions. Xbox360 had the highest sales on the plot in North America but none in Japan. The SNES platform only had sales in Japan, DS didn't make sales in Europe, and PS3 and Wii made no sales in Japan. "
   ]
  },
  {
   "cell_type": "markdown",
   "metadata": {
    "id": "7LUOIUpAH6ac"
   },
   "source": [
    "## 4.2 Regional Genre Analysis\n",
    "\n",
    "Now let's examine genre preferences across regions:"
   ]
  },
  {
   "cell_type": "code",
   "execution_count": 49,
   "metadata": {
    "id": "cTQ9P-eLH7rD"
   },
   "outputs": [],
   "source": [
    "# Function to analyze genre performance by region\n",
    "na_genre_sales= games_relevant.groupby('genre')['na_sales'].sum().sort_values(ascending= False)\n",
    "eu_genre_sales= games_relevant.groupby('genre')['eu_sales'].sum().sort_values(ascending= False)\n",
    "jp_genre_sales= games_relevant.groupby('genre')['jp_sales'].sum().sort_values(ascending= False)\n",
    "\n",
    "top_5_na= na_genre_sales.head(5)\n",
    "top_5_eu= eu_genre_sales.head(5)\n",
    "top_5_jp= jp_genre_sales.head(5)\n",
    "\n",
    "def compare_genre_performance(top_5_na, top_5_eu, top_5_jp):\n",
    "    all_genres = set(top_5_na.index) | set(top_5_eu.index) | set(top_5_jp.index)\n",
    "    genre_sales_by_region = {}\n",
    "    \n",
    "    for genre in all_genres:\n",
    "        na_sales = top_5_na.get(genre, 0)  \n",
    "        eu_sales = top_5_eu.get(genre, 0)\n",
    "        jp_sales = top_5_jp.get(genre, 0)\n",
    "        \n",
    "        genre_sales_by_region[genre] = {\n",
    "            'NA': na_sales,\n",
    "            'EU': eu_sales,\n",
    "            'JP': jp_sales\n",
    "        }\n",
    "    \n",
    "    return genre_sales_by_region\n"
   ]
  },
  {
   "cell_type": "markdown",
   "metadata": {
    "id": "5HxLhvdWH-QD"
   },
   "source": [
    "### Cross-Regional Genre Comparison\n",
    "\n",
    "Let's compare genre preferences across regions:"
   ]
  },
  {
   "cell_type": "code",
   "execution_count": 50,
   "metadata": {
    "id": "GnkNJ3E2H_3j"
   },
   "outputs": [
    {
     "name": "stdout",
     "output_type": "stream",
     "text": [
      "Genre           NA Sales     EU Sales     JP Sales    \n",
      "-------------------------------------------------------\n",
      "Sports          46.13        45.73        0.00        \n",
      "Misc            15.05        0.00         5.61        \n",
      "Fighting        0.00         0.00         6.37        \n",
      "Role-Playing    33.47        28.17        31.16       \n",
      "Racing          0.00         14.13        0.00        \n",
      "Shooter         79.02        65.52        4.87        \n",
      "Action          72.53        74.68        29.58       \n"
     ]
    }
   ],
   "source": [
    "# Create a comparative genre analysis\n",
    "result = compare_genre_performance(top_5_na, top_5_eu, top_5_jp)\n",
    "\n",
    "print(f\"{'Genre':<15} {'NA Sales':<12} {'EU Sales':<12} {'JP Sales':<12}\")\n",
    "print(\"-\" * 55)\n",
    "\n",
    "for genre, sales_data in result.items():\n",
    "    print(f\"{genre:<15} {sales_data['NA']:<12.2f} {sales_data['EU']:<12.2f} {sales_data['JP']:<12.2f}\")"
   ]
  },
  {
   "cell_type": "markdown",
   "metadata": {},
   "source": [
    "The top 5 genres in each region are Misc, Shooter, Action, Role-Playing, Sports, Racing, and Platform. The highest sales in North America comes from Action games, for Europe, Action, and Japan, Role-Playing. This is interesting since North America has the highest sales between regions, and Japan with the lowest. North America and Europe show some similarities in genre preferences, particularly for Shooter and Action games, which perform well in both regions. Japan shows interest in different genres outside of Role-Playing that set it apart in Misc, Platform, and Sports. The Misc genre has a notable presence in NA and EU, but this category's nature makes it difficult to draw specific conclusions about genre preferences."
   ]
  },
  {
   "cell_type": "markdown",
   "metadata": {
    "id": "yj44c5ZWIBkr"
   },
   "source": [
    "## 4.3 ESRB Rating Impact Analysis\n",
    "\n",
    "Finally, let's examine how ESRB ratings affect sales in each region:"
   ]
  },
  {
   "cell_type": "code",
   "execution_count": 51,
   "metadata": {
    "id": "BQEvewWVICkr"
   },
   "outputs": [
    {
     "name": "stdout",
     "output_type": "stream",
     "text": [
      "Top 3-5 Ratings by Region (Sales and Percentage):\n",
      "        na_sales       NA %  eu_sales       EU %  jp_sales       JP %\n",
      "rating                                                               \n",
      "M          96.42  33.943533     93.44  34.520467      8.01   8.604576\n",
      "NR         64.72  22.783919     58.95  21.778484     56.90  61.123644\n",
      "E          50.74  17.862423     58.06  21.449682      8.94   9.603609\n",
      "T          38.95  13.711892     34.07  12.586818     14.78  15.877108\n",
      "E10+       33.23  11.698233     26.16   9.664549      4.46   4.791062\n"
     ]
    }
   ],
   "source": [
    "# Function to analyze ESRB rating impacttotal_na_sales = games['na_sales'].sum()\n",
    "total_na_sales = games_relevant['na_sales'].sum()\n",
    "total_eu_sales = games_relevant['eu_sales'].sum()\n",
    "total_jp_sales = games_relevant['jp_sales'].sum()\n",
    "\n",
    "na_genre_rating= games_relevant.groupby('rating')['na_sales'].sum().sort_values(ascending= False)\n",
    "eu_genre_rating= games_relevant.groupby('rating')['eu_sales'].sum().sort_values(ascending= False)\n",
    "jp_genre_rating= games_relevant.groupby('rating')['jp_sales'].sum().sort_values(ascending= False)\n",
    "\n",
    "n_top = 5\n",
    "\n",
    "top_na_ratings = na_genre_rating.head(n_top)\n",
    "top_eu_ratings = eu_genre_rating.head(n_top)\n",
    "top_jp_ratings = jp_genre_rating.head(n_top)\n",
    "\n",
    "top_na_ratings_percent = (top_na_ratings / total_na_sales) * 100\n",
    "top_eu_ratings_percent = (top_eu_ratings / total_eu_sales) * 100\n",
    "top_jp_ratings_percent = (top_jp_ratings / total_jp_sales) * 100\n",
    "\n",
    "top_na_df = pd.DataFrame({'na_sales': top_na_ratings, 'NA %': top_na_ratings_percent})\n",
    "top_eu_df = pd.DataFrame({'eu_sales': top_eu_ratings, 'EU %': top_eu_ratings_percent})\n",
    "top_jp_df = pd.DataFrame({'jp_sales': top_jp_ratings, 'JP %': top_jp_ratings_percent})\n",
    "\n",
    "combined_top_ratings = pd.concat([top_na_df, top_eu_df, top_jp_df], axis=1)\n",
    "\n",
    "print(\"Top 3-5 Ratings by Region (Sales and Percentage):\")\n",
    "print(combined_top_ratings)"
   ]
  },
  {
   "cell_type": "code",
   "execution_count": 52,
   "metadata": {
    "id": "JwjXinv5IDp7"
   },
   "outputs": [],
   "source": [
    "# Analyze ESRB impact for each region"
   ]
  },
  {
   "cell_type": "markdown",
   "metadata": {},
   "source": [
    "During my cross-regional genre comparison I noticed that North America and Europe show similar rating patterns. M-rated are at 96 and93 percent for both regions, NR are at 65 percent for North America and 59 percent for Europe, and E at 50 and 58 percent and T ratings at 39 and 35 percent. Japan, however, shows completely different preferences. NR games are at the top of the list with 57 percent, E10+ rated games are not nearly as popular, falling at less than 5 percent compared to NA and EU. And T and M have a much lower market share at 14 and 8 percent. ESRB ratings effect more gameplay in North America and Europe over Japan. Japan carries most of the unrated games in the dataset, leaving a lower marked for games with any rating. The Japanese game developers may prioritize their domestic market first. ESRB ratings may not be as essential to Japan's gaming market."
   ]
  },
  {
   "cell_type": "markdown",
   "metadata": {
    "id": "HR1z031jIYZ7"
   },
   "source": [
    "# Step 5 : Hypothesis Tests\n",
    "\n",
    "—Average user ratings of the Xbox One and PC platforms are the same.\n",
    "\n",
    "—Average user ratings for the Action and Sports genres are different.\n",
    "\n",
    "Set the *alpha* threshold value yourself.\n",
    "\n",
    "Explain:\n",
    "\n",
    "—How you formulated the null and alternative hypotheses\n",
    "\n",
    "—What criteria you used to test the hypotheses~~,~~ and why\n"
   ]
  },
  {
   "cell_type": "markdown",
   "metadata": {},
   "source": [
    "For my Xbox VS PC comparison:\n",
    "(H0): There is no difference in user ratings between Xbox and PC games.\n",
    "(H1): Xbox One games have higher user ratings than PC games.\n",
    "\n",
    "For my Action VS Sports comparison:\n",
    "(H0): There is no difference in user ratings between Action and Sports games.\n",
    "(H1): Action games have higher user ratings than sports games."
   ]
  },
  {
   "cell_type": "code",
   "execution_count": 53,
   "metadata": {
    "id": "-KfbHSwWIdn6"
   },
   "outputs": [
    {
     "name": "stdout",
     "output_type": "stream",
     "text": [
      "Xbox One VS PC, t-statistic: 1.6285882029651313 p-value 0.10450507919348415\n",
      "Action VS Sports, t-statistic: 9.425173048948047 p-value 2.8711147985105864e-19\n",
      "\n",
      "We cannot reject the null hypothesis: there is no significant difference in user ratings.\n",
      "We reject the null hypothesis: there is a difference in Action VS Sports.\n"
     ]
    }
   ],
   "source": [
    "alpha= 0.05\n",
    "\n",
    "xbox= games_relevant[games_relevant['platform']== 'XOne']['user_score'].dropna()\n",
    "pc= games_relevant[games_relevant['platform']== 'PC']['user_score'].dropna()\n",
    "\n",
    "tstat_xbox, pvalue_xbox= st.ttest_ind(xbox, pc)\n",
    "\n",
    "print(\"Xbox One VS PC, t-statistic:\", tstat_xbox, \"p-value\", pvalue_xbox)\n",
    "\n",
    "action= games_relevant[games_relevant['genre']== 'Action']['user_score'].dropna()\n",
    "sports= games_relevant[games_relevant['genre']== 'Sports']['user_score'].dropna()\n",
    "\n",
    "tstat_action, pvalue_action= st.ttest_ind(action, sports)\n",
    "\n",
    "print(\"Action VS Sports, t-statistic:\", tstat_action, \"p-value\", pvalue_action)\n",
    "\n",
    "print()\n",
    "\n",
    "if pvalue_xbox < alpha:\n",
    "    print(\"We reject the null hypothesis: the average user ratings is significantly different.\")\n",
    "\n",
    "else:\n",
    "    print(\"We cannot reject the null hypothesis: there is no significant difference in user ratings.\")\n",
    "\n",
    "\n",
    "if pvalue_action < alpha:\n",
    "    print(\"We reject the null hypothesis: there is a difference in Action VS Sports.\") \n",
    "\n",
    "else:\n",
    "    print(\"We cannot reject the null hypothesis: the average user ratings are the same for Action and Sports.\")"
   ]
  },
  {
   "cell_type": "markdown",
   "metadata": {},
   "source": [
    "For conducting two different samples to compare and their significance, I started by formulating my null and alternative hypotheses. For my Xbox and PC Comparison, my null hypotheses was that there was no difference in user ratings between platforms. My alternative hypotheses was that Xbox does have higher user ratings than PC games. The t-statistic shows a value of 1.63. After running my code, the p-value was at 0.105, which is greater than the typical alpha of 0.05, the null hypothesis cannot be rejected. For Action VS Sports Comparison, my null hypotheses was that there was no difference in user ratings between Action and Sports games. My alternative hypotheses was that Action games have higher ratings than Sports games. After running my hypothesis test, the p-value was at 2.87...e-19, much smaller than the alpha of 0.05. This also rejects my null hypothesis of there being no difference between the genres. The t-statistic value being a positive value of 9.42 suggests that the action ratings are higher than sports. I believe that the ratings for PC games are better considering the PC platform has been around much longer than Xbox One, which has followed with different generations of the console. For my genre comparison, I believe that Action outweighs Sports due to people enjoying the thrill chasing aspect of gaming versus not everyone being a sports fan or having generalized sports by region aside from a few. I used user_score for both of these hypothesis since it carries a significant weight on how the platforms and genres succed, It's basically the operator in the scenario. Without the user score, we wouldn't have the criteria to map our success based on platform or genre. I chose an alpha of 0.05 simply from standard practice. I formulated my null and alternative hypotheses from data extracted and analyzed throughout the project, popularity, lifespan, and percentage of genre by region. All of these factors enhanced my decision in which direction my alternative hypotheses would sway. "
   ]
  },
  {
   "cell_type": "markdown",
   "metadata": {
    "id": "424VTr4lIfzr"
   },
   "source": [
    "# Step 6. Write a general conclusion\n"
   ]
  },
  {
   "cell_type": "markdown",
   "metadata": {
    "id": "Rl-6ZMpnImpz"
   },
   "source": [
    "Based on comprehensive analysis of gaming industry data, Ice should focus their 2017 advertising campaign on developing cross-platform Action games for PS4, targeting the North American and European markets. PS4 has a positive effect from professional critics to users and a cross platform appeal between games that could really make an impact with genre drawing our users in based on common interest. In my analysis Action was at the top of the chart in North America and Europe. This could draw in a huge profit, especially with ratings from ESRB. North America and Europe taking 2/3 of our regional outreach and saturating our market for users and ratings. But, for a Not Rated game, we have potential to touch base in Japan, which had 64% in the not -rated market. I ran hypotheses for Xbox One VS PC which could no reject the null hypothesis, not sustaining enough data to show if XboxOne had better ratings than PC. For my Action VS Sports hypotheses, it rejected the null hypothesis, showing there was a difference between genres and action being higher in ratings than sports. To make a game succeed in a 2017 market, we need to focus on saturation, genre, cross platform gaming to expand outreach and inclusion between platforms, and put our game in front of an audience ready for action. We should aim for what would bring everybody together with inclusivity. Not only will the action draw people in across platforms, it can bring people together, no matter the console, and everyone can play."
   ]
  },
  {
   "cell_type": "code",
   "execution_count": null,
   "metadata": {},
   "outputs": [],
   "source": []
  }
 ],
 "metadata": {
  "colab": {
   "provenance": []
  },
  "kernelspec": {
   "display_name": "Python 3 (ipykernel)",
   "language": "python",
   "name": "python3"
  },
  "language_info": {
   "codemirror_mode": {
    "name": "ipython",
    "version": 3
   },
   "file_extension": ".py",
   "mimetype": "text/x-python",
   "name": "python",
   "nbconvert_exporter": "python",
   "pygments_lexer": "ipython3",
   "version": "3.9.23"
  }
 },
 "nbformat": 4,
 "nbformat_minor": 4
}
