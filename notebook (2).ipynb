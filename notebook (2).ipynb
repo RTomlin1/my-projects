{
 "cells": [
  {
   "cell_type": "markdown",
   "metadata": {},
   "source": [
    "<div style=\"border:solid green 2px; padding: 20px\"> <h1 style=\"color:green; margin-bottom:20px\">Reviewers comment v5</h1>\n",
    "\n",
    "Hello Regan!\n",
    "\n",
    "I'm happy to review your project today 🙌\n",
    "\n",
    "You can find my comments under the heading **«Review»**.\n",
    "\n",
    "Sine all the remainin fixes were done I can now approve your project\n",
    "\n",
    "Congratulations!!!!"
   ]
  },
  {
   "cell_type": "markdown",
   "metadata": {},
   "source": [
    "<div style=\"border: 5px solid purple; padding: 15px; margin: 5px\">\n",
    "<b> Reviewer's comment 4</b>\n",
    "\n",
    "There's only one tiny issue this time: the merging method was changed, and I left a picture that should help you understand how merging works. Please take a look :)\n",
    "     \n",
    "</div>"
   ]
  },
  {
   "cell_type": "markdown",
   "metadata": {},
   "source": [
    "<div style=\"border: 5px solid purple; padding: 15px; margin: 5px\">\n",
    "<b> Reviewer's comment 3</b>\n",
    "\n",
    "\n",
    "Hi, it's Svetlana again. Thank you for re-submitting the project! \n",
    "\n",
    "\n",
    "You almost finished it! My new comments have digit 3. Would you take a look? It should not take much time. \n",
    "     \n",
    "</div>"
   ]
  },
  {
   "cell_type": "markdown",
   "metadata": {},
   "source": [
    "<div style=\"border: 5px solid purple; padding: 15px; margin: 5px\">\n",
    "<b> Reviewer's comment 2</b>\n",
    "\n",
    "\n",
    "Hi, my name is Svetlana (my handle on Discord is `svetatripleten`).\n",
    "\n",
    "\n",
    "Thank you for the updates! \n",
    "\n",
    "\n",
    "- You have successfully explored and prepared the dataframes. This is an important step, since it helps us identify the issues a dataframe may have;\n",
    "\n",
    "\n",
    "- Created and merged pivot tables. We need to aggregate data and then merge it to correctly analyze users' bahavior, well done! \n",
    "\n",
    "\n",
    "- Calculated revenue; \n",
    "\n",
    "\n",
    "- Displayed and analyzed distributions. It is not enough to just add a chart. Instead, one should analyze it, since it may reveal interesting and important insights;\n",
    "\n",
    "\n",
    "- Conducted statistical tests; \n",
    "\n",
    "  \n",
    "- Wrote an excellent conclusion! A well-written conclusion shows how the project met its objectives and provides a concise and understandable summary for those who may not have been involved in the details of the project. Good job! \n",
    "\n",
    "\n",
    "\n",
    "I've left a few comments titled as **Reviewer's comment 2**. Please take a look :) \n",
    "\n",
    "     \n",
    "</div>"
   ]
  },
  {
   "cell_type": "markdown",
   "metadata": {},
   "source": [
    "<div style=\"border:solid green 2px; padding: 20px\"> <h1 style=\"color:green; margin-bottom:20px\">Reviewers comment v1</h1>\n",
    "\n",
    "Hello Regan!\n",
    "\n",
    "I'm happy to review your project today 🙌\n",
    "\n",
    "You can find my comments under the heading **«Review»**. I will categorize my comments in green, blue or red boxes like this:\n",
    "\n",
    "<div class=\"alert alert-success\">\n",
    "    <b>Success:</b> if everything is done successfully\n",
    "</div>\n",
    "<div class=\"alert alert-warning\">\n",
    "    <b>Remarks:</b> if I can give some recommendations or ways to improve the project\n",
    "</div>\n",
    "<div class=\"alert alert-danger\">\n",
    "    <b>Needs fixing:</b> if the block requires some corrections. Work cant be accepted with the red comments\n",
    "</div>\n",
    "\n",
    "Please don't remove my comments :) If you have any questions don't hesitate to respond to my comments in a different section. \n",
    "<div class=\"alert alert-info\"> <b>Student comments:</b> For example like this</div>    \n",
    "\n"
   ]
  },
  {
   "cell_type": "markdown",
   "metadata": {},
   "source": [
    "<div style=\"border:solid green 2px; padding: 20px\">\n",
    "<b>Reviewer's comment v1:</b>\n",
    "\n",
    "    \n",
    "<b>Overall Feedback</b>\n",
    "    \n",
    "\n",
    "You’ve submitted another project—great work! Your commitment to pushing through the challenges of this program is admirable.\n",
    "\n",
    "After reviewing your submission, I’ve returned it with some feedback to help you make the necessary improvements.\n",
    "    \n",
    "   \n",
    "You can find my more detailed notes within your project notebook in the **Reviewer's comment v1:** section.\n",
    "\n",
    "   \n",
    "Keep in mind that revisions are a normal and valuable part of the learning process. Use this feedback to refine your work and resubmit when you’re ready. I know you’re capable of great things, and I’m here to support you every step of the way. Keep going—you’re doing a great job! 🏄\n",
    "\n",
    "If you find yourself uncertain or in need of further insights, never hesitate to consult with your tutor or ask your questions here. We are here to guide and assist you."
   ]
  },
  {
   "cell_type": "markdown",
   "metadata": {},
   "source": [
    "# Which one is a better plan?\n",
    "\n",
    "You work as an analyst for the telecom operator Megaline. The company offers its clients two prepaid plans, Surf and Ultimate. The commercial department wants to know which of the plans brings in more revenue in order to adjust the advertising budget.\n",
    "\n",
    "You are going to carry out a preliminary analysis of the plans based on a relatively small client selection. You'll have the data on 500 Megaline clients: who the clients are, where they're from, which plan they use, and the number of calls they made and text messages they sent in 2018. Your job is to analyze the clients' behavior and determine which prepaid plan brings in more revenue."
   ]
  },
  {
   "cell_type": "markdown",
   "metadata": {},
   "source": [
    "[We've provided you with some commentary to guide your thinking as you complete this project. However, make sure to remove all the bracketed comments before submitting your project.]\n",
    "\n",
    "[Before you dive into analyzing your data, explain for yourself the purpose of the project and actions you plan to take.]\n",
    "\n",
    "[Please bear in mind that studying, amending, and analyzing data is an iterative process. It is normal to return to previous steps and correct/expand them to allow for further steps.]"
   ]
  },
  {
   "cell_type": "markdown",
   "metadata": {},
   "source": [
    "<div style=\"background-color: #d4edda; color: #155724; padding: 15px; border-radius: 4px; border: 1px solid #c3e6cb;\">\n",
    "\n",
    "<b>Reviewer's comment v1</b>\n",
    " \n",
    "Great job keeping the additional information about the project goal! Additionally, you could add a short description of the tasks you plan to perform and the available data. This information could be helpful for the notebook reader.\n",
    "\n"
   ]
  },
  {
   "cell_type": "markdown",
   "metadata": {},
   "source": [
    "## Initialization"
   ]
  },
  {
   "cell_type": "markdown",
   "metadata": {},
   "source": [
    "To start, we import all libraries to analyze data and for data visualization. \n",
    "We use pandas and numpy for data manipulation and mathematical operations.\n",
    "We use matplotlib will create our data visualization such as plots, bar graphs, scatterplots, etc.\n",
    "We also use scipy scientific and technical analysis. "
   ]
  },
  {
   "cell_type": "code",
   "execution_count": 2,
   "metadata": {},
   "outputs": [],
   "source": [
    "import pandas as pd\n",
    "import numpy as np\n",
    "import matplotlib.pyplot as plt\n",
    "from scipy import stats as st"
   ]
  },
  {
   "cell_type": "markdown",
   "metadata": {},
   "source": [
    "## Load data"
   ]
  },
  {
   "cell_type": "markdown",
   "metadata": {},
   "source": [
    "Here, I take all of my datasets into separate dataframes so that i can view, process, and organize the data for analysis. "
   ]
  },
  {
   "cell_type": "code",
   "execution_count": 3,
   "metadata": {},
   "outputs": [],
   "source": [
    "users = pd.read_csv('/datasets/megaline_users.csv')"
   ]
  },
  {
   "cell_type": "code",
   "execution_count": 4,
   "metadata": {},
   "outputs": [],
   "source": [
    "calls = pd.read_csv('/datasets/megaline_calls.csv')"
   ]
  },
  {
   "cell_type": "code",
   "execution_count": 5,
   "metadata": {},
   "outputs": [],
   "source": [
    "messages = pd.read_csv('/datasets/megaline_messages.csv')"
   ]
  },
  {
   "cell_type": "code",
   "execution_count": 6,
   "metadata": {},
   "outputs": [],
   "source": [
    "internet = pd.read_csv('/datasets/megaline_internet.csv')"
   ]
  },
  {
   "cell_type": "code",
   "execution_count": 7,
   "metadata": {},
   "outputs": [],
   "source": [
    "plans = pd.read_csv('/datasets/megaline_plans.csv')"
   ]
  },
  {
   "cell_type": "markdown",
   "metadata": {},
   "source": [
    "## Prepare the data"
   ]
  },
  {
   "cell_type": "markdown",
   "metadata": {},
   "source": [
    "[The data for this project is split into several tables. Explore each one to get an initial understanding of the data. Do necessary corrections to each table if necessary.]"
   ]
  },
  {
   "cell_type": "markdown",
   "metadata": {},
   "source": [
    "## Plans"
   ]
  },
  {
   "cell_type": "markdown",
   "metadata": {},
   "source": [
    "Here, we use the .info() method to view data from the datasets for check the data types and look for any missing values. "
   ]
  },
  {
   "cell_type": "code",
   "execution_count": 8,
   "metadata": {},
   "outputs": [
    {
     "name": "stdout",
     "output_type": "stream",
     "text": [
      "   messages_included  mb_per_month_included  minutes_included  \\\n",
      "0                 50                  15360               500   \n",
      "1               1000                  30720              3000   \n",
      "\n",
      "   usd_monthly_pay  usd_per_gb  usd_per_message  usd_per_minute plan_name  \n",
      "0               20          10             0.03            0.03      surf  \n",
      "1               70           7             0.01            0.01  ultimate  \n"
     ]
    }
   ],
   "source": [
    "print(plans.head())"
   ]
  },
  {
   "cell_type": "code",
   "execution_count": 9,
   "metadata": {},
   "outputs": [
    {
     "name": "stdout",
     "output_type": "stream",
     "text": [
      "<class 'pandas.core.frame.DataFrame'>\n",
      "RangeIndex: 2 entries, 0 to 1\n",
      "Data columns (total 8 columns):\n",
      " #   Column                 Non-Null Count  Dtype  \n",
      "---  ------                 --------------  -----  \n",
      " 0   messages_included      2 non-null      int64  \n",
      " 1   mb_per_month_included  2 non-null      int64  \n",
      " 2   minutes_included       2 non-null      int64  \n",
      " 3   usd_monthly_pay        2 non-null      int64  \n",
      " 4   usd_per_gb             2 non-null      int64  \n",
      " 5   usd_per_message        2 non-null      float64\n",
      " 6   usd_per_minute         2 non-null      float64\n",
      " 7   plan_name              2 non-null      object \n",
      "dtypes: float64(2), int64(5), object(1)\n",
      "memory usage: 256.0+ bytes\n",
      "None\n"
     ]
    }
   ],
   "source": [
    "print(plans.info())\n",
    "\n"
   ]
  },
  {
   "cell_type": "markdown",
   "metadata": {},
   "source": [
    "So, upon inspection, it looks like there aren't any missing cells (NaN values), there don't seem to be any duplicate columns, and the names of the columns all seem to be consistent. This dataset looks ready for processing. "
   ]
  },
  {
   "cell_type": "markdown",
   "metadata": {},
   "source": [
    " "
   ]
  },
  {
   "cell_type": "markdown",
   "metadata": {
    "collapsed": false,
    "jupyter": {
     "outputs_hidden": false
    }
   },
   "source": [
    "## Fix data"
   ]
  },
  {
   "cell_type": "markdown",
   "metadata": {},
   "source": [
    "[Fix obvious issues with the data given the initial observations.]"
   ]
  },
  {
   "cell_type": "code",
   "execution_count": 10,
   "metadata": {},
   "outputs": [],
   "source": [
    "plans.dropna(inplace=True)"
   ]
  },
  {
   "cell_type": "markdown",
   "metadata": {},
   "source": [
    "## Enrich data"
   ]
  },
  {
   "cell_type": "markdown",
   "metadata": {},
   "source": [
    "[Add additional factors to the data if you believe they might be useful.]"
   ]
  },
  {
   "cell_type": "code",
   "execution_count": null,
   "metadata": {},
   "outputs": [],
   "source": []
  },
  {
   "cell_type": "markdown",
   "metadata": {},
   "source": [
    "## Users"
   ]
  },
  {
   "cell_type": "code",
   "execution_count": 11,
   "metadata": {},
   "outputs": [
    {
     "name": "stdout",
     "output_type": "stream",
     "text": [
      "   user_id first_name  last_name  age                                   city  \\\n",
      "0     1000   Anamaria      Bauer   45  Atlanta-Sandy Springs-Roswell, GA MSA   \n",
      "1     1001     Mickey  Wilkerson   28        Seattle-Tacoma-Bellevue, WA MSA   \n",
      "2     1002     Carlee    Hoffman   36   Las Vegas-Henderson-Paradise, NV MSA   \n",
      "3     1003   Reynaldo    Jenkins   52                          Tulsa, OK MSA   \n",
      "4     1004    Leonila   Thompson   40        Seattle-Tacoma-Bellevue, WA MSA   \n",
      "\n",
      "     reg_date      plan churn_date  \n",
      "0  2018-12-24  ultimate        NaN  \n",
      "1  2018-08-13      surf        NaN  \n",
      "2  2018-10-21      surf        NaN  \n",
      "3  2018-01-28      surf        NaN  \n",
      "4  2018-05-23      surf        NaN  \n"
     ]
    }
   ],
   "source": [
    "print(users.head())\n"
   ]
  },
  {
   "cell_type": "code",
   "execution_count": 12,
   "metadata": {},
   "outputs": [
    {
     "name": "stdout",
     "output_type": "stream",
     "text": [
      "<class 'pandas.core.frame.DataFrame'>\n",
      "RangeIndex: 500 entries, 0 to 499\n",
      "Data columns (total 8 columns):\n",
      " #   Column      Non-Null Count  Dtype \n",
      "---  ------      --------------  ----- \n",
      " 0   user_id     500 non-null    int64 \n",
      " 1   first_name  500 non-null    object\n",
      " 2   last_name   500 non-null    object\n",
      " 3   age         500 non-null    int64 \n",
      " 4   city        500 non-null    object\n",
      " 5   reg_date    500 non-null    object\n",
      " 6   plan        500 non-null    object\n",
      " 7   churn_date  34 non-null     object\n",
      "dtypes: int64(2), object(6)\n",
      "memory usage: 31.4+ KB\n",
      "None\n"
     ]
    }
   ],
   "source": [
    "print(users.info())"
   ]
  },
  {
   "cell_type": "markdown",
   "metadata": {},
   "source": [
    "In this dataset, the data looks clean. There are no duplicate columns, no missing cells/ NaN values, and the column names look consistent. This data is ready for processing. "
   ]
  },
  {
   "cell_type": "markdown",
   "metadata": {},
   "source": [
    " "
   ]
  },
  {
   "cell_type": "markdown",
   "metadata": {},
   "source": [
    "### Fix Data"
   ]
  },
  {
   "cell_type": "markdown",
   "metadata": {},
   "source": [
    "[Fix obvious issues with the data given the initial observations.]"
   ]
  },
  {
   "cell_type": "code",
   "execution_count": 13,
   "metadata": {},
   "outputs": [],
   "source": [
    "users['reg_date']= pd.to_datetime(users['reg_date'])"
   ]
  },
  {
   "cell_type": "markdown",
   "metadata": {},
   "source": [
    "<div style=\"border: 5px solid green; padding: 10px; margin: 5px\">\n",
    "<b>   Reviewer's comment 4 </b>\n",
    "    \n",
    "Great!\n",
    "    \n",
    "</div>\n",
    "\n",
    "<div style=\"border: 5px solid red; padding: 10px; margin: 5px\">\n",
    "<b>   Reviewer's comment 3 </b>\n",
    "    \n",
    "\n",
    "    \n",
    "This is the reason why merged data has only 158 rows. Missing values here indicate that users are actually active, so we should not drop these values :) \n",
    "\n",
    "    \n",
    "</div>"
   ]
  },
  {
   "cell_type": "markdown",
   "metadata": {},
   "source": [
    "### Enrich Data"
   ]
  },
  {
   "cell_type": "markdown",
   "metadata": {},
   "source": [
    "[Add additional factors to the data if you believe they might be useful.]"
   ]
  },
  {
   "cell_type": "code",
   "execution_count": null,
   "metadata": {},
   "outputs": [],
   "source": []
  },
  {
   "cell_type": "markdown",
   "metadata": {},
   "source": [
    "## Calls"
   ]
  },
  {
   "cell_type": "code",
   "execution_count": 14,
   "metadata": {},
   "outputs": [
    {
     "name": "stdout",
     "output_type": "stream",
     "text": [
      "         id  user_id   call_date  duration\n",
      "0   1000_93     1000  2018-12-27      8.52\n",
      "1  1000_145     1000  2018-12-27     13.66\n",
      "2  1000_247     1000  2018-12-27     14.48\n",
      "3  1000_309     1000  2018-12-28      5.76\n",
      "4  1000_380     1000  2018-12-30      4.22\n"
     ]
    }
   ],
   "source": [
    "print(calls.head())"
   ]
  },
  {
   "cell_type": "code",
   "execution_count": 15,
   "metadata": {},
   "outputs": [
    {
     "name": "stdout",
     "output_type": "stream",
     "text": [
      "<class 'pandas.core.frame.DataFrame'>\n",
      "RangeIndex: 137735 entries, 0 to 137734\n",
      "Data columns (total 4 columns):\n",
      " #   Column     Non-Null Count   Dtype  \n",
      "---  ------     --------------   -----  \n",
      " 0   id         137735 non-null  object \n",
      " 1   user_id    137735 non-null  int64  \n",
      " 2   call_date  137735 non-null  object \n",
      " 3   duration   137735 non-null  float64\n",
      "dtypes: float64(1), int64(1), object(2)\n",
      "memory usage: 4.2+ MB\n",
      "None\n"
     ]
    }
   ],
   "source": [
    "print(calls.info())\n"
   ]
  },
  {
   "cell_type": "markdown",
   "metadata": {},
   "source": [
    "In this dataset, the data doesn't have any duplicate columns, no missing/ NaN values, and the column names are consistent. This data has an expected float value which would be common for \"duration\" of a call. This data is clean and ready for processing. "
   ]
  },
  {
   "cell_type": "markdown",
   "metadata": {},
   "source": [
    " "
   ]
  },
  {
   "cell_type": "markdown",
   "metadata": {},
   "source": [
    "### Fix data"
   ]
  },
  {
   "cell_type": "markdown",
   "metadata": {},
   "source": [
    "[Fix obvious issues with the data given the initial observations.]"
   ]
  },
  {
   "cell_type": "code",
   "execution_count": 16,
   "metadata": {},
   "outputs": [],
   "source": [
    "calls.dropna(inplace=True)"
   ]
  },
  {
   "cell_type": "markdown",
   "metadata": {},
   "source": [
    "### Enrich data"
   ]
  },
  {
   "cell_type": "markdown",
   "metadata": {},
   "source": [
    "[Add additional factors to the data if you believe they might be useful.]"
   ]
  },
  {
   "cell_type": "code",
   "execution_count": 17,
   "metadata": {},
   "outputs": [
    {
     "name": "stdout",
     "output_type": "stream",
     "text": [
      "         id  user_id  call_date  duration\n",
      "0   1000_93     1000 2018-12-27       9.0\n",
      "1  1000_145     1000 2018-12-27      14.0\n",
      "2  1000_247     1000 2018-12-27      15.0\n",
      "3  1000_309     1000 2018-12-28       6.0\n",
      "4  1000_380     1000 2018-12-30       5.0\n"
     ]
    }
   ],
   "source": [
    "calls['call_date']= pd.to_datetime(calls['call_date'])\n",
    "\n",
    "nums= calls['duration'] \n",
    "minutes= np.ceil(nums)\n",
    "calls['duration']= minutes\n",
    "\n",
    "print(calls.head())"
   ]
  },
  {
   "cell_type": "markdown",
   "metadata": {},
   "source": [
    "<div style=\"border: 5px solid green; padding: 10px; margin: 5px\">\n",
    "<b>   Reviewer's comment 2 </b>\n",
    "    \n",
    "\n",
    "Yes, `ceil` is exactly what we need here.\n",
    "\n",
    "</div>\n",
    "<div style=\"border: 5px solid gold; padding: 10px; margin: 5px\">\n",
    "<b>   Reviewer's comment 2 </b>\n",
    "    \n",
    "\n",
    "You can do it as follows: `calls['duration'] = np.ceil(calls['duration'])`\n",
    "</div>"
   ]
  },
  {
   "cell_type": "markdown",
   "metadata": {},
   "source": [
    "<div style=\"background-color: #f8d7da; color: #721c24; padding: 15px; border-radius: 4px; border: 1px solid #f5c6cb;\"> \n",
    "\n",
    "<b>Reviewer's comment v1:</b>\n",
    "\n",
    "Please note that for calls, each call is rounded up: even if the call lasted just one second, it will be counted as one minute. Which means the rounding for calls should happen before the data aggregation."
   ]
  },
  {
   "cell_type": "markdown",
   "metadata": {},
   "source": [
    "Here, to enrich the data, we convert the \"call_date\" column which is in the dataset as an object to a datetime format. This will be important later while we process our data. "
   ]
  },
  {
   "cell_type": "markdown",
   "metadata": {},
   "source": [
    "## Messages"
   ]
  },
  {
   "cell_type": "code",
   "execution_count": 18,
   "metadata": {},
   "outputs": [
    {
     "name": "stdout",
     "output_type": "stream",
     "text": [
      "         id  user_id message_date\n",
      "0  1000_125     1000   2018-12-27\n",
      "1  1000_160     1000   2018-12-31\n",
      "2  1000_223     1000   2018-12-31\n",
      "3  1000_251     1000   2018-12-27\n",
      "4  1000_255     1000   2018-12-26\n"
     ]
    }
   ],
   "source": [
    "print(messages.head())\n"
   ]
  },
  {
   "cell_type": "code",
   "execution_count": 19,
   "metadata": {},
   "outputs": [
    {
     "name": "stdout",
     "output_type": "stream",
     "text": [
      "<class 'pandas.core.frame.DataFrame'>\n",
      "RangeIndex: 76051 entries, 0 to 76050\n",
      "Data columns (total 3 columns):\n",
      " #   Column        Non-Null Count  Dtype \n",
      "---  ------        --------------  ----- \n",
      " 0   id            76051 non-null  object\n",
      " 1   user_id       76051 non-null  int64 \n",
      " 2   message_date  76051 non-null  object\n",
      "dtypes: int64(1), object(2)\n",
      "memory usage: 1.7+ MB\n",
      "None\n"
     ]
    }
   ],
   "source": [
    "print(messages.info())"
   ]
  },
  {
   "cell_type": "markdown",
   "metadata": {},
   "source": [
    "In this dataset, there are no missing/ NaN values, no duplicate columns, and the column names are all consistent. This data is clean and ready for processing. The only thing we can do to make our data better is by converting our date from an \"object\" to datetime for later."
   ]
  },
  {
   "cell_type": "markdown",
   "metadata": {},
   "source": [
    " "
   ]
  },
  {
   "cell_type": "markdown",
   "metadata": {},
   "source": [
    "### Fix data"
   ]
  },
  {
   "cell_type": "markdown",
   "metadata": {},
   "source": [
    "[Fix obvious issues with the data given the initial observations.]"
   ]
  },
  {
   "cell_type": "code",
   "execution_count": 20,
   "metadata": {},
   "outputs": [],
   "source": [
    "messages.dropna(inplace=True)"
   ]
  },
  {
   "cell_type": "markdown",
   "metadata": {},
   "source": [
    "### Enrich data"
   ]
  },
  {
   "cell_type": "markdown",
   "metadata": {},
   "source": [
    "[Add additional factors to the data if you believe they might be useful.]"
   ]
  },
  {
   "cell_type": "code",
   "execution_count": 21,
   "metadata": {},
   "outputs": [
    {
     "name": "stdout",
     "output_type": "stream",
     "text": [
      "         id  user_id message_date\n",
      "0  1000_125     1000   2018-12-27\n",
      "1  1000_160     1000   2018-12-31\n",
      "2  1000_223     1000   2018-12-31\n",
      "3  1000_251     1000   2018-12-27\n",
      "4  1000_255     1000   2018-12-26\n"
     ]
    }
   ],
   "source": [
    "messages['message_date']= pd.to_datetime(messages['message_date'])\n",
    "print(messages.head())"
   ]
  },
  {
   "cell_type": "code",
   "execution_count": null,
   "metadata": {},
   "outputs": [],
   "source": []
  },
  {
   "cell_type": "markdown",
   "metadata": {},
   "source": [
    "## Internet"
   ]
  },
  {
   "cell_type": "code",
   "execution_count": 22,
   "metadata": {},
   "outputs": [
    {
     "name": "stdout",
     "output_type": "stream",
     "text": [
      "         id  user_id session_date  mb_used\n",
      "0   1000_13     1000   2018-12-29    89.86\n",
      "1  1000_204     1000   2018-12-31     0.00\n",
      "2  1000_379     1000   2018-12-28   660.40\n",
      "3  1000_413     1000   2018-12-26   270.99\n",
      "4  1000_442     1000   2018-12-27   880.22\n"
     ]
    }
   ],
   "source": [
    "print(internet.head())"
   ]
  },
  {
   "cell_type": "code",
   "execution_count": 23,
   "metadata": {},
   "outputs": [
    {
     "name": "stdout",
     "output_type": "stream",
     "text": [
      "<class 'pandas.core.frame.DataFrame'>\n",
      "RangeIndex: 104825 entries, 0 to 104824\n",
      "Data columns (total 4 columns):\n",
      " #   Column        Non-Null Count   Dtype  \n",
      "---  ------        --------------   -----  \n",
      " 0   id            104825 non-null  object \n",
      " 1   user_id       104825 non-null  int64  \n",
      " 2   session_date  104825 non-null  object \n",
      " 3   mb_used       104825 non-null  float64\n",
      "dtypes: float64(1), int64(1), object(2)\n",
      "memory usage: 3.2+ MB\n",
      "None\n"
     ]
    }
   ],
   "source": [
    "print(internet.info())\n"
   ]
  },
  {
   "cell_type": "markdown",
   "metadata": {},
   "source": [
    " "
   ]
  },
  {
   "cell_type": "markdown",
   "metadata": {},
   "source": [
    "In this dataset, there are no missing values/ NaN values, there are no duplicate column names, and no duplicate columns. However, we do need to convert the mb_used column to gigabytes, to do so, we will convert the 'mb_used' column to 'gb_used' and divide the megabytes used by 1024. "
   ]
  },
  {
   "cell_type": "markdown",
   "metadata": {},
   "source": [
    "### Fix data"
   ]
  },
  {
   "cell_type": "markdown",
   "metadata": {},
   "source": [
    "[Fix obvious issues with the data given the initial observations.]"
   ]
  },
  {
   "cell_type": "code",
   "execution_count": 24,
   "metadata": {},
   "outputs": [],
   "source": [
    "internet.dropna(inplace=True)"
   ]
  },
  {
   "cell_type": "markdown",
   "metadata": {},
   "source": [
    "### Enrich data"
   ]
  },
  {
   "cell_type": "markdown",
   "metadata": {},
   "source": [
    "[Add additional factors to the data if you believe they might be useful.]"
   ]
  },
  {
   "cell_type": "code",
   "execution_count": 25,
   "metadata": {},
   "outputs": [
    {
     "name": "stdout",
     "output_type": "stream",
     "text": [
      "         id  user_id session_date  mb_used   gb_used\n",
      "0   1000_13     1000   2018-12-29    89.86  0.087754\n",
      "1  1000_204     1000   2018-12-31     0.00  0.000000\n",
      "2  1000_379     1000   2018-12-28   660.40  0.644922\n",
      "3  1000_413     1000   2018-12-26   270.99  0.264639\n",
      "4  1000_442     1000   2018-12-27   880.22  0.859590\n"
     ]
    }
   ],
   "source": [
    "internet['session_date']= pd.to_datetime(internet['session_date'])\n",
    "internet['gb_used'] = internet['mb_used'] / 1024\n",
    "print(internet.head())"
   ]
  },
  {
   "cell_type": "markdown",
   "metadata": {},
   "source": [
    "## Study plan conditions"
   ]
  },
  {
   "cell_type": "code",
   "execution_count": 26,
   "metadata": {},
   "outputs": [
    {
     "name": "stdout",
     "output_type": "stream",
     "text": [
      "   messages_included  mb_per_month_included  minutes_included  \\\n",
      "0                 50                  15360               500   \n",
      "1               1000                  30720              3000   \n",
      "\n",
      "   usd_monthly_pay  usd_per_gb  usd_per_message  usd_per_minute plan_name  \n",
      "0               20          10             0.03            0.03      surf  \n",
      "1               70           7             0.01            0.01  ultimate  \n"
     ]
    }
   ],
   "source": [
    "# Print out the plan conditions and make sure they are clear for you\n",
    "print(plans.head())\n"
   ]
  },
  {
   "cell_type": "markdown",
   "metadata": {},
   "source": [
    "Reprinting the first two rows of data tells us a lot about this dataset. There are only two plans, Surf and Ultimate. With the Ultimate plan, users get access to more messages, megabytes per month, minutes, with benefits to lower rates for higher access. It's 70 US dollars for this plan, while reaping benefits of 7 US dollars per gigabyte, and .01 cent per message. For the Surf plan, you pay only the 20 US dollars a month, but pay highter pricing per gigabyte, per message, and per minute. While receiving less included messages, megabytes per month, and minutes included. The better deal seems to be the Ultimate plan."
   ]
  },
  {
   "cell_type": "markdown",
   "metadata": {},
   "source": [
    "<div style=\"background-color: #d4edda; color: #155724; padding: 15px; border-radius: 4px; border: 1px solid #c3e6cb;\">\n",
    "\n",
    "<b>Reviewer's comment v1:</b>\n",
    "    \n",
    "Everything is correct here 💫"
   ]
  },
  {
   "cell_type": "markdown",
   "metadata": {},
   "source": [
    "## Aggregate data per user\n",
    "\n",
    "[Now, as the data is clean, aggregate data per user per period in order to have just one record per user per period. It should ease the further analysis a lot.]"
   ]
  },
  {
   "cell_type": "code",
   "execution_count": 27,
   "metadata": {},
   "outputs": [
    {
     "name": "stdout",
     "output_type": "stream",
     "text": [
      "user_id  ud_date\n",
      "1000     12-2018    16\n",
      "1001     10-2018    65\n",
      "         11-2018    64\n",
      "         12-2018    56\n",
      "         8-2018     27\n",
      "                    ..\n",
      "1498     9-2018     45\n",
      "1499     10-2018    53\n",
      "         11-2018    45\n",
      "         12-2018    65\n",
      "         9-2018     41\n",
      "Name: id, Length: 2258, dtype: int64\n"
     ]
    }
   ],
   "source": [
    "#Calculate the number of calls made by each user per month. Save the result.\n",
    "calls['ud_date'] = calls['call_date'].dt.month.astype(str) + \"-\" + calls['call_date'].dt.year.astype(str)\n",
    "calls_per_month= calls.groupby(['user_id' , 'ud_date'])['id'].count()\n",
    "print(calls_per_month)"
   ]
  },
  {
   "cell_type": "markdown",
   "metadata": {},
   "source": [
    "Here, we can see the individual user by ID number, the months of use and how many calls were made each month by the user. This data tells us how long a customer has continued with their service and how much of their monthly limitations they're using, not using, or surpassing. "
   ]
  },
  {
   "cell_type": "code",
   "execution_count": 28,
   "metadata": {},
   "outputs": [
    {
     "name": "stdout",
     "output_type": "stream",
     "text": [
      "      user_id  ud_date  total_minutes\n",
      "0        1000  12-2018          124.0\n",
      "1        1001  10-2018          393.0\n",
      "2        1001  11-2018          426.0\n",
      "3        1001  12-2018          412.0\n",
      "4        1001   8-2018          182.0\n",
      "...       ...      ...            ...\n",
      "2253     1498   9-2018          363.0\n",
      "2254     1499  10-2018          385.0\n",
      "2255     1499  11-2018          308.0\n",
      "2256     1499  12-2018          496.0\n",
      "2257     1499   9-2018          346.0\n",
      "\n",
      "[2258 rows x 3 columns]\n"
     ]
    }
   ],
   "source": [
    "# Calculate the amount of minutes spent by each user per month. Save the result.\n",
    "minutes = calls.groupby(['user_id', 'ud_date'])['duration'].sum().reset_index(name='total_minutes')\n",
    "minutes.to_csv('minutes.csv', index=False)\n",
    "print(minutes)"
   ]
  },
  {
   "cell_type": "markdown",
   "metadata": {},
   "source": [
    "<div style=\"background-color: #fff3cd; color: #856404; padding: 15px; border-radius: 4px; border: 1px solid #ffeeba;\">\n",
    "\n",
    "<b>Reviewer's comment v1:</b>\n",
    "    \n",
    "In `pivot_table` or `groupby` it is possible to pass multiple arguments, so here, you can create an aggregated table in one go like this:\n",
    "\n",
    "\n",
    "```python\n",
    "calls_df['month'] = pd.to_datetime(calls_df['call_date']).dt.to_period('M')\n",
    "\n",
    "# Group by and aggregate\n",
    "result = calls_df.groupby(['user_id', 'month']).agg({'duration': ['count', 'sum']}).reset_index()\n",
    "\n",
    "# Flatten the MultiIndex in columns\n",
    "result.columns = ['_'.join(col).strip() if type(col) is tuple and col[1] != '' else col[0] for col in result.columns.values]\n",
    "\n",
    "result\n",
    "\n",
    "```"
   ]
  },
  {
   "cell_type": "markdown",
   "metadata": {},
   "source": [
    "This set of data shows us the same users from before and their usage of \"minutes\" each month. This also shows us the length of time they kept their plans on our service, how much of their service they were utilizing each month, and how long our total calls come out to in minutes. "
   ]
  },
  {
   "cell_type": "code",
   "execution_count": 29,
   "metadata": {},
   "outputs": [
    {
     "name": "stdout",
     "output_type": "stream",
     "text": [
      "user_id  ud_date\n",
      "1000     12-2018    11\n",
      "1001     10-2018    53\n",
      "         11-2018    36\n",
      "         12-2018    44\n",
      "         8-2018     30\n",
      "                    ..\n",
      "1496     11-2018    13\n",
      "         12-2018    11\n",
      "         8-2018      2\n",
      "         9-2018     21\n",
      "1497     12-2018    50\n",
      "Name: id, Length: 1806, dtype: int64\n"
     ]
    }
   ],
   "source": [
    "# Calculate the number of messages sent by each user per month. Save the result.\n",
    "messages['ud_date'] = messages['message_date'].dt.month.astype(str) + \"-\" + messages['message_date'].dt.year.astype(str)\n",
    "messages_pm = messages.groupby(['user_id', 'ud_date'])['id'].count()\n",
    "print(messages_pm)\n"
   ]
  },
  {
   "cell_type": "markdown",
   "metadata": {},
   "source": [
    "This calculation is simple, it shows how many texts were sent per month, per user. This is useful to see of any overages in service usage."
   ]
  },
  {
   "cell_type": "code",
   "execution_count": 30,
   "metadata": {},
   "outputs": [
    {
     "name": "stdout",
     "output_type": "stream",
     "text": [
      "user_id  ud_date\n",
      "1000     12-2018     5\n",
      "1001     10-2018    56\n",
      "         11-2018    51\n",
      "         12-2018    60\n",
      "         8-2018     25\n",
      "                    ..\n",
      "1498     9-2018     57\n",
      "1499     10-2018    61\n",
      "         11-2018    49\n",
      "         12-2018    65\n",
      "         9-2018     45\n",
      "Name: mb_used, Length: 2277, dtype: int64\n"
     ]
    }
   ],
   "source": [
    "# Calculate the volume of internet traffic used by each user per month. Save the result.\n",
    "internet['ud_date'] = internet['session_date'].dt.month.astype(str) + \"-\" + internet['session_date'].dt.year.astype(str)\n",
    "internet_vol = internet.groupby(['user_id', 'ud_date'])['mb_used'].count()\n",
    "print(internet_vol)\n"
   ]
  },
  {
   "cell_type": "markdown",
   "metadata": {},
   "source": [
    "Here, we see how many gigabytes were used each month per customer. We used a conversion earlier in our code to get a simplified view of the data. "
   ]
  },
  {
   "cell_type": "code",
   "execution_count": 31,
   "metadata": {},
   "outputs": [
    {
     "name": "stdout",
     "output_type": "stream",
     "text": [
      "   user_id  ud_date  duration  messages    gb_used      plan\n",
      "0     1000  12-2018     124.0      11.0   1.856904  ultimate\n",
      "1     1001  10-2018     393.0      53.0  21.807119      surf\n",
      "2     1001  11-2018     426.0      36.0  18.070605      surf\n",
      "3     1001  12-2018     412.0      44.0  18.915215      surf\n",
      "4     1001   8-2018     182.0      30.0   6.756982      surf\n"
     ]
    }
   ],
   "source": [
    "# Merge the data for calls, minutes, messages, internet based on user_id and month\n",
    "calls_agg= calls.groupby(['user_id', 'ud_date']).agg({'duration': 'sum'}).reset_index()\n",
    "messages_agg= messages.groupby(['user_id', 'ud_date']).size().reset_index(name= 'messages')\n",
    "internet_agg= internet.groupby(['user_id', 'ud_date']).agg({'gb_used':'sum'}).reset_index()\n",
    "\n",
    "merged_dfs= calls_agg.merge(messages_agg, on=['user_id','ud_date'], how= 'outer')\n",
    "new_dfs= merged_dfs.merge(internet_agg, on=['user_id', 'ud_date'], how= 'outer')\n",
    "\n",
    "new_df= new_dfs.merge(users[['user_id', 'plan']], on= 'user_id', how= 'outer')\n",
    "\n",
    "\n",
    "print(new_df.head())"
   ]
  },
  {
   "cell_type": "code",
   "execution_count": 32,
   "metadata": {},
   "outputs": [
    {
     "name": "stdout",
     "output_type": "stream",
     "text": [
      "   user_id  ud_date  duration  messages    gb_used\n",
      "0     1000  12-2018     124.0      11.0   1.856904\n",
      "1     1001  10-2018     393.0      53.0  21.807119\n",
      "2     1001  11-2018     426.0      36.0  18.070605\n",
      "3     1001  12-2018     412.0      44.0  18.915215\n",
      "4     1001   8-2018     182.0      30.0   6.756982\n"
     ]
    }
   ],
   "source": [
    "calls_agg = calls.groupby(['user_id', 'ud_date']).agg({'duration': 'sum'}).reset_index()\n",
    "messages_agg = messages.groupby(['user_id', 'ud_date']).size().reset_index(name='messages')\n",
    "internet_agg = internet.groupby(['user_id', 'ud_date']).agg({'gb_used': 'sum'}).reset_index()\n",
    "\n",
    "\n",
    "merged_df = calls_agg.merge(messages_agg, on=['user_id', 'ud_date'], how='outer')  \n",
    "merged_df = merged_df.merge(internet_agg, on=['user_id', 'ud_date'], how='outer')  \n",
    "\n",
    "merged_df[['duration', 'messages', 'gb_used']] = merged_df[['duration', 'messages', 'gb_used']].fillna(0)\n",
    "\n",
    "print(merged_df.head())"
   ]
  },
  {
   "cell_type": "markdown",
   "metadata": {},
   "source": [
    "<div style=\"background-color: #d4edda; color: #155724; padding: 15px; border-radius: 4px; border: 1px solid #c3e6cb;\">\n",
    "\n",
    "<b>Reviewer's comment v5</b>\n",
    " \n",
    "Added **outer** param"
   ]
  },
  {
   "cell_type": "markdown",
   "metadata": {},
   "source": [
    "<div style=\"border: 5px solid red; padding: 15px; margin: 5px\">\n",
    "<b>   Reviewer's comment 4 </b>\n",
    "    \n",
    "- I see you changed the merging method above. Please take a look at this picture: \n",
    "    \n",
    "<img \n",
    "\n",
    "When we merge messages to minutes with the left join, we lose those who sent messages but did not make any call. So we need to use `outer`.\n",
    "\n",
    "\n",
    "There will be 2293 rows in the final dataframe.\n",
    "\n",
    "</div>"
   ]
  },
  {
   "cell_type": "code",
   "execution_count": 33,
   "metadata": {},
   "outputs": [
    {
     "name": "stdout",
     "output_type": "stream",
     "text": [
      "Columns after first merge: ['user_id', 'ud_date', 'duration', 'messages', 'gb_used']\n",
      "Users in calls_agg: 481\n",
      "Users in users: 500\n",
      "Final rows: 2293\n",
      "Unique users in final result: 490\n",
      "2293\n",
      "2303\n"
     ]
    }
   ],
   "source": [
    "print(\"Columns after first merge:\", merged_df.columns.tolist())\n",
    "print(\"Users in calls_agg:\", calls_agg['user_id'].nunique())\n",
    "print(\"Users in users:\", len(users))\n",
    "print(\"Final rows:\", len(merged_df)) \n",
    "print(\"Unique users in final result:\", merged_df['user_id'].nunique())\n",
    "print(len(merged_df))\n",
    "print(len(new_df))"
   ]
  },
  {
   "cell_type": "markdown",
   "metadata": {},
   "source": [
    "<div style=\"border: 5px solid green; padding: 10px; margin: 5px\">\n",
    "<b>   Reviewer's comment 3 </b>\n",
    "    \n",
    "\n",
    "Perfect! \n",
    "\n",
    "\n",
    "</div>\n",
    "<div style=\"border: 5px solid red; padding: 10px; margin: 5px\">\n",
    "<b>   Reviewer's comment 3 </b>\n",
    "    \n",
    "\n",
    "Please note that some plans are Nans, even though you used `left`. It tells us that some user id values are missing in the users dataframe. However, we know it should not be true. So we should print the `users` dataframe and analyze it. After we do this, we will notice that it's quite limited, while it had 500 rows in the beginning. I analyzed the code above and identified the code line that entails such results. After you update the code there, everything will be great :) \n",
    "\n",
    "</div>"
   ]
  },
  {
   "cell_type": "code",
   "execution_count": 34,
   "metadata": {},
   "outputs": [
    {
     "name": "stdout",
     "output_type": "stream",
     "text": [
      "<class 'pandas.core.frame.DataFrame'>\n",
      "Int64Index: 2303 entries, 0 to 2302\n",
      "Data columns (total 6 columns):\n",
      " #   Column    Non-Null Count  Dtype  \n",
      "---  ------    --------------  -----  \n",
      " 0   user_id   2303 non-null   int64  \n",
      " 1   ud_date   2293 non-null   object \n",
      " 2   duration  2258 non-null   float64\n",
      " 3   messages  1806 non-null   float64\n",
      " 4   gb_used   2277 non-null   float64\n",
      " 5   plan      2303 non-null   object \n",
      "dtypes: float64(3), int64(1), object(2)\n",
      "memory usage: 125.9+ KB\n",
      "None\n"
     ]
    }
   ],
   "source": [
    "print(new_df.info())"
   ]
  },
  {
   "cell_type": "markdown",
   "metadata": {},
   "source": [
    "<div style=\"border: 5px solid green; padding: 10px; margin: 5px\">\n",
    "<b>   Reviewer's comment 2 </b>\n",
    "    \n",
    "Correct! We indeed need to use the `outer` merging, since we don't want to lose those clients we made some calls, but who did not use internet and/or send messages, for instance.\n",
    "</div>\n",
    "<div style=\"border: 5px solid red; padding: 10px; margin: 5px\">\n",
    "<b>   Reviewer's comment 2 </b>\n",
    "    \n",
    "However, a lot of rows are lost. The `new_df` currently has 156 rows, while the merged dataframe is supposed to have 2293. \n",
    "</div>"
   ]
  },
  {
   "cell_type": "markdown",
   "metadata": {},
   "source": [
    "<div style=\"background-color: #f8d7da; color: #721c24; padding: 15px; border-radius: 4px; border: 1px solid #f5c6cb;\"> \n",
    "\n",
    "<b>Reviewer's comment v1:</b>\n",
    "\n",
    "You need to use a different method to join the tables (by changing the how parameter). Currently, if users have made calls but have not sent messages, these records will not appear in the new table-and the same applies to Internet usage. This happens because, with the left join method, we take all the keys from the left table and look for their matches in the right table. If there are unique values in the right table, they are ignored.\n",
    "\n",
    "For this task, we need to include all records from both the right and left tables. You can learn more about join types and their differences here:\n",
    "https://www.freecodecamp.org/news/sql-join-types-inner-join-vs-outer-join-example/#:~:text=The%20biggest%20difference%20between%20an,table%20in%20the%20resulting%20table\n",
    "\n"
   ]
  },
  {
   "cell_type": "markdown",
   "metadata": {},
   "source": [
    "Here, we combine all of our datasets using the columns \"user_id\" and \"ud_date\". If you look at our earlier coding, we went through some datasets and fixed our columns with dates to be datetime values, making it easier to sort customers and plans from month and year versus counting values independently catagorized by day, which could confuse the data during processing. We start by grouping our datasets one dataset at a time with coinciding column names. Once those datasets are combined, we use different 'how=' methods to merge our dataframes completely. With the final display of our data, we can see all of our user IDs, month and year, and how much of their plan they utilized per month, as well as which plan they were under. "
   ]
  },
  {
   "cell_type": "code",
   "execution_count": 35,
   "metadata": {},
   "outputs": [
    {
     "name": "stdout",
     "output_type": "stream",
     "text": [
      "   user_id  ud_date  duration  messages    gb_used  messages_included  \\\n",
      "0     1000  12-2018     124.0      11.0   1.856904               1000   \n",
      "1     1006  11-2018      10.0      15.0   2.019893               1000   \n",
      "2     1006  12-2018      59.0     139.0  31.366035               1000   \n",
      "3     1008  10-2018     476.0      21.0  16.706045               1000   \n",
      "4     1008  11-2018     446.0      37.0  23.121797               1000   \n",
      "\n",
      "   mb_per_month_included  minutes_included  usd_monthly_pay  usd_per_gb  \\\n",
      "0                  30720              3000               70           7   \n",
      "1                  30720              3000               70           7   \n",
      "2                  30720              3000               70           7   \n",
      "3                  30720              3000               70           7   \n",
      "4                  30720              3000               70           7   \n",
      "\n",
      "   usd_per_message  usd_per_minute plan_name  \n",
      "0             0.01            0.01  ultimate  \n",
      "1             0.01            0.01  ultimate  \n",
      "2             0.01            0.01  ultimate  \n",
      "3             0.01            0.01  ultimate  \n",
      "4             0.01            0.01  ultimate  \n"
     ]
    }
   ],
   "source": [
    "# Add the plan information\n",
    "completed_df= new_df.merge(plans, left_on= 'plan', right_on='plan_name', how= 'inner')\n",
    "final_df= completed_df.drop('plan', axis=1)\n",
    "print(final_df.head())\n"
   ]
  },
  {
   "cell_type": "markdown",
   "metadata": {},
   "source": [
    "Now that all of our datasets are together under one completed dataframe, we have a full display of our customer plans streamlined in one place. This makes it easier for us to see what our customers are getting out of their service. Here, we will be able to see each month of user services per user, per month based on the customers User ID. "
   ]
  },
  {
   "cell_type": "code",
   "execution_count": 36,
   "metadata": {},
   "outputs": [
    {
     "name": "stdout",
     "output_type": "stream",
     "text": [
      "   user_id  ud_date  monthly_revenue  usd_monthly_pay\n",
      "0     1000  12-2018             70.0               70\n",
      "1     1006  11-2018             70.0               70\n",
      "2     1006  12-2018             84.0               70\n",
      "3     1008  10-2018             70.0               70\n",
      "4     1008  11-2018             70.0               70\n"
     ]
    }
   ],
   "source": [
    "# Calculate the monthly revenue for each user\n",
    "def calculate_rev(row):\n",
    "\n",
    "    monthly_fee = row['usd_monthly_pay']\n",
    "    minutes_included = row['minutes_included']\n",
    "    messages_included = row['messages_included']\n",
    "    data_included = (row['mb_per_month_included'] / 1024)\n",
    "    price_per_minute = row['usd_per_minute']\n",
    "    price_per_message = row['usd_per_message']\n",
    "    price_per_gb = row['usd_per_gb']\n",
    "\n",
    "\n",
    "    extra_minutes = max(row['duration'] - minutes_included, 0)\n",
    "    extra_messages = max(row['messages'] - messages_included, 0)\n",
    "    extra_data = max(np.ceil(row['gb_used']) - data_included, 0) \n",
    "\n",
    "    extra_minutes_charges = extra_minutes * price_per_minute\n",
    "    extra_messages_charges = extra_messages * price_per_message\n",
    "    extra_data_charges = extra_data * price_per_gb\n",
    "    \n",
    "    total_rev = monthly_fee + extra_minutes_charges + extra_messages_charges + extra_data_charges\n",
    "    return total_rev\n",
    "\n",
    "final_df['monthly_revenue'] = final_df.apply(calculate_rev, axis=1)\n",
    "final_df['monthly_revenue'] = final_df['monthly_revenue'].fillna(0)\n",
    "print(final_df[['user_id', 'ud_date', 'monthly_revenue', 'usd_monthly_pay']].head())"
   ]
  },
  {
   "cell_type": "markdown",
   "metadata": {},
   "source": [
    "In this code, we are using def to define our revenue calculations to narrow down each user and the amount they pay each month based on usage. We use the rows for each individual column (calculating for gigabytes in against the megabytes included each month). We then make calculations to subtract monthly inclusions from what the customer used from minutes, messages, and data. After that, we multiply per-minute charges from our calculations to figure out how much cost would be added to their bill from overages. To get our final calculation, we get our total revenue by adding the monthly fee, the exra minutes, extra messages, and extra data together to get a final number adding it in a new column to our dataframe. I printed user_id, ud_date (for month and year), our new column, and what expected charges monthly would be for comparison. You can see by user 1006 that in November they paid the base price for their plan, but in December, they had some overages on their account. "
   ]
  },
  {
   "cell_type": "markdown",
   "metadata": {},
   "source": [
    "<div style=\"border: 5px solid green; padding: 10px; margin: 5px\">\n",
    "<b>   Reviewer's comment 2 </b>\n",
    "    \n",
    "Good. \n",
    "\n",
    "</div>"
   ]
  },
  {
   "cell_type": "markdown",
   "metadata": {},
   "source": [
    "## Study user behaviour"
   ]
  },
  {
   "cell_type": "markdown",
   "metadata": {},
   "source": [
    "[Calculate some useful descriptive statistics for the aggregated and merged data, which typically reveal an overall picture captured by the data. Draw useful plots to help the understanding. Given that the main task is to compare the plans and decide on which one is more profitable, the statistics and the plots should be calculated on a per-plan basis.]\n",
    "\n",
    "[There are relevant hints in the comments for Calls but they are not provided for Messages and Internet though the principle of statistical study is the same for them as for Calls.]"
   ]
  },
  {
   "cell_type": "markdown",
   "metadata": {},
   "source": [
    "### Calls"
   ]
  },
  {
   "cell_type": "code",
   "execution_count": 37,
   "metadata": {},
   "outputs": [
    {
     "data": {
      "image/png": "[encoded data removed]",
      "text/plain": [
       "<Figure size 640x480 with 1 Axes>"
      ]
     },
     "metadata": {},
     "output_type": "display_data"
    }
   ],
   "source": [
    "# Compare average duration of calls per each plan per each distinct month. Plot a bar plat to visualize it.\n",
    "surf_calls= completed_df[completed_df['plan_name']== 'surf'].groupby(['ud_date'])['duration'].sum().reset_index()\n",
    "ultimate_calls= completed_df[completed_df['plan_name']== 'ultimate'].groupby(['ud_date'])['duration'].sum().reset_index()\n",
    "\n",
    "surf_calls= surf_calls.rename(columns= {'duration' : 'Surf Calls Duration'})\n",
    "ultimate_calls= ultimate_calls.rename(columns= {'duration' : 'Ultimate Calls Duration'})\n",
    "\n",
    "s_month= surf_calls.rename(columns= {'ud_date' : 'Month'})\n",
    "u_month= ultimate_calls.rename(columns= {'ud_date': 'Month'})\n",
    "\n",
    "combined_calls= pd.DataFrame({ 'Month' : u_month['Month'] , 'Surf Calls Duration': surf_calls['Surf Calls Duration'] , 'Ultimate Calls Duration' : ultimate_calls['Ultimate Calls Duration']})\n",
    "\n",
    "\n",
    "combined_calls.plot(x= 'Month', kind='bar', title= 'Call Duration Each Month Per Plan', xlabel= 'Month', ylabel= 'Call Duration')\n",
    "plt.legend(['Surf', 'Ultimate'])\n",
    "plt.show()\n"
   ]
  },
  {
   "cell_type": "markdown",
   "metadata": {},
   "source": [
    "In this graph, we see the distinction between customers who made calls each month. Based on the data, the there are longer lasting members who purchased the Ultimate package, which also didn't surpass their usage for their plan. From October to December, we had a higher usage from the Surf plans but practically came to a halt in February, and staying moderately consistent from March to July. The customers with the ultimate package look to have stuck with their plans the longest, slowing down in February and picking back up to a consistent rate in May.  "
   ]
  },
  {
   "cell_type": "code",
   "execution_count": 38,
   "metadata": {},
   "outputs": [
    {
     "data": {
      "image/png": "[encoded data removed]",
      "text/plain": [
       "<Figure size 1000x600 with 1 Axes>"
      ]
     },
     "metadata": {},
     "output_type": "display_data"
    }
   ],
   "source": [
    "# Compare the number of minutes users of each plan require each month. Plot a histogram.\n",
    "surf_durations = combined_calls['Surf Calls Duration']\n",
    "ultimate_durations = combined_calls['Ultimate Calls Duration']\n",
    "\n",
    "plt.figure(figsize= (10, 6))\n",
    "plt.hist(surf_durations, bins= 14, alpha= 0.5, label= 'Surf Plan', color= 'green')\n",
    "plt.hist(ultimate_durations, bins= 14, alpha= 0.5, label= 'Ultimate Plan', color= 'blue')\n",
    "\n",
    "\n",
    "plt.xlabel('Minutes Used')\n",
    "plt.ylabel('Number of Users')\n",
    "plt.title('Monthly Minutes Usage By Plan')\n",
    "plt.legend()\n",
    "\n",
    "\n",
    "plt.show()"
   ]
  },
  {
   "cell_type": "code",
   "execution_count": 39,
   "metadata": {},
   "outputs": [
    {
     "data": {
      "image/png": "[encoded data removed]",
      "text/plain": [
       "<Figure size 1000x800 with 1 Axes>"
      ]
     },
     "metadata": {},
     "output_type": "display_data"
    }
   ],
   "source": [
    "final_df.groupby('plan_name')['duration'].plot.hist(alpha=0.5, legend=True, bins=25, figsize=(10,8))\n",
    "\n",
    "plt.legend(['Surf', 'Ultimate'])\n",
    "plt.title('Monthly Minutes Usage By Plan')\n",
    "plt.xlabel('Minutes Used')\n",
    "plt.ylabel('Number of Users')\n",
    "plt.show()"
   ]
  },
  {
   "cell_type": "markdown",
   "metadata": {},
   "source": [
    "<div style=\"border: 5px solid green; padding: 10px; margin: 5px\">\n",
    "<b>   Reviewer's comment 4 </b>\n",
    "    \n",
    "Perfect! \n",
    "\n",
    "</div>"
   ]
  },
  {
   "cell_type": "markdown",
   "metadata": {},
   "source": [
    "<div style=\"border: 5px solid green; padding: 10px; margin: 5px\">\n",
    "<b>   Reviewer's comment 3 </b>\n",
    "    \n",
    "\n",
    "    \n",
    "Good! It will look even better after all issues are fixed :)     \n",
    "    \n",
    "</div>"
   ]
  },
  {
   "cell_type": "markdown",
   "metadata": {},
   "source": [
    "<div style=\"border: 5px solid red; padding: 15px; margin: 5px\">\n",
    "<b>   Reviewer's comment 2 </b>\n",
    "    \n",
    "**For the calls, messages, internet, and revenue analysis sections**, please try to: \n",
    "    \n",
    "    \n",
    "Take the `final_df` dataframe and plot histograms without grouping by user or month. We don't need to group data this way because our data already includes rows grouped by month for each user. Instead, we need to take the desired column and plot two histograms, one per plan. In other words, for the duration section, we will have two histograms, one per plan, that will show us minutes distribution. For this pupose, just take column with the number minutes and display histograms. \n",
    "    \n",
    "\n",
    "You can use the following piece of code and group data by plan only, thus dividing it into two parts (Surf and Ultimate), which will allow you to display two histograms:    \n",
    "\n",
    "\n",
    "```python\n",
    "\n",
    "final_df.groupby('plan_name')['duration'].plot.hist(alpha=0.5, legend=True, bins=25, figsize=(10,8))\n",
    "\n",
    "plt.legend(['Surf', 'Ultimate'])\n",
    "plt.title('Title')\n",
    "plt.xlabel('x')\n",
    "plt.ylabel('y');\n",
    "```\n",
    "    \n",
    "    \n",
    "\n",
    "</div>"
   ]
  },
  {
   "cell_type": "markdown",
   "metadata": {},
   "source": [
    "This histogram shows us the difference in minutes used per customer, per plan. In this plot, it looks like a lot more of our surf members used our services for the most minutes out of the two. Our ultimate plan had a lot less users, for a lot less time with our service."
   ]
  },
  {
   "cell_type": "markdown",
   "metadata": {},
   "source": [
    "<div style=\"background-color: #f8d7da; color: #721c24; padding: 15px; border-radius: 4px; border: 1px solid #f5c6cb;\"> \n",
    "\n",
    "<b>Reviewer's comment v1:</b>\n",
    "\n",
    "I see that unfortunately your project stops here. Could you please complete the remaining steps in it? \n",
    "\n",
    "If you need any assistance, feel free to:\n",
    "\n",
    "* Ask questions in the `#ds-questions` channel on Discord.\n",
    "* Join daily coworking sessions.\n",
    "* Schedule a one-on-one session with our tutors or TAs.\n",
    "\n",
    "I’m looking forward to seeing your updated submission!"
   ]
  },
  {
   "cell_type": "code",
   "execution_count": 40,
   "metadata": {},
   "outputs": [
    {
     "name": "stdout",
     "output_type": "stream",
     "text": [
      "The mean of monthly call duration is: 435.9375553587245\n",
      "The variance of the monthly call duration is: 53811.16800855365\n"
     ]
    }
   ],
   "source": [
    "# Calculate the mean and the variance of the monthly call duration\n",
    "mean_value= final_df['duration'].mean()\n",
    "\n",
    "variance_value= final_df['duration'].var()\n",
    "\n",
    "print(f\"The mean of monthly call duration is:\", mean_value)\n",
    "print(f\"The variance of the monthly call duration is:\", variance_value)"
   ]
  },
  {
   "cell_type": "markdown",
   "metadata": {},
   "source": [
    "In this portion of code, we see that the mean is at about 435 per month, but our variance supercedes that at a whopping 53,811. Which is far from being anywhere remotely close to the mean. This impacts consistency in our data buy showing us that some customers could be using very few of their minutes each month while others surpass their allowance each month. How can we adjust our plans to narrow the gap between our user calls each month and minimize overages?"
   ]
  },
  {
   "cell_type": "code",
   "execution_count": 41,
   "metadata": {},
   "outputs": [
    {
     "data": {
      "image/png": "[encoded data removed]",
      "text/plain": [
       "<Figure size 800x600 with 1 Axes>"
      ]
     },
     "metadata": {},
     "output_type": "display_data"
    }
   ],
   "source": [
    "# Plot a boxplot to visualize the distribution of the monthly call duration\n",
    "final_df_filled= final_df['duration'].dropna()\n",
    "\n",
    "plt.figure(figsize=(8, 6))\n",
    "plt.boxplot(final_df_filled)\n",
    "plt.title('Call Duration Distribution Monthly')\n",
    "plt.ylabel('Duration (Seconds)')\n",
    "plt.show()\n"
   ]
  },
  {
   "cell_type": "markdown",
   "metadata": {},
   "source": [
    "If we look at this box plot, the bottom of the box falls within the first quartile, so 25% of the data falls below the 250 minute range. Our orange line in the \"middle\" of the box is our median, so a right above 400 minutes per month, which leaves half of our data above and below this line. The top of our box shows the 75% of our data falling below this line. Our whiskers are showing the span of where our data starts and ends, extendind above and below this box, identifying minimum and maximum values. The circles above our whisker represents outliers. Most of our data lies between 250 to about 550 minutes each month. For our surf users, this would be considered using half if not all of their plan each month, but with the Ultimate package, they're not even using a quarter of their monthly minutes issued.  "
   ]
  },
  {
   "cell_type": "markdown",
   "metadata": {},
   "source": [
    " [Formulate conclusions on how the users behave in terms of calling. Is their behaviour different between the plans?]\n"
   ]
  },
  {
   "cell_type": "markdown",
   "metadata": {},
   "source": [
    "### Messages"
   ]
  },
  {
   "cell_type": "code",
   "execution_count": 42,
   "metadata": {},
   "outputs": [
    {
     "data": {
      "text/plain": [
       "<Figure size 1200x600 with 0 Axes>"
      ]
     },
     "metadata": {},
     "output_type": "display_data"
    },
    {
     "data": {
      "image/png": "[encoded data removed]",
      "text/plain": [
       "<Figure size 640x480 with 1 Axes>"
      ]
     },
     "metadata": {},
     "output_type": "display_data"
    }
   ],
   "source": [
    "# Compare the number of messages users of each plan tend to send each month\n",
    "\n",
    "avg_messages_per_plan = completed_df.groupby(['plan_name', 'ud_date'])['messages'].mean().reset_index()\n",
    "\n",
    "avg_messages_per_plan['ud_date'] = pd.to_datetime(avg_messages_per_plan['ud_date'])\n",
    "\n",
    "\n",
    "pivoted_data = avg_messages_per_plan.pivot(index= 'ud_date', columns= 'plan_name', values= 'messages')\n",
    "pivoted_data.index = pivoted_data.index.month_name()\n",
    "\n",
    "plt.figure(figsize=(12, 6))\n",
    "pivoted_data.plot(kind= 'bar')\n",
    "\n",
    "plt.title('Average Number of Messages Sent per Plan Each Month')\n",
    "plt.xlabel('Month')\n",
    "plt.ylabel('Average Messages Sent')\n",
    "plt.xticks(rotation= 45)\n",
    "\n",
    "plt.show()"
   ]
  },
  {
   "cell_type": "code",
   "execution_count": 43,
   "metadata": {},
   "outputs": [
    {
     "data": {
      "image/png": "[encoded data removed]",
      "text/plain": [
       "<Figure size 1000x600 with 1 Axes>"
      ]
     },
     "metadata": {},
     "output_type": "display_data"
    }
   ],
   "source": [
    "final_df.groupby('plan_name')['messages'].plot.hist(alpha=0.5, bins= 14, figsize=(10,6))\n",
    "\n",
    "plt.legend(['Surf', 'Ultimate'])\n",
    "plt.title('Distribution of Message Values per Plan')\n",
    "plt.xlabel('Message Values')\n",
    "plt.ylabel('Message Frequency Count')\n",
    "plt.show()"
   ]
  },
  {
   "cell_type": "code",
   "execution_count": 44,
   "metadata": {},
   "outputs": [
    {
     "name": "stdout",
     "output_type": "stream",
     "text": [
      "The mean of monthly messages sent is: 42.110188261351055\n",
      "The variance of the monthly messages sent is: 1097.1285720421004\n"
     ]
    }
   ],
   "source": [
    "mean_value= final_df['messages'].mean()\n",
    "\n",
    "variance_value= final_df['messages'].var()\n",
    "\n",
    "print(f\"The mean of monthly messages sent is:\", mean_value)\n",
    "print(f\"The variance of the monthly messages sent is:\", variance_value)"
   ]
  },
  {
   "cell_type": "markdown",
   "metadata": {},
   "source": [
    "In this plot, we see a distinct comparison between our surf and ultimate users based on the number of messages were sent each month. Upon inspection, we see a consistent usage until december from our ultimate plan, leaving them still well under the mark for their usage cap for the month. On the other hand, our surf customers are rising towards the end of the year, capping or hitting overages on their text amounts, bringing extra charges to their bill each month, per extra text sent. Upon looking at the mean and variance for this comparison, we see another catagory of our services that are spread out from eachother, which could impact our service integrety to our customers. This means we are really inconsistent month to month with some of our plan attributes."
   ]
  },
  {
   "cell_type": "code",
   "execution_count": 45,
   "metadata": {},
   "outputs": [
    {
     "data": {
      "text/plain": [
       "<Figure size 1200x600 with 0 Axes>"
      ]
     },
     "metadata": {},
     "output_type": "display_data"
    },
    {
     "data": {
      "image/png": "[encoded data removed]",
      "text/plain": [
       "<Figure size 640x480 with 1 Axes>"
      ]
     },
     "metadata": {},
     "output_type": "display_data"
    }
   ],
   "source": [
    "#Compare the amount of internet traffic consumed by users per plan\n",
    "avg_gigs_per_plan = completed_df.groupby(['plan_name'])['gb_used'].mean().reset_index()\n",
    "\n",
    "plt.figure(figsize=(12, 6))\n",
    "avg_gigs_per_plan.plot(kind= 'bar')\n",
    "\n",
    "plt.title('Average Internet Traffic Used per Plan')\n",
    "plt.xlabel('Surf and Ultimate')\n",
    "plt.ylabel('Average Internet Traffic (GB)')\n",
    "plt.show()\n",
    "\n"
   ]
  },
  {
   "cell_type": "code",
   "execution_count": 46,
   "metadata": {},
   "outputs": [
    {
     "data": {
      "image/png": "[encoded data removed]",
      "text/plain": [
       "<Figure size 1000x800 with 1 Axes>"
      ]
     },
     "metadata": {},
     "output_type": "display_data"
    }
   ],
   "source": [
    "final_df.groupby('plan_name')['gb_used'].plot.hist(alpha=0.5, figsize=(10,8))\n",
    "\n",
    "plt.legend(['Surf', 'Ultimate'])\n",
    "plt.title('Average Internet Traffic Used per Plan')\n",
    "plt.xlabel('Average Internet Traffic (GB)')\n",
    "plt.ylabel('Users Utilizing Internet')\n",
    "plt.show()"
   ]
  },
  {
   "cell_type": "markdown",
   "metadata": {},
   "source": [
    "In this plot, the x-axis represents gb used. The y-axis represents the data points that fall into each bin on the x-axis. So, the height of each bar in the histogram shows us how many users within each plan_name used a certain amount of gigabytes within the bin range. "
   ]
  },
  {
   "cell_type": "code",
   "execution_count": 47,
   "metadata": {},
   "outputs": [
    {
     "name": "stdout",
     "output_type": "stream",
     "text": [
      "The mean of monthly internet traffic is: 16.486520997165954\n",
      "The variance of the monthly internet traffic is: 59.064401196932614\n"
     ]
    }
   ],
   "source": [
    "mean_value= final_df['gb_used'].mean()\n",
    "\n",
    "variance_value= final_df['gb_used'].var()\n",
    "\n",
    "print(f\"The mean of monthly internet traffic is:\", mean_value)\n",
    "print(f\"The variance of the monthly internet traffic is:\", variance_value)\n"
   ]
  },
  {
   "cell_type": "markdown",
   "metadata": {},
   "source": [
    "[Formulate conclusions on how the users behave in terms of messaging. Is their behaviour different between the plans?]"
   ]
  },
  {
   "cell_type": "markdown",
   "metadata": {},
   "source": [
    " "
   ]
  },
  {
   "cell_type": "markdown",
   "metadata": {},
   "source": [
    "Based on my statistical analysis, it looks like our ultimate members aren't even peaking their capacity for their service packages.\n",
    "Surf members easily go over their service limits when they do use their phone plan on a regular basis. "
   ]
  },
  {
   "cell_type": "markdown",
   "metadata": {},
   "source": [
    "It looks like we have more customers that go for the ultimate package for fear of easily gaining cost of overages on their accounts each month. For the ones who did purchase the ultimate package, are they really getting their moneys worth? There seems to be pretty consistent usage between both surf and ultimate plans. So, no matter the cost of the plan, there is roughly the same amount of usage between both surf and ultimate customers. On the plus side, our mean and variance are closer in range than our other benefits that come with services, but as far as the scale is concerned, I wouldn't necessisarily say it as good news. We still have plans surpassing over their limited usage, where others aren't peaking their usage potential."
   ]
  },
  {
   "cell_type": "markdown",
   "metadata": {},
   "source": [
    "<div style=\"border: 5px solid green; padding: 10px; margin: 5px\">\n",
    "<b>   Reviewer's comment 3 </b>\n",
    "    \n",
    "\n",
    "Good! \n",
    "    \n",
    "</div>"
   ]
  },
  {
   "cell_type": "markdown",
   "metadata": {},
   "source": [
    "<div style=\"border: 5px solid red; padding: 10px; margin: 5px\">\n",
    "<b>   Reviewer's comment 2 </b>\n",
    "\n",
    "\n",
    "For the messages and internet sections, please make sure to: \n",
    "    \n",
    "    \n",
    "- Display 2 histograms like I show in the calls section.\n",
    "    \n",
    "    \n",
    "\n",
    "    \n",
    "- Display the statistics like you did in the calls section. \n",
    "\n",
    "\n",
    "\n",
    "\n",
    " </div>"
   ]
  },
  {
   "cell_type": "markdown",
   "metadata": {},
   "source": [
    "### Internet"
   ]
  },
  {
   "cell_type": "code",
   "execution_count": 48,
   "metadata": {},
   "outputs": [
    {
     "data": {
      "image/png": "[encoded data removed]",
      "text/plain": [
       "<Figure size 1000x800 with 1 Axes>"
      ]
     },
     "metadata": {},
     "output_type": "display_data"
    }
   ],
   "source": [
    "final_df.groupby('plan_name')['gb_used'].plot.hist(alpha=0.5, figsize=(10,8))\n",
    "\n",
    "plt.legend(['Surf', 'Ultimate'])\n",
    "plt.title('Internet Usage per Plan')\n",
    "plt.xlabel('Internet Usage (GB)')\n",
    "plt.ylabel('Users Utilizing Internet Services')\n",
    "plt.show()"
   ]
  },
  {
   "cell_type": "code",
   "execution_count": 49,
   "metadata": {},
   "outputs": [
    {
     "name": "stdout",
     "output_type": "stream",
     "text": [
      "The mean of surf internet usage is: 16.325880993511312\n",
      "The variance of surf internet usage is: 59.28824019139142\n",
      "The mean of ultimate internet usage is: 16.834611575321627\n",
      "The variance of ultimate internet usage is: 58.48393247695561\n"
     ]
    }
   ],
   "source": [
    "surf_mean= final_df[final_df['plan_name']== 'surf']['gb_used'].mean()\n",
    "surf_var= final_df[final_df['plan_name']=='surf']['gb_used'].var()\n",
    "\n",
    "ultimate_mean= final_df[final_df['plan_name']== 'ultimate']['gb_used'].mean()\n",
    "ultimate_var= final_df[final_df['plan_name']== 'ultimate']['gb_used'].var()\n",
    "\n",
    "print(f\"The mean of surf internet usage is:\", surf_mean)\n",
    "print(f\"The variance of surf internet usage is:\", surf_var)\n",
    "print(f\"The mean of ultimate internet usage is:\", ultimate_mean)\n",
    "print(f\"The variance of ultimate internet usage is:\", ultimate_var)"
   ]
  },
  {
   "cell_type": "markdown",
   "metadata": {},
   "source": [
    "This one was a bit silly to me, the surf plan consistently meets the mark at 15 gigabytes each month if not slightly over. Whereas the Ultimate package meets at roughly the same amount even with there being a 30 gigabyte capacity. Even with Surf having a capacity of 15 gigs on the service plan, it still surpasses usage by a few percent the issue with this is that there are overages that add cost to the bill per month for these customers. Ultimate is getting offered 30 gigs and hardly meeting that mark. Is there a potential to close this gap? These two plans and their users aren't showing much difference in data usage between plans. Their behavior is about the same. I anticipated that the ultimate users would maintain using up more of their data since it's included in their plan, but it falls under the amount of usage that the surf plan is using. With the mean and variance of each plan, I have some thoughts. The surf plan has a mean of 16.33, which we see displayed through the data prior. The variance, however, is at 59.28 which shows us that it is spread far from 16.33 leaving us with inconsistent usage per month and overages on data. For the ultimate package, we have a mean of 16.84 and a variance of 58.49. This is about the same compared to our surf package, it's about as far from the mean, and that leaves us with still sparatic usage and a the same inconsistency."
   ]
  },
  {
   "cell_type": "markdown",
   "metadata": {},
   "source": [
    "<div style=\"border: 5px solid green; padding: 10px; margin: 5px\">\n",
    "<b>   Reviewer's comment 4 </b>\n",
    "    \n",
    "Great job! \n",
    "</div>"
   ]
  },
  {
   "cell_type": "markdown",
   "metadata": {},
   "source": [
    "<div style=\"border: 5px solid gold; padding: 10px; margin: 5px\">\n",
    "<b>   Reviewer's comment 3 </b>\n",
    "    \n",
    "\n",
    "Please note that the results may change.    \n",
    "</div>"
   ]
  },
  {
   "cell_type": "markdown",
   "metadata": {},
   "source": [
    "<div style=\"border: 5px solid red; padding: 10px; margin: 5px\">\n",
    "<b>   Reviewer's comment 2 </b>\n",
    "\n",
    "\n",
    "Same issues. We need to:     \n",
    "    \n",
    "- Display 2 histograms like I show in the calls section.\n",
    "    \n",
    "    \n",
    "\n",
    "    \n",
    "- Display the statistics like you did in the calls section. \n",
    "\n",
    "\n",
    "\n",
    "\n",
    " </div>"
   ]
  },
  {
   "cell_type": "markdown",
   "metadata": {},
   "source": [
    "[Formulate conclusions on how the users tend to consume the internet traffic? Is their behaviour different between the plans?]"
   ]
  },
  {
   "cell_type": "markdown",
   "metadata": {},
   "source": [
    " "
   ]
  },
  {
   "cell_type": "markdown",
   "metadata": {},
   "source": [
    "## Revenue"
   ]
  },
  {
   "cell_type": "markdown",
   "metadata": {},
   "source": [
    "[Likewise you have studied the user behaviour, statistically describe the revenue between the plans.]"
   ]
  },
  {
   "cell_type": "code",
   "execution_count": 50,
   "metadata": {},
   "outputs": [
    {
     "data": {
      "image/png": "[encoded data removed]",
      "text/plain": [
       "<Figure size 1000x800 with 1 Axes>"
      ]
     },
     "metadata": {},
     "output_type": "display_data"
    }
   ],
   "source": [
    "final_df.groupby('plan_name')['monthly_revenue'].plot.hist(alpha=0.5, figsize=(10,8))\n",
    "\n",
    "plt.legend(['Surf', 'Ultimate'])\n",
    "plt.title('Monthly Revenue per Plan')\n",
    "plt.xlabel('Monthly Revenue')\n",
    "plt.ylabel('Users Purchasing Services')\n",
    "plt.show()"
   ]
  },
  {
   "cell_type": "code",
   "execution_count": 51,
   "metadata": {},
   "outputs": [
    {
     "name": "stdout",
     "output_type": "stream",
     "text": [
      "count    2303.000000\n",
      "mean       49.119709\n",
      "std        47.664383\n",
      "min         0.000000\n",
      "25%        20.000000\n",
      "50%        42.730000\n",
      "75%        70.000000\n",
      "max       590.370000\n",
      "Name: monthly_revenue, dtype: float64\n",
      "            count       mean        std  min   25%    50%    75%     max\n",
      "plan_name                                                               \n",
      "surf       1579.0  45.149265  53.253143  0.0   0.0  22.58  64.51  590.37\n",
      "ultimate    724.0  57.779006  30.570252  0.0  70.0  70.00  70.00  182.00\n",
      "            count       mean        std   min      25%     50%      75%  \\\n",
      "plan_name                                                                 \n",
      "surf       1180.0  60.415839  53.595739  20.0  20.0225  41.035  80.2325   \n",
      "ultimate    579.0  72.248705  11.034406  70.0  70.0000  70.000  70.0000   \n",
      "\n",
      "              max  \n",
      "plan_name          \n",
      "surf       590.37  \n",
      "ultimate   182.00  \n"
     ]
    }
   ],
   "source": [
    "print(final_df['monthly_revenue'].describe())\n",
    "print(final_df.groupby('plan_name')['monthly_revenue'].describe())\n",
    "print(final_df[final_df['monthly_revenue'] > 0].groupby('plan_name')['monthly_revenue'].describe())"
   ]
  },
  {
   "cell_type": "markdown",
   "metadata": {},
   "source": [
    "In this histogram, it seems to look a little off, with some inspection, I have discovered that this is a histogram processed with entries from both plans that include 0 values. This may still be necessary, so I'd like to leave this information here and make adjustments to show revenue strictly off of the money we are drawing in from customers that pay a dollar amount."
   ]
  },
  {
   "cell_type": "code",
   "execution_count": 52,
   "metadata": {},
   "outputs": [
    {
     "data": {
      "image/png": "[encoded data removed]",
      "text/plain": [
       "<Figure size 1000x800 with 1 Axes>"
      ]
     },
     "metadata": {},
     "output_type": "display_data"
    }
   ],
   "source": [
    "dropped_final_df= final_df[final_df['monthly_revenue'] != 0]\n",
    "\n",
    "dropped_final_df.groupby('plan_name')['monthly_revenue'].plot.hist(alpha=0.5, figsize=(10,8))\n",
    "\n",
    "plt.legend(['Surf', 'Ultimate'])\n",
    "plt.title('Monthly Revenue per Plan')\n",
    "plt.xlabel('Monthly Revenue')\n",
    "plt.ylabel('Users Purchasing Services')\n",
    "plt.show()"
   ]
  },
  {
   "cell_type": "code",
   "execution_count": 53,
   "metadata": {},
   "outputs": [
    {
     "name": "stdout",
     "output_type": "stream",
     "text": [
      "The mean of surf revenue is: 45.149265357821406\n",
      "The variance of surf revenue is: 2835.897248762874\n",
      "The mean of ultimate revenue is: 57.77900552486188\n",
      "The variance of ultimate revenue is: 934.540305510343\n"
     ]
    }
   ],
   "source": [
    "surf_mean= final_df[final_df['plan_name']== 'surf']['monthly_revenue'].mean()\n",
    "surf_var= final_df[final_df['plan_name']=='surf']['monthly_revenue'].var()\n",
    "\n",
    "ultimate_mean= final_df[final_df['plan_name']== 'ultimate']['monthly_revenue'].mean()\n",
    "ultimate_var= final_df[final_df['plan_name']== 'ultimate']['monthly_revenue'].var()\n",
    "\n",
    "print(f\"The mean of surf revenue is:\", surf_mean)\n",
    "print(f\"The variance of surf revenue is:\", surf_var)\n",
    "print(f\"The mean of ultimate revenue is:\", ultimate_mean)\n",
    "print(f\"The variance of ultimate revenue is:\", ultimate_var)"
   ]
  },
  {
   "cell_type": "code",
   "execution_count": 54,
   "metadata": {},
   "outputs": [
    {
     "name": "stdout",
     "output_type": "stream",
     "text": [
      "The mean of surf revenue is: 60.41583898305085\n",
      "The variance of surf revenue is: 2872.5032153260454\n",
      "The mean of ultimate revenue is: 72.24870466321244\n",
      "The variance of ultimate revenue is: 121.75810818079141\n"
     ]
    }
   ],
   "source": [
    "surf_mean= dropped_final_df[dropped_final_df['plan_name']== 'surf']['monthly_revenue'].mean()\n",
    "surf_var= dropped_final_df[dropped_final_df['plan_name']=='surf']['monthly_revenue'].var()\n",
    "\n",
    "ultimate_mean= dropped_final_df[dropped_final_df['plan_name']== 'ultimate']['monthly_revenue'].mean()\n",
    "ultimate_var= dropped_final_df[dropped_final_df['plan_name']== 'ultimate']['monthly_revenue'].var()\n",
    "\n",
    "print(f\"The mean of surf revenue is:\", surf_mean)\n",
    "print(f\"The variance of surf revenue is:\", surf_var)\n",
    "print(f\"The mean of ultimate revenue is:\", ultimate_mean)\n",
    "print(f\"The variance of ultimate revenue is:\", ultimate_var)"
   ]
  },
  {
   "cell_type": "markdown",
   "metadata": {},
   "source": [
    "I definetely think having multiple plans is useful. A plan (Surf) that gives you less, at an affordable price, for users who may not need as much access to their phones or the qualities applied to their plans. An even bigger plan (Ultimate) that offers you more, at a larger price, for users who need more access to the benefits of having more messages, calling, and internet.There are some very large gaps that could be closed in this data. It could be as simple as adapting some of the benefits of each plan to level out usage between all customers, or even creating a 3rd plan to close those gaps. One that is a step above the surf plan, but with limitations under the Ultimate plan, landing you right in the middle of both. I think that 20 USD sounds promising, but you're held on a pretty strict limit as far as service goes. With the data I've seen above, it sounds awesome until you pay 7 USD per gigabyte over your plan, or 0.03 Cents per text message (I'm assuming sent or recieved) on your plan for an overage, and your minutes round up to the next number for a call even at .01 seconds. It will easily turn from a 20 USD monthly bill to significantly more if you aren't paying attention. As far as the Ultimate plan is concerned, they aren't getting anywhere near 1,000 text per month in this data, haven't even closed in on 30 gigs per month in internet, and aren't near 3,000 minutes in calls per month. I think if they were paying an exact price to reap the benefits of the ultimate plan, wouldn't they want to get their money's worth? If they saw the amount of usage in comparison to what they were paying each month, would they be satisfied or would they feel as though they were overpaying? When looking at the mean and variance for each of these plans is interesting. If we drop the 0 values in the data, we see the mean for surf is at 60.27 for actual paying customers. With the 0 value still implemented, the mean rests at 43.21. Regardless of the zero value, the variance is really high in comparison, displaying positively skewed distribution. On the ultimate plan with the 0 value left in the data, the mean is at 57, and without at 70.5. Something I noticed that was strange was that with the zero value left in the data, the variance for ultimate was 791.74, but without the zero values, off of just customers that pay, it's at 5.71. So looking at both of these is important, it shows how much we rely on a headcount, versus the ones who are consistently paying with plans, or just paying speratically."
   ]
  },
  {
   "cell_type": "markdown",
   "metadata": {},
   "source": [
    "<div style=\"border: 5px solid green; padding: 10px; margin: 5px\">\n",
    "<b>   Reviewer's comment 3 </b>\n",
    "    \n",
    "\n",
    "Excellent!     \n",
    "</div>"
   ]
  },
  {
   "cell_type": "markdown",
   "metadata": {},
   "source": [
    "<div style=\"border: 5px solid red; padding: 10px; margin: 5px\">\n",
    "<b>   Reviewer's comment 2 </b>\n",
    "\n",
    "\n",
    "And here :) \n",
    "\n",
    "\n",
    " </div>"
   ]
  },
  {
   "cell_type": "markdown",
   "metadata": {},
   "source": [
    "[Formulate conclusions about how the revenue differs between the plans.]"
   ]
  },
  {
   "cell_type": "markdown",
   "metadata": {},
   "source": [
    " "
   ]
  },
  {
   "cell_type": "markdown",
   "metadata": {},
   "source": [
    "## Test statistical hypotheses"
   ]
  },
  {
   "cell_type": "markdown",
   "metadata": {},
   "source": [
    "[Test the hypothesis that the average revenue from users of the Ultimate and Surf calling plans differs.]"
   ]
  },
  {
   "cell_type": "markdown",
   "metadata": {},
   "source": [
    "[Formulate the null and the alternative hypotheses, choose the statistical test, decide on the alpha value.]"
   ]
  },
  {
   "cell_type": "markdown",
   "metadata": {},
   "source": [
    "<div style=\"border: 5px solid red; padding: 10px; margin: 5px\">\n",
    "<b>   Reviewer's comment 3 </b>\n",
    "    \n",
    "\n",
    "Please try to formulate both H0 and H1 for each test here. This is important, as the test we choose depends on how we formulate the hypotheses.      \n",
    "</div>"
   ]
  },
  {
   "cell_type": "markdown",
   "metadata": {},
   "source": [
    "<div style=\"border: 5px solid red; padding: 15px; margin: 5px\">\n",
    "<b>   Reviewer's comment 2 </b>\n",
    "    \n",
    "Here we need to explain how we formulate H0 and H1.\n",
    "\n",
    "\n",
    "    H0: the average revenue values from users of the Ultimate and Surf calling plans ... <complete the text here please>\n",
    "    \n",
    "    H1: the average revenue values from users of the Ultimate and Surf calling plans ... <complete the text here please>\n",
    "\n",
    "\n",
    "\n",
    "Please refer to this chapter: https://tripleten.com/trainer/data-scientist/lesson/00ffe2cd-e01b-4fcf-9db4-3e6b54a68673/task/6fa5cec0-c1b5-4be9-953a-3487d3856cd9/?from=program\n",
    "\n",
    "</div>\n"
   ]
  },
  {
   "cell_type": "code",
   "execution_count": 55,
   "metadata": {},
   "outputs": [
    {
     "name": "stdout",
     "output_type": "stream",
     "text": [
      "p-value:  3.139022969006767e-09\n",
      "We reject the null hypothesis: Revenue differs between the plans.\n"
     ]
    }
   ],
   "source": [
    "# Test the hypotheses\n",
    "ultimate_revenue = final_df[final_df['plan_name']=='ultimate']['monthly_revenue']\n",
    "surf_revenue = final_df[final_df['plan_name']== 'surf']['monthly_revenue']\n",
    "\n",
    "alpha = 0.05\n",
    "\n",
    "results = st.ttest_ind(ultimate_revenue, surf_revenue)\n",
    "\n",
    "print('p-value: ', results.pvalue)\n",
    "\n",
    "\n",
    "if results.pvalue < alpha:\n",
    "    print(\"We reject the null hypothesis: Revenue differs between the plans.\")\n",
    "else:\n",
    "    print(\"We can't reject the null hypothesis: Revenue does not differ significantly between the plans.\")\n",
    "\n"
   ]
  },
  {
   "cell_type": "markdown",
   "metadata": {},
   "source": [
    "H0: The average revenue from Ultimate plan users equals the average revenue from Surf plan users.\n",
    "\n",
    "H1: The average revenue from Ultimate plan users does not equal the average revenue from Surf plan users.\n",
    "\n",
    "In this hypotheses we want to test if the ultimate and surf plans have equal revenue, or if one will be higher or lower. In testing my hypothesis, we catagorize each plan by monthly revenue. I use an \"if\" statement to show relative outcome for our tests to display what our hypothesis states. Our probability value is less than our aplha of 0.05. With that being the case, we reject the null hypotheses, meaning we have enough information for it to be statistically significant. With an annual revenue of subscribers using the Ultimate plan, we draw in roughly 52,050 USD annually. While the surf plan brings in less than half of that, at a total revenue of 25,534 annually. Ultimate plan is definitely the money maker in this company. "
   ]
  },
  {
   "cell_type": "markdown",
   "metadata": {},
   "source": [
    "<div style=\"border: 5px solid green; padding: 10px; margin: 5px\">\n",
    "<b>   Reviewer's comment 4 </b>\n",
    "   \n",
    "Correct. The null hypothesis always includes the equality sign (`=`). This is because the test does not understand exactly how we set the problem: we can say, for instance, let's make sure that they are not equal. Or that they are equal. And regardless of the purpose of our study, we always put equality at null hypothesis. Then the test result is interpreted correctly.\n",
    "\n",
    "</div>   "
   ]
  },
  {
   "cell_type": "markdown",
   "metadata": {},
   "source": [
    "[Test the hypothesis that the average revenue from users in the NY-NJ area is different from that of the users from the other regions.]"
   ]
  },
  {
   "cell_type": "markdown",
   "metadata": {},
   "source": [
    "<div style=\"border: 5px solid red; padding: 15px; margin: 5px\">\n",
    "<b>   Reviewer's comment 2 </b>\n",
    "    \n",
    "How would H0 and H1 sound? Please add wordings here as well. \n",
    "\n",
    "</div>"
   ]
  },
  {
   "cell_type": "code",
   "execution_count": 56,
   "metadata": {},
   "outputs": [
    {
     "name": "stdout",
     "output_type": "stream",
     "text": [
      "p-value:  0.004959217665846483\n",
      "We reject the null hypothesis: Revenue differs between NY-NJ and other regions.\n"
     ]
    }
   ],
   "source": [
    "last_df= final_df.merge(users[['user_id', 'city']], on= 'user_id', how= 'outer')\n",
    "\n",
    "ny_nj_revenue = last_df[last_df['city'] == 'New York-Newark-Jersey City, NY-NJ-PA MSA']['monthly_revenue']\n",
    "other_revenue = last_df[last_df['city'] != 'New York-Newark-Jersey City, NY-NJ-PA MSA']['monthly_revenue']\n",
    "\n",
    "alpha = 0.05\n",
    "\n",
    "results = st.ttest_ind(ny_nj_revenue, other_revenue)\n",
    "\n",
    "print('p-value: ', results.pvalue)\n",
    "\n",
    "\n",
    "if results.pvalue < alpha:\n",
    "    print(\"We reject the null hypothesis: Revenue differs between NY-NJ and other regions.\")\n",
    "else:\n",
    "    print(\"We can't reject the null hypothesis: Revenue does not differ significantly between NY-NJ and other regions.\")\n"
   ]
  },
  {
   "cell_type": "markdown",
   "metadata": {},
   "source": [
    "<div style=\"border: 5px solid green; padding: 10px; margin: 5px\">\n",
    "<b>   Reviewer's comment 2 </b>\n",
    "    \n",
    "Makes sense! Anytime you see zero or Nan instead of some other number for p-value, it may be reasonable to look for a mistake or some inconsistency in the data. \n",
    "    \n",
    "</div>"
   ]
  },
  {
   "cell_type": "markdown",
   "metadata": {},
   "source": [
    "H0: The average revenue from NY/NJ users equals the average revenue from other all other regions.\n",
    "\n",
    "H1: The average revenue from NY/NJ users does not equal the average revenue from all other regions.\n",
    "\n",
    "\n",
    "So, in this hypotheses, we identified that we reject H0. This means there is a statistically significant difference between NY-NJ revenue and other regions' revenue. The hypothesis here stating that we assume the revenue would be the same in NY-NJ versus all other regions of service. There is enough evidence to test the hypothesis being rejected from our alpha being that our p-value is at a 0.005 and our alpha is 0.05. There is statically significant evidence to project our assumption. There is evidence that the average revenue from NY-NJ users (42.83 USD) is than the average revenue from other regions (which is 50.36 USD), with other regions generating approximately 7.53 USD more per user on average. This could stem from having cheaper options in this specific area or less visibility of what we have to offer."
   ]
  },
  {
   "cell_type": "markdown",
   "metadata": {},
   "source": [
    "<div style=\"border: 5px solid green; padding: 10px; margin: 5px\">\n",
    "<b>   Reviewer's comment 4 </b>\n",
    "   \n",
    "Excellent! \n",
    "\n",
    "</div>   "
   ]
  },
  {
   "cell_type": "markdown",
   "metadata": {},
   "source": [
    "[Formulate the null and the alternative hypotheses, choose the statistical test, decide on the alpha value.]"
   ]
  },
  {
   "cell_type": "markdown",
   "metadata": {},
   "source": [
    "## General conclusion\n",
    "\n",
    "[List your important conclusions in this final section, make sure they cover all those important decisions (assumptions) that you've made and that led you to the way you processed and analyzed the data.]"
   ]
  },
  {
   "cell_type": "markdown",
   "metadata": {},
   "source": [
    " "
   ]
  },
  {
   "cell_type": "markdown",
   "metadata": {},
   "source": [
    "In this project, I cleaned up a lot of data. I uploaded datasets, checked on general information and values in these datasets (using .head() and .info()), I dropped missing values (using .dropna()), enriched the data with conversions (MB to GB and generalized dates to datetime), and after cleaning up the data, I moved onto aggregating it. Aggregating the data consisted of merging multiple datasets with common column names to get them all to one place. In doing so, I was able to decipher the number of calls made monthly, the number of minutes used monthly, and internet usage per month. I did this using .groupby() to make a few new datasets that I would then merge into a newer, larger dataset. This came in handy when I merged all of the new datasets and created a final dataframe that would be useful for when I plotted and distinguished different but necessary aspects for the data. "
   ]
  },
  {
   "cell_type": "markdown",
   "metadata": {},
   "source": [
    "I made a bar plot to compare call averages on each plan, made a histogram to compare internet usage per plan, created a box plot to display what percentile most of our call durations were averaging, a bar plot for how many messages were sent each month per plan, and a bar plot comparing internet usage on each plan. The information gathered here showed me a lot of regarding which plans were fulfilling the bar that was set for each service plan. A lot of users perfer the ultimate plan which gives you more minutes, messages, and internet for a higher price. After the beginning of the year, people started to purchase and utilize the surf plan, which seems pretty easy for customers to get overages on. The use of internet caps at 15 GB per month and surf users averaged at about 16.33 GB per month. Whereas ultimate users are given 30 GB per month, but averaged roughly the same as the surf users. While performing mean and variance between the two service plans, I noticed a huge gap for the call duration. The mean of monthly call duration is 405.6 and the variance was 40,037 per month. This means that the calls per month are widely spread out for the mean, minimizing this number is key to keeping customer experiences consistent. This could be easily fixed. I propose that they either modify the current plans to close this gap, or simply make a third plan that makes a happy medium between these two services. I came across a lot of missing values when processing some of the data, most I had realized were of numerical importance anyways, so I replaced a lot of the NaN values with 0, to make the processing read better. I tested a couple of different hypotheses regarding general revenue, and then again but more specified to New York and New Jersey. As per my hypotheses, I tested the difference in revenue from Surf and Ultimate and discovered that most of our revenue does come from our ultimate users, anually, they bring in over 50,000 USD. I followed up with testing a hypotheses on our customers in New York and New Jersey and saw a NaN result for my t-statistic and my p-value, so I followed up by running a few tests regarding my code and saw in fact that we do not have customers paying for our services in this area. Finally, I tested a hypotheses on New York and New Jersey versus everywhere else and came to the conclusion that the samples provided for both NY/NJ and everywhere else show that the null hypotheses is likely false. Giving us that these statistics are unlikely to have occured by random chance. So of course, everywhere else is drawing in more revenue than NY/NJ which is bringing in no revenue at all. Overall, the ultimate plan is the money-maker in the service department, but making adjustments to the surf plan or possibly drawing up another plan to meet in the middle might level out some differences in the data provided and users. Overall, there's so many unused service benefits in the ultimate plan that our users have not reached. On the other hand, it's rather easy for our surf members to surpass their benefits. It would do the company well to make a middle teir plan to give customers the opportunity to avoid overages without having to commit to an extremely high bill each month for benefits they may not fulfill.\n"
   ]
  },
  {
   "cell_type": "markdown",
   "metadata": {},
   "source": [
    "<div style=\"border: 5px solid green; padding: 10px; margin: 5px\">\n",
    "<b>   Reviewer's comment 2 </b>\n",
    "\n",
    "\n",
    "\n",
    "    \n",
    "The conclusion is written well, great job!  \n",
    "\n",
    "</div>\n",
    "\n",
    "<div style=\"border: 5px solid red; padding: 10px; margin: 5px\">\n",
    "<b>   Reviewer's comment 2 </b>\n",
    "    \n",
    "Don't forget to modify it if needed. \n",
    "</div>"
   ]
  },
  {
   "cell_type": "code",
   "execution_count": null,
   "metadata": {},
   "outputs": [],
   "source": []
  },
  {
   "cell_type": "code",
   "execution_count": null,
   "metadata": {},
   "outputs": [],
   "source": []
  }
 ],
 "metadata": {
  "ExecuteTimeLog": [
   {
    "duration": 828,
    "start_time": "2021-11-16T09:21:11.304Z"
   },
   {
    "duration": 893,
    "start_time": "2021-11-16T09:21:17.728Z"
   },
   {
    "duration": 1150,
    "start_time": "2021-11-16T09:21:29.568Z"
   },
   {
    "duration": 3,
    "start_time": "2021-11-16T09:24:14.495Z"
   },
   {
    "duration": 120,
    "start_time": "2021-11-16T09:24:46.630Z"
   },
   {
    "duration": 3,
    "start_time": "2021-11-16T09:28:27.882Z"
   },
   {
    "duration": 4,
    "start_time": "2021-11-16T09:29:54.281Z"
   },
   {
    "duration": 3,
    "start_time": "2021-11-16T09:30:45.936Z"
   },
   {
    "duration": 4,
    "start_time": "2021-11-16T09:31:06.300Z"
   },
   {
    "duration": 113,
    "start_time": "2021-11-16T09:31:37.208Z"
   },
   {
    "duration": 143,
    "start_time": "2021-11-16T09:31:48.656Z"
   },
   {
    "duration": 98,
    "start_time": "2021-11-16T09:31:55.678Z"
   },
   {
    "duration": 3,
    "start_time": "2021-11-16T09:32:08.535Z"
   },
   {
    "duration": 111,
    "start_time": "2021-11-16T09:32:10.120Z"
   },
   {
    "duration": 3,
    "start_time": "2021-11-16T09:32:15.732Z"
   },
   {
    "duration": 4,
    "start_time": "2021-11-16T09:32:29.423Z"
   },
   {
    "duration": 3,
    "start_time": "2021-11-16T10:03:03.074Z"
   },
   {
    "duration": 3,
    "start_time": "2021-11-16T10:10:01.288Z"
   },
   {
    "duration": 3,
    "start_time": "2021-11-16T10:10:46.923Z"
   },
   {
    "duration": 121,
    "start_time": "2021-11-16T10:37:46.494Z"
   },
   {
    "duration": 125,
    "start_time": "2021-11-16T10:38:20.632Z"
   },
   {
    "duration": 112,
    "start_time": "2021-11-16T10:46:53.001Z"
   },
   {
    "duration": 110,
    "start_time": "2021-11-16T10:48:25.775Z"
   },
   {
    "duration": 3,
    "start_time": "2021-11-16T10:50:18.720Z"
   },
   {
    "duration": 4,
    "start_time": "2021-11-16T10:50:37.649Z"
   },
   {
    "duration": 2,
    "start_time": "2021-11-16T10:50:51.884Z"
   },
   {
    "duration": 3,
    "start_time": "2021-11-16T10:51:56.237Z"
   },
   {
    "duration": 101,
    "start_time": "2021-11-16T10:53:13.791Z"
   },
   {
    "duration": 3,
    "start_time": "2021-11-16T10:55:59.186Z"
   },
   {
    "duration": 3,
    "start_time": "2021-11-16T10:56:10.751Z"
   },
   {
    "duration": 3,
    "start_time": "2021-11-16T10:56:49.038Z"
   },
   {
    "duration": 3,
    "start_time": "2021-11-16T10:56:49.174Z"
   },
   {
    "duration": 4,
    "start_time": "2021-11-16T10:56:49.414Z"
   },
   {
    "duration": 3,
    "start_time": "2021-11-16T10:56:49.680Z"
   },
   {
    "duration": 3,
    "start_time": "2021-11-16T10:56:50.370Z"
   },
   {
    "duration": 114,
    "start_time": "2021-11-16T10:59:34.518Z"
   },
   {
    "duration": 3,
    "start_time": "2021-11-16T11:01:41.201Z"
   },
   {
    "duration": 116,
    "start_time": "2021-11-16T11:01:48.754Z"
   },
   {
    "duration": 3,
    "start_time": "2021-11-16T11:02:16.685Z"
   },
   {
    "duration": 3,
    "start_time": "2021-11-16T11:02:19.479Z"
   },
   {
    "duration": 3,
    "start_time": "2021-11-16T11:02:47.067Z"
   },
   {
    "duration": 3,
    "start_time": "2021-11-16T11:02:49.353Z"
   },
   {
    "duration": 3,
    "start_time": "2021-11-16T11:03:07.835Z"
   },
   {
    "duration": 3,
    "start_time": "2021-11-16T11:03:07.953Z"
   },
   {
    "duration": 112,
    "start_time": "2021-11-16T11:07:52.072Z"
   },
   {
    "duration": 187,
    "start_time": "2021-11-16T11:09:23.468Z"
   },
   {
    "duration": 4,
    "start_time": "2021-11-16T11:10:01.455Z"
   },
   {
    "duration": 3,
    "start_time": "2021-11-16T11:10:05.069Z"
   },
   {
    "duration": 4,
    "start_time": "2021-11-16T11:10:13.376Z"
   },
   {
    "duration": 3,
    "start_time": "2021-11-16T11:10:14.434Z"
   },
   {
    "duration": 3,
    "start_time": "2021-11-16T11:10:22.853Z"
   },
   {
    "duration": 4,
    "start_time": "2021-11-16T11:27:29.279Z"
   },
   {
    "duration": 4,
    "start_time": "2021-11-16T11:29:08.919Z"
   },
   {
    "duration": 118,
    "start_time": "2021-11-16T11:29:46.703Z"
   },
   {
    "duration": 437,
    "start_time": "2021-11-16T11:36:02.181Z"
   },
   {
    "duration": 157,
    "start_time": "2021-11-16T11:36:14.388Z"
   },
   {
    "duration": 207,
    "start_time": "2021-11-16T11:47:15.898Z"
   },
   {
    "duration": 3,
    "start_time": "2021-11-16T11:53:52.092Z"
   },
   {
    "duration": 3,
    "start_time": "2021-11-16T11:53:52.236Z"
   },
   {
    "duration": 3,
    "start_time": "2021-11-16T11:59:12.005Z"
   },
   {
    "duration": 112,
    "start_time": "2021-11-16T12:00:33.446Z"
   },
   {
    "duration": 3,
    "start_time": "2021-11-16T12:02:14.453Z"
   },
   {
    "duration": 3,
    "start_time": "2021-11-16T12:02:39.512Z"
   },
   {
    "duration": 106,
    "start_time": "2021-11-16T12:03:03.460Z"
   },
   {
    "duration": 3,
    "start_time": "2021-11-17T20:37:21.139Z"
   },
   {
    "duration": 3,
    "start_time": "2021-11-17T20:37:22.229Z"
   },
   {
    "duration": 3,
    "start_time": "2021-11-17T20:38:38.806Z"
   },
   {
    "duration": 3,
    "start_time": "2021-11-17T20:38:41.958Z"
   },
   {
    "duration": 3,
    "start_time": "2021-11-17T20:43:46.551Z"
   },
   {
    "duration": 4,
    "start_time": "2021-11-17T20:58:21.835Z"
   },
   {
    "duration": 3,
    "start_time": "2021-11-17T20:59:21.872Z"
   },
   {
    "duration": 4,
    "start_time": "2021-11-17T20:59:45.352Z"
   },
   {
    "duration": 4,
    "start_time": "2021-11-17T20:59:49.646Z"
   },
   {
    "duration": 159,
    "start_time": "2021-11-17T21:02:26.949Z"
   },
   {
    "duration": 3,
    "start_time": "2021-11-17T21:03:53.461Z"
   },
   {
    "duration": 3,
    "start_time": "2021-11-17T21:03:53.694Z"
   },
   {
    "duration": 3,
    "start_time": "2021-11-17T21:05:28.145Z"
   },
   {
    "duration": 116,
    "start_time": "2021-11-17T21:05:57.787Z"
   },
   {
    "duration": 3,
    "start_time": "2021-11-17T21:06:37.993Z"
   },
   {
    "duration": 3,
    "start_time": "2021-11-17T21:06:38.261Z"
   },
   {
    "duration": 3,
    "start_time": "2021-11-17T21:11:54.358Z"
   },
   {
    "duration": 3,
    "start_time": "2021-11-17T21:12:43.846Z"
   },
   {
    "duration": 4,
    "start_time": "2021-11-17T21:13:08.773Z"
   },
   {
    "duration": 3,
    "start_time": "2021-11-17T21:14:44.441Z"
   },
   {
    "duration": 3,
    "start_time": "2021-11-17T21:15:42.059Z"
   },
   {
    "duration": 4,
    "start_time": "2021-11-17T21:15:51.995Z"
   },
   {
    "duration": 3,
    "start_time": "2021-11-17T21:15:53.923Z"
   },
   {
    "duration": 3,
    "start_time": "2021-11-17T21:15:55.282Z"
   },
   {
    "duration": 3,
    "start_time": "2021-11-17T21:16:28.492Z"
   },
   {
    "duration": 3,
    "start_time": "2021-11-17T21:16:32.603Z"
   },
   {
    "duration": 3,
    "start_time": "2021-11-17T21:17:06.941Z"
   },
   {
    "duration": 98,
    "start_time": "2021-11-17T21:18:05.733Z"
   },
   {
    "duration": 4,
    "start_time": "2021-11-17T21:21:35.255Z"
   },
   {
    "duration": 3,
    "start_time": "2021-11-17T21:21:37.804Z"
   },
   {
    "duration": 4,
    "start_time": "2021-11-17T21:23:06.071Z"
   },
   {
    "duration": 3,
    "start_time": "2021-11-17T21:23:24.799Z"
   },
   {
    "duration": 3,
    "start_time": "2021-11-17T21:23:32.591Z"
   },
   {
    "duration": 98,
    "start_time": "2021-11-17T21:28:31.559Z"
   },
   {
    "duration": 3,
    "start_time": "2021-11-17T21:28:45.448Z"
   },
   {
    "duration": 3,
    "start_time": "2021-11-17T21:29:17.303Z"
   },
   {
    "duration": 3,
    "start_time": "2021-11-17T21:29:29.617Z"
   },
   {
    "duration": 3,
    "start_time": "2021-11-17T21:29:32.681Z"
   },
   {
    "duration": 3,
    "start_time": "2021-11-17T21:36:11.474Z"
   },
   {
    "duration": 3,
    "start_time": "2021-11-17T21:36:14.791Z"
   },
   {
    "duration": 3,
    "start_time": "2021-11-17T21:36:53.943Z"
   },
   {
    "duration": 3,
    "start_time": "2021-11-17T21:36:56.165Z"
   },
   {
    "duration": 4,
    "start_time": "2021-11-17T21:37:16.590Z"
   },
   {
    "duration": 3,
    "start_time": "2021-11-17T21:37:22.702Z"
   },
   {
    "duration": 4,
    "start_time": "2021-11-17T21:38:03.479Z"
   },
   {
    "duration": 3,
    "start_time": "2021-11-17T21:38:08.601Z"
   },
   {
    "duration": 3,
    "start_time": "2021-11-17T21:38:12.928Z"
   },
   {
    "duration": 3,
    "start_time": "2021-11-17T21:38:48.896Z"
   },
   {
    "duration": 2,
    "start_time": "2021-11-17T21:38:49.171Z"
   },
   {
    "duration": 4,
    "start_time": "2021-11-17T21:39:57.889Z"
   },
   {
    "duration": 3,
    "start_time": "2021-11-17T21:39:58.057Z"
   },
   {
    "duration": 3,
    "start_time": "2021-11-17T21:41:20.108Z"
   },
   {
    "duration": 3,
    "start_time": "2021-11-17T21:41:20.629Z"
   },
   {
    "duration": 3,
    "start_time": "2021-11-17T21:42:49.136Z"
   },
   {
    "duration": 3,
    "start_time": "2021-11-17T21:43:15.137Z"
   },
   {
    "duration": 4,
    "start_time": "2021-11-17T21:43:16.766Z"
   },
   {
    "duration": 4,
    "start_time": "2021-11-17T21:43:31.711Z"
   },
   {
    "duration": 3,
    "start_time": "2021-11-17T21:43:36.312Z"
   },
   {
    "duration": 4,
    "start_time": "2021-11-17T21:45:08.825Z"
   },
   {
    "duration": 4,
    "start_time": "2021-11-17T21:45:10.119Z"
   },
   {
    "duration": 4,
    "start_time": "2021-11-17T21:45:13.748Z"
   },
   {
    "duration": 3,
    "start_time": "2021-11-17T21:45:22.219Z"
   },
   {
    "duration": 3,
    "start_time": "2021-11-17T21:45:33.412Z"
   },
   {
    "duration": 2,
    "start_time": "2021-11-17T21:46:01.885Z"
   },
   {
    "duration": 3,
    "start_time": "2021-11-17T21:46:03.628Z"
   },
   {
    "duration": 107,
    "start_time": "2021-11-17T21:47:32.512Z"
   },
   {
    "duration": 103,
    "start_time": "2021-11-17T21:50:36.243Z"
   },
   {
    "duration": 3,
    "start_time": "2021-11-18T06:28:31.440Z"
   },
   {
    "duration": 3,
    "start_time": "2021-11-18T06:29:00.168Z"
   },
   {
    "duration": 3,
    "start_time": "2021-11-18T06:31:27.008Z"
   },
   {
    "duration": 2,
    "start_time": "2021-11-18T06:35:34.288Z"
   },
   {
    "duration": 2,
    "start_time": "2021-11-18T06:38:04.527Z"
   }
  ],
  "kernelspec": {
   "display_name": "Python 3 (ipykernel)",
   "language": "python",
   "name": "python3"
  },
  "language_info": {
   "codemirror_mode": {
    "name": "ipython",
    "version": 3
   },
   "file_extension": ".py",
   "mimetype": "text/x-python",
   "name": "python",
   "nbconvert_exporter": "python",
   "pygments_lexer": "ipython3",
   "version": "3.9.23"
  },
  "toc": {
   "base_numbering": 1,
   "nav_menu": {},
   "number_sections": true,
   "sideBar": true,
   "skip_h1_title": false,
   "title_cell": "Table of Contents",
   "title_sidebar": "Contents",
   "toc_cell": false,
   "toc_position": {},
   "toc_section_display": true,
   "toc_window_display": true
  }
 },
 "nbformat": 4,
 "nbformat_minor": 4
}
